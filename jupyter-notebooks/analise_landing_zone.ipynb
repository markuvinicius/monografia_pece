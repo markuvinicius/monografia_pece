{
 "cells": [
  {
   "cell_type": "code",
   "execution_count": 1,
   "metadata": {},
   "outputs": [
    {
     "name": "stdout",
     "output_type": "stream",
     "text": [
      "Collecting pip\n",
      "\u001b[?25l  Downloading https://files.pythonhosted.org/packages/d8/f3/413bab4ff08e1fc4828dfc59996d721917df8e8583ea85385d51125dceff/pip-19.0.3-py2.py3-none-any.whl (1.4MB)\n",
      "\u001b[K    100% |████████████████████████████████| 1.4MB 5.0MB/s \n",
      "\u001b[?25hInstalling collected packages: pip\n",
      "  Found existing installation: pip 19.0.2\n",
      "    Uninstalling pip-19.0.2:\n",
      "      Successfully uninstalled pip-19.0.2\n",
      "Successfully installed pip-19.0.3\n",
      "Collecting pymongo\n",
      "\u001b[?25l  Downloading https://files.pythonhosted.org/packages/99/18/b50834fbfd557eaf07985c2a657b03efc691462ecba62d03e32c2fc4f640/pymongo-3.7.2-cp37-cp37m-manylinux1_x86_64.whl (406kB)\n",
      "\u001b[K    100% |████████████████████████████████| 409kB 6.1MB/s \n",
      "\u001b[?25hInstalling collected packages: pymongo\n",
      "Successfully installed pymongo-3.7.2\n",
      "Collecting wordcloud\n",
      "\u001b[?25l  Downloading https://files.pythonhosted.org/packages/be/fe/4e718808c7bfb641e8964c2e40a6ae2a51c74ea493a6701b89ba417bc769/wordcloud-1.5.0-cp37-cp37m-manylinux1_x86_64.whl (361kB)\n",
      "\u001b[K    100% |████████████████████████████████| 368kB 8.9MB/s \n",
      "\u001b[?25hCollecting numpy>=1.6.1 (from wordcloud)\n",
      "\u001b[?25l  Downloading https://files.pythonhosted.org/packages/91/e7/6c780e612d245cca62bc3ba8e263038f7c144a96a54f877f3714a0e8427e/numpy-1.16.2-cp37-cp37m-manylinux1_x86_64.whl (17.3MB)\n",
      "\u001b[K    100% |████████████████████████████████| 17.3MB 731kB/s \n",
      "\u001b[?25hCollecting pillow (from wordcloud)\n",
      "\u001b[?25l  Downloading https://files.pythonhosted.org/packages/ae/2a/0a0ab2833e5270664fb5fae590717f867ac6319b124160c09f1d3291de28/Pillow-5.4.1-cp37-cp37m-manylinux1_x86_64.whl (2.0MB)\n",
      "\u001b[K    100% |████████████████████████████████| 2.0MB 12.7MB/s \n",
      "\u001b[?25hInstalling collected packages: numpy, pillow, wordcloud\n",
      "Successfully installed numpy-1.16.2 pillow-5.4.1 wordcloud-1.5.0\n",
      "Collecting pandas\n",
      "\u001b[?25l  Downloading https://files.pythonhosted.org/packages/c0/f7/7fd96f43d84a22d068fc999f2ae27f677be4c9501441f5b7870b75842fa4/pandas-0.24.1-cp37-cp37m-manylinux1_x86_64.whl (10.1MB)\n",
      "\u001b[K    100% |████████████████████████████████| 10.1MB 3.7MB/s \n",
      "\u001b[?25hCollecting pytz>=2011k (from pandas)\n",
      "\u001b[?25l  Downloading https://files.pythonhosted.org/packages/61/28/1d3920e4d1d50b19bc5d24398a7cd85cc7b9a75a490570d5a30c57622d34/pytz-2018.9-py2.py3-none-any.whl (510kB)\n",
      "\u001b[K    100% |████████████████████████████████| 512kB 4.5MB/s \n",
      "\u001b[?25hRequirement already satisfied: python-dateutil>=2.5.0 in /opt/conda/lib/python3.7/site-packages (from pandas) (2.8.0)\n",
      "Requirement already satisfied: numpy>=1.12.0 in /opt/conda/lib/python3.7/site-packages (from pandas) (1.16.2)\n",
      "Requirement already satisfied: six>=1.5 in /opt/conda/lib/python3.7/site-packages (from python-dateutil>=2.5.0->pandas) (1.12.0)\n",
      "Installing collected packages: pytz, pandas\n",
      "Successfully installed pandas-0.24.1 pytz-2018.9\n",
      "Collecting matplotlib\n",
      "\u001b[?25l  Downloading https://files.pythonhosted.org/packages/83/2a/e47bbd9396af32376863a426baed62d9bf3091f81defd1fe81c5f33b11a3/matplotlib-3.0.3-cp37-cp37m-manylinux1_x86_64.whl (13.0MB)\n",
      "\u001b[K    100% |████████████████████████████████| 13.0MB 2.6MB/s \n",
      "\u001b[?25hCollecting kiwisolver>=1.0.1 (from matplotlib)\n",
      "\u001b[?25l  Downloading https://files.pythonhosted.org/packages/5c/7e/d6cae2f241ba474a2665f24b480bf4e247036d63939dda2bbc4d2ee5069d/kiwisolver-1.0.1-cp37-cp37m-manylinux1_x86_64.whl (89kB)\n",
      "\u001b[K    100% |████████████████████████████████| 92kB 19.1MB/s \n",
      "\u001b[?25hCollecting cycler>=0.10 (from matplotlib)\n",
      "  Downloading https://files.pythonhosted.org/packages/f7/d2/e07d3ebb2bd7af696440ce7e754c59dd546ffe1bbe732c8ab68b9c834e61/cycler-0.10.0-py2.py3-none-any.whl\n",
      "Requirement already satisfied: python-dateutil>=2.1 in /opt/conda/lib/python3.7/site-packages (from matplotlib) (2.8.0)\n",
      "Requirement already satisfied: numpy>=1.10.0 in /opt/conda/lib/python3.7/site-packages (from matplotlib) (1.16.2)\n",
      "Collecting pyparsing!=2.0.4,!=2.1.2,!=2.1.6,>=2.0.1 (from matplotlib)\n",
      "\u001b[?25l  Downloading https://files.pythonhosted.org/packages/de/0a/001be530836743d8be6c2d85069f46fecf84ac6c18c7f5fb8125ee11d854/pyparsing-2.3.1-py2.py3-none-any.whl (61kB)\n",
      "\u001b[K    100% |████████████████████████████████| 71kB 10.4MB/s \n",
      "\u001b[?25hRequirement already satisfied: setuptools in /opt/conda/lib/python3.7/site-packages (from kiwisolver>=1.0.1->matplotlib) (40.8.0)\n",
      "Requirement already satisfied: six in /opt/conda/lib/python3.7/site-packages (from cycler>=0.10->matplotlib) (1.12.0)\n",
      "Installing collected packages: kiwisolver, cycler, pyparsing, matplotlib\n",
      "Successfully installed cycler-0.10.0 kiwisolver-1.0.1 matplotlib-3.0.3 pyparsing-2.3.1\n",
      "Collecting nltk\n",
      "\u001b[?25l  Downloading https://files.pythonhosted.org/packages/6f/ed/9c755d357d33bc1931e157f537721efb5b88d2c583fe593cc09603076cc3/nltk-3.4.zip (1.4MB)\n",
      "\u001b[K    100% |████████████████████████████████| 1.4MB 12.0MB/s \n",
      "\u001b[?25hRequirement already satisfied, skipping upgrade: six in /opt/conda/lib/python3.7/site-packages (from nltk) (1.12.0)\n",
      "Collecting singledispatch (from nltk)\n",
      "  Downloading https://files.pythonhosted.org/packages/c5/10/369f50bcd4621b263927b0a1519987a04383d4a98fb10438042ad410cf88/singledispatch-3.4.0.3-py2.py3-none-any.whl\n",
      "Building wheels for collected packages: nltk\n",
      "  Building wheel for nltk (setup.py) ... \u001b[?25ldone\n",
      "\u001b[?25h  Stored in directory: /home/jovyan/.cache/pip/wheels/4b/c8/24/b2343664bcceb7147efeb21c0b23703a05b23fcfeaceaa2a1e\n",
      "Successfully built nltk\n",
      "Installing collected packages: singledispatch, nltk\n",
      "Successfully installed nltk-3.4 singledispatch-3.4.0.3\n"
     ]
    }
   ],
   "source": [
    "!pip install --upgrade pip\n",
    "!pip install pymongo\n",
    "!pip install wordcloud\n",
    "!pip install pandas\n",
    "!pip install matplotlib\n",
    "!pip install -U nltk"
   ]
  },
  {
   "cell_type": "code",
   "execution_count": 3,
   "metadata": {},
   "outputs": [
    {
     "name": "stderr",
     "output_type": "stream",
     "text": [
      "[nltk_data] Downloading package stopwords to /home/jovyan/nltk_data...\n",
      "[nltk_data]   Package stopwords is already up-to-date!\n"
     ]
    },
    {
     "data": {
      "text/plain": [
       "True"
      ]
     },
     "execution_count": 3,
     "metadata": {},
     "output_type": "execute_result"
    }
   ],
   "source": [
    "from pymongo import MongoClient\n",
    "import pandas as pd\n",
    "from os import path\n",
    "from PIL import Image\n",
    "from wordcloud import WordCloud, STOPWORDS, ImageColorGenerator\n",
    "import re\n",
    "import nltk\n",
    "\n",
    "from nltk.tokenize import TreebankWordTokenizer\n",
    "from nltk.corpus import stopwords\n",
    "from nltk.stem import SnowballStemmer\n",
    "\n",
    "import matplotlib.pyplot as plt\n",
    "%matplotlib inline\n",
    "\n",
    "nltk.download('stopwords')"
   ]
  },
  {
   "cell_type": "code",
   "execution_count": 10,
   "metadata": {},
   "outputs": [],
   "source": [
    "def _connect_mongo(host, port, username, password, db):\n",
    "    \"\"\" A util for making a connection to mongo \"\"\"\n",
    "\n",
    "    if username and password:\n",
    "        mongo_uri = 'mongodb://%s:%s@%s:%s/%s' % (username, password, host, port, db)\n",
    "        conn = MongoClient(mongo_uri)\n",
    "    else:\n",
    "        conn = MongoClient(host, port)\n",
    "\n",
    "\n",
    "    return conn[db]\n",
    "\n",
    "\n",
    "def read_mongo(db, collection, query={}, host='ds145639.mlab.com', port='45639', username='collector', password='collector123', no_id=True):\n",
    "    \"\"\" Read from Mongo and Store into DataFrame \"\"\"\n",
    "\n",
    "    # Connect to MongoDB\n",
    "    db = _connect_mongo(host=host, port=port, username=username, password=password, db=db)\n",
    "\n",
    "    # Make a query to the specific DB and Collection\n",
    "    cursor = db[collection].find(query)\n",
    "\n",
    "    # Expand the cursor and construct the DataFrame\n",
    "    df =  pd.DataFrame(list(cursor))\n",
    "\n",
    "    # Delete the _id\n",
    "    #if no_id:\n",
    "    #    del df['_id']\n",
    "\n",
    "    return df\n"
   ]
  },
  {
   "cell_type": "code",
   "execution_count": 11,
   "metadata": {},
   "outputs": [
    {
     "data": {
      "text/html": [
       "<div>\n",
       "<style scoped>\n",
       "    .dataframe tbody tr th:only-of-type {\n",
       "        vertical-align: middle;\n",
       "    }\n",
       "\n",
       "    .dataframe tbody tr th {\n",
       "        vertical-align: top;\n",
       "    }\n",
       "\n",
       "    .dataframe thead th {\n",
       "        text-align: right;\n",
       "    }\n",
       "</style>\n",
       "<table border=\"1\" class=\"dataframe\">\n",
       "  <thead>\n",
       "    <tr style=\"text-align: right;\">\n",
       "      <th></th>\n",
       "      <th>_id</th>\n",
       "      <th>coordinates</th>\n",
       "      <th>data</th>\n",
       "      <th>geo</th>\n",
       "      <th>hashtags</th>\n",
       "      <th>id</th>\n",
       "      <th>lang</th>\n",
       "      <th>location</th>\n",
       "      <th>place</th>\n",
       "      <th>quoted</th>\n",
       "      <th>retweeted</th>\n",
       "      <th>texto</th>\n",
       "      <th>urls</th>\n",
       "      <th>user_mentions</th>\n",
       "      <th>usuario</th>\n",
       "    </tr>\n",
       "  </thead>\n",
       "  <tbody>\n",
       "    <tr>\n",
       "      <th>0</th>\n",
       "      <td>5c74434d8796370b2cfc8118</td>\n",
       "      <td>None</td>\n",
       "      <td>Mon Feb 25 19:34:32 +0000 2019</td>\n",
       "      <td>None</td>\n",
       "      <td>[]</td>\n",
       "      <td>1100116855048626181</td>\n",
       "      <td>pt</td>\n",
       "      <td>Penha, São Paulo</td>\n",
       "      <td>{'id': '68e019afec7d0ba5', 'url': 'https://api...</td>\n",
       "      <td>False</td>\n",
       "      <td>False</td>\n",
       "      <td>@CETSP_ rua Canguaretama, altura do 45 solicit...</td>\n",
       "      <td>[{'url': 'https://t.co/3JzWP68MKd', 'expanded_...</td>\n",
       "      <td>[{'screen_name': 'CETSP_', 'name': 'CET São Pa...</td>\n",
       "      <td>Depdiego</td>\n",
       "    </tr>\n",
       "    <tr>\n",
       "      <th>1</th>\n",
       "      <td>5c79798b8796370b2cfc858a</td>\n",
       "      <td>None</td>\n",
       "      <td>Fri Mar 01 18:26:40 +0000 2019</td>\n",
       "      <td>None</td>\n",
       "      <td>[]</td>\n",
       "      <td>1101549329851011073</td>\n",
       "      <td>pt</td>\n",
       "      <td>São Paulo, Brasil</td>\n",
       "      <td>None</td>\n",
       "      <td>False</td>\n",
       "      <td>False</td>\n",
       "      <td>@CETSP_  1 semana sem semáforo funcionado ou a...</td>\n",
       "      <td>[]</td>\n",
       "      <td>[{'screen_name': 'CETSP_', 'name': 'CET São Pa...</td>\n",
       "      <td>AndSidou</td>\n",
       "    </tr>\n",
       "    <tr>\n",
       "      <th>2</th>\n",
       "      <td>5c7979cf8796370b2cfc858c</td>\n",
       "      <td>None</td>\n",
       "      <td>Fri Mar 01 18:28:25 +0000 2019</td>\n",
       "      <td>None</td>\n",
       "      <td>[]</td>\n",
       "      <td>1101549770676547584</td>\n",
       "      <td>pt</td>\n",
       "      <td>Sampa</td>\n",
       "      <td>None</td>\n",
       "      <td>False</td>\n",
       "      <td>False</td>\n",
       "      <td>@DetranSP , me tira uma dúvida? Existe no Códi...</td>\n",
       "      <td>[{'url': 'https://t.co/wCa5474W6U', 'expanded_...</td>\n",
       "      <td>[{'screen_name': 'DetranSP', 'name': 'Detran S...</td>\n",
       "      <td>juhiromi</td>\n",
       "    </tr>\n",
       "    <tr>\n",
       "      <th>3</th>\n",
       "      <td>5c797c698796370b2cfc85ad</td>\n",
       "      <td>None</td>\n",
       "      <td>Fri Mar 01 18:39:32 +0000 2019</td>\n",
       "      <td>None</td>\n",
       "      <td>[]</td>\n",
       "      <td>1101552565332987916</td>\n",
       "      <td>pt</td>\n",
       "      <td>São Paulo, Brasil</td>\n",
       "      <td>None</td>\n",
       "      <td>False</td>\n",
       "      <td>False</td>\n",
       "      <td>@_ecovias Alguma explicação do pq a alça de ac...</td>\n",
       "      <td>[{'url': 'https://t.co/yxhLM7zJpg', 'expanded_...</td>\n",
       "      <td>[{'screen_name': '_ecovias', 'name': 'Ecovias'...</td>\n",
       "      <td>fogaovermelho</td>\n",
       "    </tr>\n",
       "    <tr>\n",
       "      <th>4</th>\n",
       "      <td>5c797d038796370b2cfc85b1</td>\n",
       "      <td>None</td>\n",
       "      <td>Fri Mar 01 18:42:06 +0000 2019</td>\n",
       "      <td>None</td>\n",
       "      <td>[{'text': 'VilaEsperança', 'indices': [55, 69]...</td>\n",
       "      <td>1101553212304302082</td>\n",
       "      <td>pt</td>\n",
       "      <td>São Paulo - SP</td>\n",
       "      <td>None</td>\n",
       "      <td>False</td>\n",
       "      <td>False</td>\n",
       "      <td>Esquema especial de trânsito será montado na r...</td>\n",
       "      <td>[{'url': 'https://t.co/NHG8SPxUHF', 'expanded_...</td>\n",
       "      <td>[]</td>\n",
       "      <td>CETSP_</td>\n",
       "    </tr>\n",
       "  </tbody>\n",
       "</table>\n",
       "</div>"
      ],
      "text/plain": [
       "                        _id coordinates                            data   geo  \\\n",
       "0  5c74434d8796370b2cfc8118        None  Mon Feb 25 19:34:32 +0000 2019  None   \n",
       "1  5c79798b8796370b2cfc858a        None  Fri Mar 01 18:26:40 +0000 2019  None   \n",
       "2  5c7979cf8796370b2cfc858c        None  Fri Mar 01 18:28:25 +0000 2019  None   \n",
       "3  5c797c698796370b2cfc85ad        None  Fri Mar 01 18:39:32 +0000 2019  None   \n",
       "4  5c797d038796370b2cfc85b1        None  Fri Mar 01 18:42:06 +0000 2019  None   \n",
       "\n",
       "                                            hashtags                   id  \\\n",
       "0                                                 []  1100116855048626181   \n",
       "1                                                 []  1101549329851011073   \n",
       "2                                                 []  1101549770676547584   \n",
       "3                                                 []  1101552565332987916   \n",
       "4  [{'text': 'VilaEsperança', 'indices': [55, 69]...  1101553212304302082   \n",
       "\n",
       "  lang           location                                              place  \\\n",
       "0   pt   Penha, São Paulo  {'id': '68e019afec7d0ba5', 'url': 'https://api...   \n",
       "1   pt  São Paulo, Brasil                                               None   \n",
       "2   pt              Sampa                                               None   \n",
       "3   pt  São Paulo, Brasil                                               None   \n",
       "4   pt     São Paulo - SP                                               None   \n",
       "\n",
       "   quoted  retweeted                                              texto  \\\n",
       "0   False      False  @CETSP_ rua Canguaretama, altura do 45 solicit...   \n",
       "1   False      False  @CETSP_  1 semana sem semáforo funcionado ou a...   \n",
       "2   False      False  @DetranSP , me tira uma dúvida? Existe no Códi...   \n",
       "3   False      False  @_ecovias Alguma explicação do pq a alça de ac...   \n",
       "4   False      False  Esquema especial de trânsito será montado na r...   \n",
       "\n",
       "                                                urls  \\\n",
       "0  [{'url': 'https://t.co/3JzWP68MKd', 'expanded_...   \n",
       "1                                                 []   \n",
       "2  [{'url': 'https://t.co/wCa5474W6U', 'expanded_...   \n",
       "3  [{'url': 'https://t.co/yxhLM7zJpg', 'expanded_...   \n",
       "4  [{'url': 'https://t.co/NHG8SPxUHF', 'expanded_...   \n",
       "\n",
       "                                       user_mentions        usuario  \n",
       "0  [{'screen_name': 'CETSP_', 'name': 'CET São Pa...       Depdiego  \n",
       "1  [{'screen_name': 'CETSP_', 'name': 'CET São Pa...       AndSidou  \n",
       "2  [{'screen_name': 'DetranSP', 'name': 'Detran S...       juhiromi  \n",
       "3  [{'screen_name': '_ecovias', 'name': 'Ecovias'...  fogaovermelho  \n",
       "4                                                 []         CETSP_  "
      ]
     },
     "execution_count": 11,
     "metadata": {},
     "output_type": "execute_result"
    }
   ],
   "source": [
    "query = {'$and': [ {'retweeted':False}, {'quoted':False},{'lang':\"pt\"},\n",
    "                                         {'$or': [ \n",
    "                                             {'texto':{'$regex':u'acidente'}},                                             \n",
    "                                             {'texto':{'$regex':u'colisao'}},\n",
    "                                             {'texto':{'$regex':u'colisão'}},\n",
    "                                             {'texto':{'$regex':u'capotamento'}},\n",
    "                                             {'texto':{'$regex':u'batida'}},                        \n",
    "                                             {'texto':{'$regex':u'trânsito'}},\n",
    "                                             {'texto':{'$regex':u'choque'}},\n",
    "                                             {'texto':{'$regex':u'engavetamento'}},\n",
    "                                             {'texto':{'$regex':u'motoqueiro'}},\n",
    "                                             {'texto':{'$regex':u'motocicleta'}},\n",
    "                                             {'texto':{'$regex':u'sinistro'}},\n",
    "                                             {'texto':{'$regex':u'desastre'}},\n",
    "                                             {'texto':{'$regex':u'incidente'}},\n",
    "                                             {'texto':{'$regex':u'veículo'}}\n",
    "                                        ]}]}\n",
    "\n",
    "people = read_mongo('landing_zone','people_data',query=query)\n",
    "posts = read_mongo('landing_zone','posts_data',query=query)\n",
    "full_data = people.append(posts)\n",
    "\n",
    "full_data.head(5)"
   ]
  },
  {
   "cell_type": "code",
   "execution_count": 12,
   "metadata": {},
   "outputs": [
    {
     "name": "stdout",
     "output_type": "stream",
     "text": [
      "A quantidade total de registros é: 19291\n"
     ]
    }
   ],
   "source": [
    "print(\"A quantidade total de registros é: {}\".format(len(full_data)))"
   ]
  },
  {
   "cell_type": "code",
   "execution_count": 13,
   "metadata": {},
   "outputs": [],
   "source": [
    "import dateutil.parser"
   ]
  },
  {
   "cell_type": "code",
   "execution_count": 14,
   "metadata": {},
   "outputs": [],
   "source": [
    "datetime_str = \"Fri Feb 15 19:00:03 +0000 2019\"  # Datestring in ISO 8601 format\n",
    "some_datetime_obj = dateutil.parser.parse(datetime_str)"
   ]
  },
  {
   "cell_type": "code",
   "execution_count": 15,
   "metadata": {},
   "outputs": [
    {
     "name": "stdout",
     "output_type": "stream",
     "text": [
      "2019-02-15 19:00:03+00:00\n"
     ]
    }
   ],
   "source": [
    "print(some_datetime_obj)"
   ]
  },
  {
   "cell_type": "code",
   "execution_count": 16,
   "metadata": {},
   "outputs": [],
   "source": [
    "def remove_urls(text):\n",
    "    return re.sub(r'https?:\\/\\/.*[\\r\\n]*', '', text)\n",
    "\n",
    "def to_lower(text):\n",
    "    return text.lower()\n",
    "\n",
    "format_date_time = lambda s: dateutil.parser.parse(datetime_str)\n",
    "get_month = lambda d: d.month\n",
    "get_day = lambda d: d.day"
   ]
  },
  {
   "cell_type": "code",
   "execution_count": 17,
   "metadata": {},
   "outputs": [],
   "source": [
    "full_data['formatted_date'] = full_data['data'].apply(func=lambda string: dateutil.parser.parse(string))\n",
    "full_data['mes'] = full_data['formatted_date'].apply(func=lambda date: date.month)\n",
    "full_data['dia'] = full_data['formatted_date'].apply(func=lambda date: date.day)\n",
    "full_data['ano'] = full_data['formatted_date'].apply(func=lambda date: date.year)\n",
    "full_data['hora'] = full_data['formatted_date'].apply(func=lambda date: date.hour)\n",
    "full_data['minuto'] = full_data['formatted_date'].apply(func=lambda date: date.minute)\n",
    "\n",
    "full_data['texto_formatado'] = full_data['texto'].apply(lambda t: remove_urls(str(t)))\n",
    "full_data['texto_formatado'] = full_data['texto_formatado'].apply(lambda t: to_lower(t))"
   ]
  },
  {
   "cell_type": "code",
   "execution_count": 18,
   "metadata": {},
   "outputs": [
    {
     "data": {
      "text/html": [
       "<div>\n",
       "<style scoped>\n",
       "    .dataframe tbody tr th:only-of-type {\n",
       "        vertical-align: middle;\n",
       "    }\n",
       "\n",
       "    .dataframe tbody tr th {\n",
       "        vertical-align: top;\n",
       "    }\n",
       "\n",
       "    .dataframe thead th {\n",
       "        text-align: right;\n",
       "    }\n",
       "</style>\n",
       "<table border=\"1\" class=\"dataframe\">\n",
       "  <thead>\n",
       "    <tr style=\"text-align: right;\">\n",
       "      <th></th>\n",
       "      <th>texto_formatado</th>\n",
       "      <th>tokens</th>\n",
       "    </tr>\n",
       "  </thead>\n",
       "  <tbody>\n",
       "    <tr>\n",
       "      <th>0</th>\n",
       "      <td>@cetsp_ rua canguaretama, altura do 45 solicit...</td>\n",
       "      <td>[@, cetsp_, rua, canguaretama, ,, altura, do, ...</td>\n",
       "    </tr>\n",
       "    <tr>\n",
       "      <th>1</th>\n",
       "      <td>@cetsp_  1 semana sem semáforo funcionado ou a...</td>\n",
       "      <td>[@, cetsp_, 1, semana, sem, semáforo, funciona...</td>\n",
       "    </tr>\n",
       "    <tr>\n",
       "      <th>2</th>\n",
       "      <td>@detransp , me tira uma dúvida? existe no códi...</td>\n",
       "      <td>[@, detransp, ,, me, tira, uma, dúvida, ?, exi...</td>\n",
       "    </tr>\n",
       "    <tr>\n",
       "      <th>3</th>\n",
       "      <td>@_ecovias alguma explicação do pq a alça de ac...</td>\n",
       "      <td>[@, _ecovias, alguma, explicação, do, pq, a, a...</td>\n",
       "    </tr>\n",
       "    <tr>\n",
       "      <th>4</th>\n",
       "      <td>esquema especial de trânsito será montado na r...</td>\n",
       "      <td>[esquema, especial, de, trânsito, será, montad...</td>\n",
       "    </tr>\n",
       "  </tbody>\n",
       "</table>\n",
       "</div>"
      ],
      "text/plain": [
       "                                     texto_formatado  \\\n",
       "0  @cetsp_ rua canguaretama, altura do 45 solicit...   \n",
       "1  @cetsp_  1 semana sem semáforo funcionado ou a...   \n",
       "2  @detransp , me tira uma dúvida? existe no códi...   \n",
       "3  @_ecovias alguma explicação do pq a alça de ac...   \n",
       "4  esquema especial de trânsito será montado na r...   \n",
       "\n",
       "                                              tokens  \n",
       "0  [@, cetsp_, rua, canguaretama, ,, altura, do, ...  \n",
       "1  [@, cetsp_, 1, semana, sem, semáforo, funciona...  \n",
       "2  [@, detransp, ,, me, tira, uma, dúvida, ?, exi...  \n",
       "3  [@, _ecovias, alguma, explicação, do, pq, a, a...  \n",
       "4  [esquema, especial, de, trânsito, será, montad...  "
      ]
     },
     "execution_count": 18,
     "metadata": {},
     "output_type": "execute_result"
    }
   ],
   "source": [
    "tokenizer = TreebankWordTokenizer()\n",
    "full_data['tokens'] = full_data['texto_formatado'].apply(lambda t: tokenizer.tokenize(t))\n",
    "full_data[['texto_formatado','tokens']].head()"
   ]
  },
  {
   "cell_type": "code",
   "execution_count": 19,
   "metadata": {},
   "outputs": [
    {
     "data": {
      "text/plain": [
       "19291"
      ]
     },
     "execution_count": 19,
     "metadata": {},
     "output_type": "execute_result"
    }
   ],
   "source": [
    "len(full_data)"
   ]
  },
  {
   "cell_type": "code",
   "execution_count": 20,
   "metadata": {},
   "outputs": [
    {
     "data": {
      "text/html": [
       "<div>\n",
       "<style scoped>\n",
       "    .dataframe tbody tr th:only-of-type {\n",
       "        vertical-align: middle;\n",
       "    }\n",
       "\n",
       "    .dataframe tbody tr th {\n",
       "        vertical-align: top;\n",
       "    }\n",
       "\n",
       "    .dataframe thead th {\n",
       "        text-align: right;\n",
       "    }\n",
       "</style>\n",
       "<table border=\"1\" class=\"dataframe\">\n",
       "  <thead>\n",
       "    <tr style=\"text-align: right;\">\n",
       "      <th></th>\n",
       "      <th>tokens</th>\n",
       "      <th>words</th>\n",
       "    </tr>\n",
       "  </thead>\n",
       "  <tbody>\n",
       "    <tr>\n",
       "      <th>0</th>\n",
       "      <td>[@, cetsp_, rua, canguaretama, ,, altura, do, ...</td>\n",
       "      <td>[cetsp_, rua, canguaretama, altura, 45, solici...</td>\n",
       "    </tr>\n",
       "    <tr>\n",
       "      <th>1</th>\n",
       "      <td>[@, cetsp_, 1, semana, sem, semáforo, funciona...</td>\n",
       "      <td>[cetsp_, 1, semana, semáforo, funcionado, agen...</td>\n",
       "    </tr>\n",
       "    <tr>\n",
       "      <th>2</th>\n",
       "      <td>[@, detransp, ,, me, tira, uma, dúvida, ?, exi...</td>\n",
       "      <td>[detransp, tira, dúvida, existe, código, trâns...</td>\n",
       "    </tr>\n",
       "    <tr>\n",
       "      <th>3</th>\n",
       "      <td>[@, _ecovias, alguma, explicação, do, pq, a, a...</td>\n",
       "      <td>[_ecovias, alguma, explicação, pq, alça, acess...</td>\n",
       "    </tr>\n",
       "    <tr>\n",
       "      <th>4</th>\n",
       "      <td>[esquema, especial, de, trânsito, será, montad...</td>\n",
       "      <td>[esquema, especial, trânsito, montado, região,...</td>\n",
       "    </tr>\n",
       "    <tr>\n",
       "      <th>5</th>\n",
       "      <td>[que, situação, !, -, na, rua, barão, do, pira...</td>\n",
       "      <td>[situação, rua, barão, piraí, 278, vila, prude...</td>\n",
       "    </tr>\n",
       "    <tr>\n",
       "      <th>6</th>\n",
       "      <td>[acidente, entre, quatro, veículos, na]</td>\n",
       "      <td>[acidente, quatro, veículos]</td>\n",
       "    </tr>\n",
       "    <tr>\n",
       "      <th>7</th>\n",
       "      <td>[estradas, -, a, pista, lateral, da, rodovia, ...</td>\n",
       "      <td>[estradas, pista, lateral, rodovia, ayrton, se...</td>\n",
       "    </tr>\n",
       "    <tr>\n",
       "      <th>8</th>\n",
       "      <td>[o, trânsito, será, monitorado, na, #, zc, ,, ...</td>\n",
       "      <td>[trânsito, monitorado, zc, sábado, 02, terça, ...</td>\n",
       "    </tr>\n",
       "    <tr>\n",
       "      <th>9</th>\n",
       "      <td>[⚽, embate, entre, @, corinthians, x, @, racin...</td>\n",
       "      <td>[⚽, embate, corinthians, x, racingclub, sudame...</td>\n",
       "    </tr>\n",
       "  </tbody>\n",
       "</table>\n",
       "</div>"
      ],
      "text/plain": [
       "                                              tokens  \\\n",
       "0  [@, cetsp_, rua, canguaretama, ,, altura, do, ...   \n",
       "1  [@, cetsp_, 1, semana, sem, semáforo, funciona...   \n",
       "2  [@, detransp, ,, me, tira, uma, dúvida, ?, exi...   \n",
       "3  [@, _ecovias, alguma, explicação, do, pq, a, a...   \n",
       "4  [esquema, especial, de, trânsito, será, montad...   \n",
       "5  [que, situação, !, -, na, rua, barão, do, pira...   \n",
       "6            [acidente, entre, quatro, veículos, na]   \n",
       "7  [estradas, -, a, pista, lateral, da, rodovia, ...   \n",
       "8  [o, trânsito, será, monitorado, na, #, zc, ,, ...   \n",
       "9  [⚽, embate, entre, @, corinthians, x, @, racin...   \n",
       "\n",
       "                                               words  \n",
       "0  [cetsp_, rua, canguaretama, altura, 45, solici...  \n",
       "1  [cetsp_, 1, semana, semáforo, funcionado, agen...  \n",
       "2  [detransp, tira, dúvida, existe, código, trâns...  \n",
       "3  [_ecovias, alguma, explicação, pq, alça, acess...  \n",
       "4  [esquema, especial, trânsito, montado, região,...  \n",
       "5  [situação, rua, barão, piraí, 278, vila, prude...  \n",
       "6                       [acidente, quatro, veículos]  \n",
       "7  [estradas, pista, lateral, rodovia, ayrton, se...  \n",
       "8  [trânsito, monitorado, zc, sábado, 02, terça, ...  \n",
       "9  [⚽, embate, corinthians, x, racingclub, sudame...  "
      ]
     },
     "execution_count": 20,
     "metadata": {},
     "output_type": "execute_result"
    }
   ],
   "source": [
    "def create_stopword_list():\n",
    "    portuguese_stops = set(stopwords.words('portuguese'))\n",
    "    portuguese_stops.add('rt')\n",
    "\n",
    "    with open('punctuation.txt','r+') as punct_file:\n",
    "        puncts = punct_file.readlines()\n",
    "\n",
    "    for item in puncts:    \n",
    "        portuguese_stops.add(item.strip())\n",
    "        \n",
    "    return portuguese_stops\n",
    "\n",
    "stop_w = create_stopword_list()\n",
    "\n",
    "#aplica a remocao de stop-words\n",
    "full_data['words'] = full_data['tokens'].apply(lambda w: [word for word in w if word not in stop_w]) \n",
    "#exibe resultado intermediario\n",
    "full_data[['tokens','words']].head(10)"
   ]
  },
  {
   "cell_type": "code",
   "execution_count": 21,
   "metadata": {},
   "outputs": [],
   "source": [
    "full_data['clean_text'] = full_data['words'].apply(lambda t: str(' '.join(t)))"
   ]
  },
  {
   "cell_type": "code",
   "execution_count": 22,
   "metadata": {},
   "outputs": [
    {
     "data": {
      "image/png": "[encoded data removed]",
      "text/plain": [
       "<Figure size 432x288 with 1 Axes>"
      ]
     },
     "metadata": {
      "needs_background": "light"
     },
     "output_type": "display_data"
    }
   ],
   "source": [
    "# Start with one review:\n",
    "text = 'processamento dos dados requer potentes plataformas de hardware, com alta escalabilidade e desempenho'\n",
    "text = \" \".join(texto for texto in full_data.clean_text)\n",
    "#print(text)\n",
    "\n",
    "# Create and generate a word cloud image:\n",
    "wordcloud = WordCloud(background_color=\"white\").generate(text)\n",
    "plt.figure()\n",
    "plt.imshow(wordcloud, interpolation=\"bilinear\")\n",
    "plt.axis(\"off\")\n",
    "plt.figsize=[500,500]\n",
    "#plt.figure(figsize=[10,10])\n",
    "#plt.figure(figsize=[20,10])\n",
    "#plt.show()"
   ]
  },
  {
   "cell_type": "code",
   "execution_count": 23,
   "metadata": {},
   "outputs": [],
   "source": [
    "dias = full_data.groupby(['dia']).count()['_id']"
   ]
  },
  {
   "cell_type": "code",
   "execution_count": 24,
   "metadata": {},
   "outputs": [
    {
     "data": {
      "text/plain": [
       "<matplotlib.axes._subplots.AxesSubplot at 0x7f26714eafd0>"
      ]
     },
     "execution_count": 24,
     "metadata": {},
     "output_type": "execute_result"
    },
    {
     "data": {
      "image/png": "[encoded data removed]",
      "text/plain": [
       "<Figure size 432x288 with 1 Axes>"
      ]
     },
     "metadata": {
      "needs_background": "light"
     },
     "output_type": "display_data"
    }
   ],
   "source": [
    "dias.plot(kind='bar')"
   ]
  },
  {
   "cell_type": "code",
   "execution_count": 56,
   "metadata": {},
   "outputs": [
    {
     "data": {
      "text/plain": [
       "6254619"
      ]
     },
     "execution_count": 56,
     "metadata": {},
     "output_type": "execute_result"
    }
   ],
   "source": [
    "file = open('words','w+')\n",
    "file.write(text)"
   ]
  },
  {
   "cell_type": "code",
   "execution_count": null,
   "metadata": {},
   "outputs": [],
   "source": []
  }
 ],
 "metadata": {
  "kernelspec": {
   "display_name": "Python 3",
   "language": "python",
   "name": "python3"
  },
  "language_info": {
   "codemirror_mode": {
    "name": "ipython",
    "version": 3
   },
   "file_extension": ".py",
   "mimetype": "text/x-python",
   "name": "python",
   "nbconvert_exporter": "python",
   "pygments_lexer": "ipython3",
   "version": "3.7.2"
  }
 },
 "nbformat": 4,
 "nbformat_minor": 2
}
