{
 "cells": [
  {
   "cell_type": "code",
   "execution_count": 15,
   "metadata": {},
   "outputs": [
    {
     "name": "stdout",
     "output_type": "stream",
     "text": [
      "Requirement already up-to-date: pip in /opt/conda/lib/python3.7/site-packages (19.0.3)\n",
      "Requirement already satisfied: pymongo in /opt/conda/lib/python3.7/site-packages (3.7.2)\n",
      "Requirement already satisfied: wordcloud in /opt/conda/lib/python3.7/site-packages (1.5.0)\n",
      "Requirement already satisfied: numpy>=1.6.1 in /opt/conda/lib/python3.7/site-packages (from wordcloud) (1.16.2)\n",
      "Requirement already satisfied: pillow in /opt/conda/lib/python3.7/site-packages (from wordcloud) (5.4.1)\n",
      "Requirement already satisfied: pandas in /opt/conda/lib/python3.7/site-packages (0.24.1)\n",
      "Requirement already satisfied: numpy>=1.12.0 in /opt/conda/lib/python3.7/site-packages (from pandas) (1.16.2)\n",
      "Requirement already satisfied: python-dateutil>=2.5.0 in /opt/conda/lib/python3.7/site-packages (from pandas) (2.8.0)\n",
      "Requirement already satisfied: pytz>=2011k in /opt/conda/lib/python3.7/site-packages (from pandas) (2018.9)\n",
      "Requirement already satisfied: six>=1.5 in /opt/conda/lib/python3.7/site-packages (from python-dateutil>=2.5.0->pandas) (1.12.0)\n",
      "Requirement already satisfied: matplotlib in /opt/conda/lib/python3.7/site-packages (3.0.2)\n",
      "Requirement already satisfied: cycler>=0.10 in /opt/conda/lib/python3.7/site-packages (from matplotlib) (0.10.0)\n",
      "Requirement already satisfied: numpy>=1.10.0 in /opt/conda/lib/python3.7/site-packages (from matplotlib) (1.16.2)\n",
      "Requirement already satisfied: kiwisolver>=1.0.1 in /opt/conda/lib/python3.7/site-packages (from matplotlib) (1.0.1)\n",
      "Requirement already satisfied: pyparsing!=2.0.4,!=2.1.2,!=2.1.6,>=2.0.1 in /opt/conda/lib/python3.7/site-packages (from matplotlib) (2.3.1)\n",
      "Requirement already satisfied: python-dateutil>=2.1 in /opt/conda/lib/python3.7/site-packages (from matplotlib) (2.8.0)\n",
      "Requirement already satisfied: six in /opt/conda/lib/python3.7/site-packages (from cycler>=0.10->matplotlib) (1.12.0)\n",
      "Requirement already satisfied: setuptools in /opt/conda/lib/python3.7/site-packages (from kiwisolver>=1.0.1->matplotlib) (40.8.0)\n",
      "Requirement already up-to-date: nltk in /opt/conda/lib/python3.7/site-packages (3.4)\n",
      "Requirement already satisfied, skipping upgrade: six in /opt/conda/lib/python3.7/site-packages (from nltk) (1.12.0)\n",
      "Requirement already satisfied, skipping upgrade: singledispatch in /opt/conda/lib/python3.7/site-packages (from nltk) (3.4.0.3)\n"
     ]
    }
   ],
   "source": [
    "!pip install --upgrade pip\n",
    "!pip install pymongo\n",
    "!pip install wordcloud\n",
    "!pip install pandas\n",
    "!pip install matplotlib\n",
    "!pip install -U nltk"
   ]
  },
  {
   "cell_type": "code",
   "execution_count": 22,
   "metadata": {},
   "outputs": [
    {
     "name": "stderr",
     "output_type": "stream",
     "text": [
      "[nltk_data] Downloading package stopwords to /home/jovyan/nltk_data...\n",
      "[nltk_data]   Unzipping corpora/stopwords.zip.\n"
     ]
    },
    {
     "data": {
      "text/plain": [
       "True"
      ]
     },
     "execution_count": 22,
     "metadata": {},
     "output_type": "execute_result"
    }
   ],
   "source": [
    "from pymongo import MongoClient\n",
    "import pandas as pd\n",
    "from os import path\n",
    "from PIL import Image\n",
    "from wordcloud import WordCloud, STOPWORDS, ImageColorGenerator\n",
    "import re\n",
    "import nltk\n",
    "\n",
    "from nltk.tokenize import TreebankWordTokenizer\n",
    "from nltk.corpus import stopwords\n",
    "from nltk.stem import SnowballStemmer\n",
    "\n",
    "import matplotlib.pyplot as plt\n",
    "%matplotlib inline\n",
    "\n",
    "nltk.download('stopwords')"
   ]
  },
  {
   "cell_type": "code",
   "execution_count": 3,
   "metadata": {},
   "outputs": [],
   "source": [
    "def _connect_mongo(host, port, username, password, db):\n",
    "    \"\"\" A util for making a connection to mongo \"\"\"\n",
    "\n",
    "    if username and password:\n",
    "        mongo_uri = 'mongodb://%s:%s@%s:%s/%s' % (username, password, host, port, db)\n",
    "        conn = MongoClient(mongo_uri)\n",
    "    else:\n",
    "        conn = MongoClient(host, port)\n",
    "\n",
    "\n",
    "    return conn[db]\n",
    "\n",
    "\n",
    "def read_mongo(db, collection, query={}, host='ds145639.mlab.com', port='45639', username='collector', password='collector123', no_id=True):\n",
    "    \"\"\" Read from Mongo and Store into DataFrame \"\"\"\n",
    "\n",
    "    # Connect to MongoDB\n",
    "    db = _connect_mongo(host=host, port=port, username=username, password=password, db=db)\n",
    "\n",
    "    # Make a query to the specific DB and Collection\n",
    "    cursor = db[collection].find()\n",
    "\n",
    "    # Expand the cursor and construct the DataFrame\n",
    "    df =  pd.DataFrame(list(cursor))\n",
    "\n",
    "    # Delete the _id\n",
    "    #if no_id:\n",
    "    #    del df['_id']\n",
    "\n",
    "    return df\n"
   ]
  },
  {
   "cell_type": "code",
   "execution_count": 4,
   "metadata": {},
   "outputs": [
    {
     "data": {
      "text/html": [
       "<div>\n",
       "<style scoped>\n",
       "    .dataframe tbody tr th:only-of-type {\n",
       "        vertical-align: middle;\n",
       "    }\n",
       "\n",
       "    .dataframe tbody tr th {\n",
       "        vertical-align: top;\n",
       "    }\n",
       "\n",
       "    .dataframe thead th {\n",
       "        text-align: right;\n",
       "    }\n",
       "</style>\n",
       "<table border=\"1\" class=\"dataframe\">\n",
       "  <thead>\n",
       "    <tr style=\"text-align: right;\">\n",
       "      <th></th>\n",
       "      <th>_id</th>\n",
       "      <th>coordinates</th>\n",
       "      <th>data</th>\n",
       "      <th>geo</th>\n",
       "      <th>hashtags</th>\n",
       "      <th>id</th>\n",
       "      <th>lang</th>\n",
       "      <th>location</th>\n",
       "      <th>place</th>\n",
       "      <th>quoted</th>\n",
       "      <th>retweeted</th>\n",
       "      <th>texto</th>\n",
       "      <th>urls</th>\n",
       "      <th>user_mentions</th>\n",
       "      <th>usuario</th>\n",
       "    </tr>\n",
       "  </thead>\n",
       "  <tbody>\n",
       "    <tr>\n",
       "      <th>0</th>\n",
       "      <td>5c6d9cf587963719cb193f84</td>\n",
       "      <td>None</td>\n",
       "      <td>Wed Feb 20 18:31:12 +0000 2019</td>\n",
       "      <td>None</td>\n",
       "      <td>[]</td>\n",
       "      <td>1098288978099425281</td>\n",
       "      <td>pt</td>\n",
       "      <td>São Paulo</td>\n",
       "      <td>None</td>\n",
       "      <td>False</td>\n",
       "      <td>False</td>\n",
       "      <td>@sergioalberto40 @governosp Boa tarde @sergioa...</td>\n",
       "      <td>[{'url': 'https://t.co/Ik1bkKwV3F', 'expanded_...</td>\n",
       "      <td>[{'screen_name': 'sergioalberto40', 'name': 'S...</td>\n",
       "      <td>DetranSP</td>\n",
       "    </tr>\n",
       "    <tr>\n",
       "      <th>1</th>\n",
       "      <td>5c6fc51c8796370b2cfc7fb2</td>\n",
       "      <td>None</td>\n",
       "      <td>Fri Feb 22 09:47:03 +0000 2019</td>\n",
       "      <td>None</td>\n",
       "      <td>[]</td>\n",
       "      <td>1098881846094581760</td>\n",
       "      <td>pt</td>\n",
       "      <td>None</td>\n",
       "      <td>None</td>\n",
       "      <td>False</td>\n",
       "      <td>False</td>\n",
       "      <td>@CETSP_ @PMESP @prefsp @Estadao Não há nenhum ...</td>\n",
       "      <td>[{'url': 'https://t.co/0kk8Vd9sUX', 'expanded_...</td>\n",
       "      <td>[{'screen_name': 'CETSP_', 'name': 'CET São Pa...</td>\n",
       "      <td>morumbi_will</td>\n",
       "    </tr>\n",
       "    <tr>\n",
       "      <th>2</th>\n",
       "      <td>5c702b228796370b2cfc7fca</td>\n",
       "      <td>None</td>\n",
       "      <td>Fri Feb 22 17:02:21 +0000 2019</td>\n",
       "      <td>None</td>\n",
       "      <td>[]</td>\n",
       "      <td>1098991394960691200</td>\n",
       "      <td>pt</td>\n",
       "      <td>None</td>\n",
       "      <td>{'id': '68e019afec7d0ba5', 'url': 'https://api...</td>\n",
       "      <td>False</td>\n",
       "      <td>False</td>\n",
       "      <td>@PMESP Parabéns ao cão e ao seu guia, agora ma...</td>\n",
       "      <td>[{'url': 'https://t.co/B19oKpQtbg', 'expanded_...</td>\n",
       "      <td>[{'screen_name': 'PMESP', 'name': 'POLÍCIA MIL...</td>\n",
       "      <td>UlissysdeOlivei</td>\n",
       "    </tr>\n",
       "    <tr>\n",
       "      <th>3</th>\n",
       "      <td>5c703ae08796370b2cfc7ff3</td>\n",
       "      <td>None</td>\n",
       "      <td>Fri Feb 22 18:09:30 +0000 2019</td>\n",
       "      <td>None</td>\n",
       "      <td>[]</td>\n",
       "      <td>1099008294545473536</td>\n",
       "      <td>pt</td>\n",
       "      <td>None</td>\n",
       "      <td>{'id': 'd9d978b087a92583', 'url': 'https://api...</td>\n",
       "      <td>False</td>\n",
       "      <td>False</td>\n",
       "      <td>@OficialBHTRANS vocês não respondem, mas vou i...</td>\n",
       "      <td>[{'url': 'https://t.co/Xyblvea0Hh', 'expanded_...</td>\n",
       "      <td>[{'screen_name': 'OficialBHTRANS', 'name': 'Of...</td>\n",
       "      <td>VictorVillafort</td>\n",
       "    </tr>\n",
       "    <tr>\n",
       "      <th>4</th>\n",
       "      <td>5c74434d8796370b2cfc8118</td>\n",
       "      <td>None</td>\n",
       "      <td>Mon Feb 25 19:34:32 +0000 2019</td>\n",
       "      <td>None</td>\n",
       "      <td>[]</td>\n",
       "      <td>1100116855048626181</td>\n",
       "      <td>pt</td>\n",
       "      <td>Penha, São Paulo</td>\n",
       "      <td>{'id': '68e019afec7d0ba5', 'url': 'https://api...</td>\n",
       "      <td>False</td>\n",
       "      <td>False</td>\n",
       "      <td>@CETSP_ rua Canguaretama, altura do 45 solicit...</td>\n",
       "      <td>[{'url': 'https://t.co/3JzWP68MKd', 'expanded_...</td>\n",
       "      <td>[{'screen_name': 'CETSP_', 'name': 'CET São Pa...</td>\n",
       "      <td>Depdiego</td>\n",
       "    </tr>\n",
       "  </tbody>\n",
       "</table>\n",
       "</div>"
      ],
      "text/plain": [
       "                        _id coordinates                            data   geo  \\\n",
       "0  5c6d9cf587963719cb193f84        None  Wed Feb 20 18:31:12 +0000 2019  None   \n",
       "1  5c6fc51c8796370b2cfc7fb2        None  Fri Feb 22 09:47:03 +0000 2019  None   \n",
       "2  5c702b228796370b2cfc7fca        None  Fri Feb 22 17:02:21 +0000 2019  None   \n",
       "3  5c703ae08796370b2cfc7ff3        None  Fri Feb 22 18:09:30 +0000 2019  None   \n",
       "4  5c74434d8796370b2cfc8118        None  Mon Feb 25 19:34:32 +0000 2019  None   \n",
       "\n",
       "  hashtags                   id lang          location  \\\n",
       "0       []  1098288978099425281   pt         São Paulo   \n",
       "1       []  1098881846094581760   pt              None   \n",
       "2       []  1098991394960691200   pt              None   \n",
       "3       []  1099008294545473536   pt              None   \n",
       "4       []  1100116855048626181   pt  Penha, São Paulo   \n",
       "\n",
       "                                               place  quoted  retweeted  \\\n",
       "0                                               None   False      False   \n",
       "1                                               None   False      False   \n",
       "2  {'id': '68e019afec7d0ba5', 'url': 'https://api...   False      False   \n",
       "3  {'id': 'd9d978b087a92583', 'url': 'https://api...   False      False   \n",
       "4  {'id': '68e019afec7d0ba5', 'url': 'https://api...   False      False   \n",
       "\n",
       "                                               texto  \\\n",
       "0  @sergioalberto40 @governosp Boa tarde @sergioa...   \n",
       "1  @CETSP_ @PMESP @prefsp @Estadao Não há nenhum ...   \n",
       "2  @PMESP Parabéns ao cão e ao seu guia, agora ma...   \n",
       "3  @OficialBHTRANS vocês não respondem, mas vou i...   \n",
       "4  @CETSP_ rua Canguaretama, altura do 45 solicit...   \n",
       "\n",
       "                                                urls  \\\n",
       "0  [{'url': 'https://t.co/Ik1bkKwV3F', 'expanded_...   \n",
       "1  [{'url': 'https://t.co/0kk8Vd9sUX', 'expanded_...   \n",
       "2  [{'url': 'https://t.co/B19oKpQtbg', 'expanded_...   \n",
       "3  [{'url': 'https://t.co/Xyblvea0Hh', 'expanded_...   \n",
       "4  [{'url': 'https://t.co/3JzWP68MKd', 'expanded_...   \n",
       "\n",
       "                                       user_mentions          usuario  \n",
       "0  [{'screen_name': 'sergioalberto40', 'name': 'S...         DetranSP  \n",
       "1  [{'screen_name': 'CETSP_', 'name': 'CET São Pa...     morumbi_will  \n",
       "2  [{'screen_name': 'PMESP', 'name': 'POLÍCIA MIL...  UlissysdeOlivei  \n",
       "3  [{'screen_name': 'OficialBHTRANS', 'name': 'Of...  VictorVillafort  \n",
       "4  [{'screen_name': 'CETSP_', 'name': 'CET São Pa...         Depdiego  "
      ]
     },
     "execution_count": 4,
     "metadata": {},
     "output_type": "execute_result"
    }
   ],
   "source": [
    "people = read_mongo('landing_zone','people_data',query={})\n",
    "posts = read_mongo('landing_zone','posts_data',query={})\n",
    "full_data = people.append(posts)\n",
    "\n",
    "full_data.head(5)"
   ]
  },
  {
   "cell_type": "code",
   "execution_count": 5,
   "metadata": {},
   "outputs": [],
   "source": [
    "import dateutil.parser"
   ]
  },
  {
   "cell_type": "code",
   "execution_count": 6,
   "metadata": {},
   "outputs": [],
   "source": [
    "datetime_str = \"Fri Feb 15 19:00:03 +0000 2019\"  # Datestring in ISO 8601 format\n",
    "some_datetime_obj = dateutil.parser.parse(datetime_str)"
   ]
  },
  {
   "cell_type": "code",
   "execution_count": 7,
   "metadata": {},
   "outputs": [
    {
     "name": "stdout",
     "output_type": "stream",
     "text": [
      "2019-02-15 19:00:03+00:00\n"
     ]
    }
   ],
   "source": [
    "print(some_datetime_obj)"
   ]
  },
  {
   "cell_type": "code",
   "execution_count": 16,
   "metadata": {},
   "outputs": [],
   "source": [
    "def remove_urls(text):\n",
    "    return re.sub(r'https?:\\/\\/.*[\\r\\n]*', '', text)\n",
    "\n",
    "def to_lower(text):\n",
    "    return text.lower()\n",
    "\n",
    "format_date_time = lambda s: dateutil.parser.parse(datetime_str)\n",
    "get_month = lambda d: d.month\n",
    "get_day = lambda d: d.day"
   ]
  },
  {
   "cell_type": "code",
   "execution_count": 19,
   "metadata": {},
   "outputs": [],
   "source": [
    "full_data['formatted_date'] = full_data['data'].apply(func=lambda string: dateutil.parser.parse(string))\n",
    "full_data['mes'] = full_data['formatted_date'].apply(func=lambda date: date.month)\n",
    "full_data['dia'] = full_data['formatted_date'].apply(func=lambda date: date.day)\n",
    "full_data['ano'] = full_data['formatted_date'].apply(func=lambda date: date.year)\n",
    "full_data['hora'] = full_data['formatted_date'].apply(func=lambda date: date.hour)\n",
    "full_data['minuto'] = full_data['formatted_date'].apply(func=lambda date: date.minute)\n",
    "\n",
    "full_data['texto_formatado'] = full_data['texto'].apply(lambda t: remove_urls(str(t)))\n",
    "full_data['texto_formatado'] = full_data['texto_formatado'].apply(lambda t: to_lower(t))"
   ]
  },
  {
   "cell_type": "code",
   "execution_count": 20,
   "metadata": {},
   "outputs": [
    {
     "data": {
      "text/html": [
       "<div>\n",
       "<style scoped>\n",
       "    .dataframe tbody tr th:only-of-type {\n",
       "        vertical-align: middle;\n",
       "    }\n",
       "\n",
       "    .dataframe tbody tr th {\n",
       "        vertical-align: top;\n",
       "    }\n",
       "\n",
       "    .dataframe thead th {\n",
       "        text-align: right;\n",
       "    }\n",
       "</style>\n",
       "<table border=\"1\" class=\"dataframe\">\n",
       "  <thead>\n",
       "    <tr style=\"text-align: right;\">\n",
       "      <th></th>\n",
       "      <th>texto_formatado</th>\n",
       "      <th>tokens</th>\n",
       "    </tr>\n",
       "  </thead>\n",
       "  <tbody>\n",
       "    <tr>\n",
       "      <th>0</th>\n",
       "      <td>@sergioalberto40 @governosp boa tarde @sergioa...</td>\n",
       "      <td>[@, sergioalberto40, @, governosp, boa, tarde,...</td>\n",
       "    </tr>\n",
       "    <tr>\n",
       "      <th>1</th>\n",
       "      <td>@cetsp_ @pmesp @prefsp @estadao não há nenhum ...</td>\n",
       "      <td>[@, cetsp_, @, pmesp, @, prefsp, @, estadao, n...</td>\n",
       "    </tr>\n",
       "    <tr>\n",
       "      <th>2</th>\n",
       "      <td>@pmesp parabéns ao cão e ao seu guia, agora ma...</td>\n",
       "      <td>[@, pmesp, parabéns, ao, cão, e, ao, seu, guia...</td>\n",
       "    </tr>\n",
       "    <tr>\n",
       "      <th>3</th>\n",
       "      <td>@oficialbhtrans vocês não respondem, mas vou i...</td>\n",
       "      <td>[@, oficialbhtrans, vocês, não, respondem, ,, ...</td>\n",
       "    </tr>\n",
       "    <tr>\n",
       "      <th>4</th>\n",
       "      <td>@cetsp_ rua canguaretama, altura do 45 solicit...</td>\n",
       "      <td>[@, cetsp_, rua, canguaretama, ,, altura, do, ...</td>\n",
       "    </tr>\n",
       "  </tbody>\n",
       "</table>\n",
       "</div>"
      ],
      "text/plain": [
       "                                     texto_formatado  \\\n",
       "0  @sergioalberto40 @governosp boa tarde @sergioa...   \n",
       "1  @cetsp_ @pmesp @prefsp @estadao não há nenhum ...   \n",
       "2  @pmesp parabéns ao cão e ao seu guia, agora ma...   \n",
       "3  @oficialbhtrans vocês não respondem, mas vou i...   \n",
       "4  @cetsp_ rua canguaretama, altura do 45 solicit...   \n",
       "\n",
       "                                              tokens  \n",
       "0  [@, sergioalberto40, @, governosp, boa, tarde,...  \n",
       "1  [@, cetsp_, @, pmesp, @, prefsp, @, estadao, n...  \n",
       "2  [@, pmesp, parabéns, ao, cão, e, ao, seu, guia...  \n",
       "3  [@, oficialbhtrans, vocês, não, respondem, ,, ...  \n",
       "4  [@, cetsp_, rua, canguaretama, ,, altura, do, ...  "
      ]
     },
     "execution_count": 20,
     "metadata": {},
     "output_type": "execute_result"
    }
   ],
   "source": [
    "tokenizer = TreebankWordTokenizer()\n",
    "full_data['tokens'] = full_data['texto_formatado'].apply(lambda t: tokenizer.tokenize(t))\n",
    "full_data[['texto_formatado','tokens']].head()"
   ]
  },
  {
   "cell_type": "code",
   "execution_count": 11,
   "metadata": {},
   "outputs": [
    {
     "data": {
      "text/plain": [
       "70265"
      ]
     },
     "execution_count": 11,
     "metadata": {},
     "output_type": "execute_result"
    }
   ],
   "source": [
    "len(full_data)"
   ]
  },
  {
   "cell_type": "code",
   "execution_count": 23,
   "metadata": {},
   "outputs": [
    {
     "data": {
      "text/html": [
       "<div>\n",
       "<style scoped>\n",
       "    .dataframe tbody tr th:only-of-type {\n",
       "        vertical-align: middle;\n",
       "    }\n",
       "\n",
       "    .dataframe tbody tr th {\n",
       "        vertical-align: top;\n",
       "    }\n",
       "\n",
       "    .dataframe thead th {\n",
       "        text-align: right;\n",
       "    }\n",
       "</style>\n",
       "<table border=\"1\" class=\"dataframe\">\n",
       "  <thead>\n",
       "    <tr style=\"text-align: right;\">\n",
       "      <th></th>\n",
       "      <th>tokens</th>\n",
       "      <th>words</th>\n",
       "    </tr>\n",
       "  </thead>\n",
       "  <tbody>\n",
       "    <tr>\n",
       "      <th>0</th>\n",
       "      <td>[@, sergioalberto40, @, governosp, boa, tarde,...</td>\n",
       "      <td>[sergioalberto40, governosp, boa, tarde, sergi...</td>\n",
       "    </tr>\n",
       "    <tr>\n",
       "      <th>1</th>\n",
       "      <td>[@, cetsp_, @, pmesp, @, prefsp, @, estadao, n...</td>\n",
       "      <td>[cetsp_, pmesp, prefsp, estadao, nenhum, ofici...</td>\n",
       "    </tr>\n",
       "    <tr>\n",
       "      <th>2</th>\n",
       "      <td>[@, pmesp, parabéns, ao, cão, e, ao, seu, guia...</td>\n",
       "      <td>[pmesp, parabéns, cão, guia, agora, nunca, ent...</td>\n",
       "    </tr>\n",
       "    <tr>\n",
       "      <th>3</th>\n",
       "      <td>[@, oficialbhtrans, vocês, não, respondem, ,, ...</td>\n",
       "      <td>[oficialbhtrans, respondem, vou, insistir., fl...</td>\n",
       "    </tr>\n",
       "    <tr>\n",
       "      <th>4</th>\n",
       "      <td>[@, cetsp_, rua, canguaretama, ,, altura, do, ...</td>\n",
       "      <td>[cetsp_, rua, canguaretama, altura, 45, solici...</td>\n",
       "    </tr>\n",
       "    <tr>\n",
       "      <th>5</th>\n",
       "      <td>[@, radiotransitofm, @, toffolettocatia, @, ra...</td>\n",
       "      <td>[radiotransitofm, toffolettocatia, radiobandne...</td>\n",
       "    </tr>\n",
       "    <tr>\n",
       "      <th>6</th>\n",
       "      <td>[@, cetsp_, parabens, a, @, cetsp_, pela, info...</td>\n",
       "      <td>[cetsp_, parabens, cetsp_, informacao, agil., ...</td>\n",
       "    </tr>\n",
       "    <tr>\n",
       "      <th>7</th>\n",
       "      <td>[⚽, embate, entre, @, corinthians, x, @, racin...</td>\n",
       "      <td>[⚽, embate, corinthians, x, racingclub, sudame...</td>\n",
       "    </tr>\n",
       "    <tr>\n",
       "      <th>8</th>\n",
       "      <td>[@, cetsp_, @, corinthians, @, racingclub, @, ...</td>\n",
       "      <td>[cetsp_, corinthians, racingclub, sudamericana...</td>\n",
       "    </tr>\n",
       "    <tr>\n",
       "      <th>9</th>\n",
       "      <td>[@, cetsp_, bom, dia, ,, mais, uma, vez, o, fa...</td>\n",
       "      <td>[cetsp_, bom, dia, vez, farol, problemas, loca...</td>\n",
       "    </tr>\n",
       "  </tbody>\n",
       "</table>\n",
       "</div>"
      ],
      "text/plain": [
       "                                              tokens  \\\n",
       "0  [@, sergioalberto40, @, governosp, boa, tarde,...   \n",
       "1  [@, cetsp_, @, pmesp, @, prefsp, @, estadao, n...   \n",
       "2  [@, pmesp, parabéns, ao, cão, e, ao, seu, guia...   \n",
       "3  [@, oficialbhtrans, vocês, não, respondem, ,, ...   \n",
       "4  [@, cetsp_, rua, canguaretama, ,, altura, do, ...   \n",
       "5  [@, radiotransitofm, @, toffolettocatia, @, ra...   \n",
       "6  [@, cetsp_, parabens, a, @, cetsp_, pela, info...   \n",
       "7  [⚽, embate, entre, @, corinthians, x, @, racin...   \n",
       "8  [@, cetsp_, @, corinthians, @, racingclub, @, ...   \n",
       "9  [@, cetsp_, bom, dia, ,, mais, uma, vez, o, fa...   \n",
       "\n",
       "                                               words  \n",
       "0  [sergioalberto40, governosp, boa, tarde, sergi...  \n",
       "1  [cetsp_, pmesp, prefsp, estadao, nenhum, ofici...  \n",
       "2  [pmesp, parabéns, cão, guia, agora, nunca, ent...  \n",
       "3  [oficialbhtrans, respondem, vou, insistir., fl...  \n",
       "4  [cetsp_, rua, canguaretama, altura, 45, solici...  \n",
       "5  [radiotransitofm, toffolettocatia, radiobandne...  \n",
       "6  [cetsp_, parabens, cetsp_, informacao, agil., ...  \n",
       "7  [⚽, embate, corinthians, x, racingclub, sudame...  \n",
       "8  [cetsp_, corinthians, racingclub, sudamericana...  \n",
       "9  [cetsp_, bom, dia, vez, farol, problemas, loca...  "
      ]
     },
     "execution_count": 23,
     "metadata": {},
     "output_type": "execute_result"
    }
   ],
   "source": [
    "def create_stopword_list():\n",
    "    portuguese_stops = set(stopwords.words('portuguese'))\n",
    "    portuguese_stops.add('rt')\n",
    "\n",
    "    with open('punctuation.txt','r+') as punct_file:\n",
    "        puncts = punct_file.readlines()\n",
    "\n",
    "    for item in puncts:    \n",
    "        portuguese_stops.add(item.strip())\n",
    "        \n",
    "    return portuguese_stops\n",
    "\n",
    "stop_w = create_stopword_list()\n",
    "\n",
    "#aplica a remocao de stop-words\n",
    "full_data['words'] = full_data['tokens'].apply(lambda w: [word for word in w if word not in stop_w]) \n",
    "#exibe resultado intermediario\n",
    "full_data[['tokens','words']].head(10)"
   ]
  },
  {
   "cell_type": "code",
   "execution_count": 24,
   "metadata": {},
   "outputs": [],
   "source": [
    "full_data['clean_text'] = full_data['words'].apply(lambda t: str(' '.join(t)))"
   ]
  },
  {
   "cell_type": "code",
   "execution_count": 53,
   "metadata": {},
   "outputs": [
    {
     "data": {
      "image/png": "[encoded data removed]",
      "text/plain": [
       "<Figure size 432x288 with 1 Axes>"
      ]
     },
     "metadata": {
      "needs_background": "light"
     },
     "output_type": "display_data"
    }
   ],
   "source": [
    "# Start with one review:\n",
    "#text = 'processamento dos dados requer potentes plataformas de hardware, com alta escalabilidade e desempenho'\n",
    "#text = \" \".join(texto for texto in full_data.clean_text)\n",
    "#print(text)\n",
    "\n",
    "# Create and generate a word cloud image:\n",
    "#wordcloud = WordCloud(background_color=\"white\").generate(text)\n",
    "plt.figure()\n",
    "plt.imshow(wordcloud, interpolation=\"bilinear\")\n",
    "plt.axis(\"off\")\n",
    "plt.figsize=[500,500]\n",
    "#plt.figure(figsize=[10,10])\n",
    "#plt.figure(figsize=[20,10])\n",
    "#plt.show()"
   ]
  },
  {
   "cell_type": "code",
   "execution_count": 26,
   "metadata": {},
   "outputs": [],
   "source": [
    "dias = full_data.groupby(['dia']).count()['_id']"
   ]
  },
  {
   "cell_type": "code",
   "execution_count": 28,
   "metadata": {},
   "outputs": [
    {
     "data": {
      "text/plain": [
       "<matplotlib.axes._subplots.AxesSubplot at 0x7fea797e27b8>"
      ]
     },
     "execution_count": 28,
     "metadata": {},
     "output_type": "execute_result"
    },
    {
     "data": {
      "image/png": "[encoded data removed]",
      "text/plain": [
       "<Figure size 432x288 with 1 Axes>"
      ]
     },
     "metadata": {
      "needs_background": "light"
     },
     "output_type": "display_data"
    }
   ],
   "source": [
    "dias.plot(kind='bar')"
   ]
  },
  {
   "cell_type": "code",
   "execution_count": 56,
   "metadata": {},
   "outputs": [
    {
     "data": {
      "text/plain": [
       "6254619"
      ]
     },
     "execution_count": 56,
     "metadata": {},
     "output_type": "execute_result"
    }
   ],
   "source": [
    "file = open('words','w+')\n",
    "file.write(text)"
   ]
  },
  {
   "cell_type": "code",
   "execution_count": null,
   "metadata": {},
   "outputs": [],
   "source": []
  }
 ],
 "metadata": {
  "kernelspec": {
   "display_name": "Python 3",
   "language": "python",
   "name": "python3"
  },
  "language_info": {
   "codemirror_mode": {
    "name": "ipython",
    "version": 3
   },
   "file_extension": ".py",
   "mimetype": "text/x-python",
   "name": "python",
   "nbconvert_exporter": "python",
   "pygments_lexer": "ipython3",
   "version": "3.7.2"
  }
 },
 "nbformat": 4,
 "nbformat_minor": 2
}
