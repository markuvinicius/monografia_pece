{
 "cells": [
  {
   "cell_type": "code",
   "execution_count": 1,
   "metadata": {},
   "outputs": [
    {
     "name": "stdout",
     "output_type": "stream",
     "text": [
      "Collecting pip\n",
      "\u001b[?25l  Downloading https://files.pythonhosted.org/packages/8d/07/f7d7ced2f97ca3098c16565efbe6b15fafcba53e8d9bdb431e09140514b0/pip-19.2.2-py2.py3-none-any.whl (1.4MB)\n",
      "\u001b[K    100% |████████████████████████████████| 1.4MB 2.0MB/s \n",
      "\u001b[?25hInstalling collected packages: pip\n",
      "  Found existing installation: pip 19.0.2\n",
      "    Uninstalling pip-19.0.2:\n",
      "      Successfully uninstalled pip-19.0.2\n",
      "Successfully installed pip-19.2.2\n",
      "Collecting pymongo\n",
      "\u001b[?25l  Downloading https://files.pythonhosted.org/packages/23/23/7666537adafcd232c88c156aa9382c859791d79bf12094005e009c2b6a3d/pymongo-3.9.0-cp37-cp37m-manylinux1_x86_64.whl (447kB)\n",
      "\u001b[K     |████████████████████████████████| 450kB 1.1MB/s \n",
      "\u001b[?25hInstalling collected packages: pymongo\n",
      "Successfully installed pymongo-3.9.0\n",
      "Collecting wordcloud\n",
      "\u001b[?25l  Downloading https://files.pythonhosted.org/packages/be/fe/4e718808c7bfb641e8964c2e40a6ae2a51c74ea493a6701b89ba417bc769/wordcloud-1.5.0-cp37-cp37m-manylinux1_x86_64.whl (361kB)\n",
      "\u001b[K     |████████████████████████████████| 368kB 1.8MB/s \n",
      "\u001b[?25hCollecting numpy>=1.6.1 (from wordcloud)\n",
      "\u001b[?25l  Downloading https://files.pythonhosted.org/packages/05/4b/55cfbfd3e5e85016eeef9f21c0ec809d978706a0d60b62cc28aeec8c792f/numpy-1.17.0-cp37-cp37m-manylinux1_x86_64.whl (20.3MB)\n",
      "\u001b[K     |████████████████████████████████| 20.3MB 292kB/s \n",
      "\u001b[?25hCollecting pillow (from wordcloud)\n",
      "\u001b[?25l  Downloading https://files.pythonhosted.org/packages/a4/da/2bd281c875686230eabc13d20ab590ea617563b0e746abfb0698c4d5b645/Pillow-6.1.0-cp37-cp37m-manylinux1_x86_64.whl (2.1MB)\n",
      "\u001b[K     |████████████████████████████████| 2.1MB 9.2MB/s \n",
      "\u001b[?25hInstalling collected packages: numpy, pillow, wordcloud\n",
      "Successfully installed numpy-1.17.0 pillow-6.1.0 wordcloud-1.5.0\n",
      "Collecting pandas\n",
      "\u001b[?25l  Downloading https://files.pythonhosted.org/packages/3b/42/dc1f4820b95fbdbc9352ec9ad0f0c40db2122e1f2440ea53c7f9fbccf2b8/pandas-0.25.0-cp37-cp37m-manylinux1_x86_64.whl (10.4MB)\n",
      "\u001b[K     |████████████████████████████████| 10.4MB 1.6MB/s \n",
      "\u001b[?25hRequirement already satisfied: python-dateutil>=2.6.1 in /opt/conda/lib/python3.7/site-packages (from pandas) (2.8.0)\n",
      "Requirement already satisfied: numpy>=1.13.3 in /opt/conda/lib/python3.7/site-packages (from pandas) (1.17.0)\n",
      "Collecting pytz>=2017.2 (from pandas)\n",
      "\u001b[?25l  Downloading https://files.pythonhosted.org/packages/87/76/46d697698a143e05f77bec5a526bf4e56a0be61d63425b68f4ba553b51f2/pytz-2019.2-py2.py3-none-any.whl (508kB)\n",
      "\u001b[K     |████████████████████████████████| 512kB 532kB/s \n",
      "\u001b[?25hRequirement already satisfied: six>=1.5 in /opt/conda/lib/python3.7/site-packages (from python-dateutil>=2.6.1->pandas) (1.12.0)\n",
      "Installing collected packages: pytz, pandas\n",
      "Successfully installed pandas-0.25.0 pytz-2019.2\n",
      "Collecting matplotlib\n",
      "\u001b[?25l  Downloading https://files.pythonhosted.org/packages/19/7a/60bd79c5d79559150f8bba866dd7d434f0a170312e4d15e8aefa5faba294/matplotlib-3.1.1-cp37-cp37m-manylinux1_x86_64.whl (13.1MB)\n",
      "\u001b[K     |████████████████████████████████| 13.1MB 1.5MB/s \n",
      "\u001b[?25hCollecting cycler>=0.10 (from matplotlib)\n",
      "  Downloading https://files.pythonhosted.org/packages/f7/d2/e07d3ebb2bd7af696440ce7e754c59dd546ffe1bbe732c8ab68b9c834e61/cycler-0.10.0-py2.py3-none-any.whl\n",
      "Requirement already satisfied: numpy>=1.11 in /opt/conda/lib/python3.7/site-packages (from matplotlib) (1.17.0)\n",
      "Collecting pyparsing!=2.0.4,!=2.1.2,!=2.1.6,>=2.0.1 (from matplotlib)\n",
      "\u001b[?25l  Downloading https://files.pythonhosted.org/packages/11/fa/0160cd525c62d7abd076a070ff02b2b94de589f1a9789774f17d7c54058e/pyparsing-2.4.2-py2.py3-none-any.whl (65kB)\n",
      "\u001b[K     |████████████████████████████████| 71kB 5.7MB/s \n",
      "\u001b[?25hRequirement already satisfied: python-dateutil>=2.1 in /opt/conda/lib/python3.7/site-packages (from matplotlib) (2.8.0)\n",
      "Collecting kiwisolver>=1.0.1 (from matplotlib)\n",
      "\u001b[?25l  Downloading https://files.pythonhosted.org/packages/93/f8/518fb0bb89860eea6ff1b96483fbd9236d5ee991485d0f3eceff1770f654/kiwisolver-1.1.0-cp37-cp37m-manylinux1_x86_64.whl (90kB)\n",
      "\u001b[K     |████████████████████████████████| 92kB 6.6MB/s \n",
      "\u001b[?25hRequirement already satisfied: six in /opt/conda/lib/python3.7/site-packages (from cycler>=0.10->matplotlib) (1.12.0)\n",
      "Requirement already satisfied: setuptools in /opt/conda/lib/python3.7/site-packages (from kiwisolver>=1.0.1->matplotlib) (40.8.0)\n",
      "Installing collected packages: cycler, pyparsing, kiwisolver, matplotlib\n",
      "Successfully installed cycler-0.10.0 kiwisolver-1.1.0 matplotlib-3.1.1 pyparsing-2.4.2\n",
      "Requirement already up-to-date: nltk in /opt/conda/lib/python3.7/site-packages (3.4.4)\n",
      "Requirement already satisfied, skipping upgrade: six in /opt/conda/lib/python3.7/site-packages (from nltk) (1.12.0)\n"
     ]
    }
   ],
   "source": [
    "!pip install --upgrade pip\n",
    "!pip install pymongo\n",
    "!pip install wordcloud\n",
    "!pip install pandas\n",
    "!pip install matplotlib\n",
    "!pip install -U nltk"
   ]
  },
  {
   "cell_type": "code",
   "execution_count": 5,
   "metadata": {},
   "outputs": [
    {
     "name": "stderr",
     "output_type": "stream",
     "text": [
      "[nltk_data] Downloading package stopwords to /home/jovyan/nltk_data...\n",
      "[nltk_data]   Package stopwords is already up-to-date!\n"
     ]
    },
    {
     "data": {
      "text/plain": [
       "True"
      ]
     },
     "execution_count": 5,
     "metadata": {},
     "output_type": "execute_result"
    }
   ],
   "source": [
    "from pymongo import MongoClient\n",
    "import pandas as pd\n",
    "from os import path\n",
    "from PIL import Image\n",
    "from wordcloud import WordCloud, STOPWORDS, ImageColorGenerator\n",
    "import re\n",
    "import nltk\n",
    "\n",
    "from nltk.tokenize import TreebankWordTokenizer\n",
    "from nltk.corpus import stopwords\n",
    "from nltk.stem import SnowballStemmer\n",
    "\n",
    "import matplotlib.pyplot as plt\n",
    "%matplotlib inline\n",
    "\n",
    "nltk.download('stopwords')"
   ]
  },
  {
   "cell_type": "code",
   "execution_count": 6,
   "metadata": {},
   "outputs": [],
   "source": [
    "def _connect_mongo(host, port, username, password, db):\n",
    "    \"\"\" A util for making a connection to mongo \"\"\"\n",
    "\n",
    "    if username and password:\n",
    "        mongo_uri = 'mongodb://%s:%s@%s:%s/%s' % (username, password, host, port, db)\n",
    "        conn = MongoClient(mongo_uri)\n",
    "    else:\n",
    "        conn = MongoClient(host, port)\n",
    "\n",
    "\n",
    "    return conn[db]\n",
    "\n",
    "\n",
    "def read_mongo(db, collection, query={}, host='ds145639.mlab.com', port='45639', username='collector', password='collector123', no_id=True):\n",
    "    \"\"\" Read from Mongo and Store into DataFrame \"\"\"\n",
    "\n",
    "    # Connect to MongoDB\n",
    "    db = _connect_mongo(host=host, port=port, username=username, password=password, db=db)\n",
    "\n",
    "    # Make a query to the specific DB and Collection\n",
    "    cursor = db[collection].find(query)\n",
    "\n",
    "    # Expand the cursor and construct the DataFrame\n",
    "    df =  pd.DataFrame(list(cursor))\n",
    "\n",
    "    # Delete the _id\n",
    "    #if no_id:\n",
    "    #    del df['_id']\n",
    "\n",
    "    return df\n"
   ]
  },
  {
   "cell_type": "code",
   "execution_count": 7,
   "metadata": {},
   "outputs": [
    {
     "data": {
      "text/html": [
       "<div>\n",
       "<style scoped>\n",
       "    .dataframe tbody tr th:only-of-type {\n",
       "        vertical-align: middle;\n",
       "    }\n",
       "\n",
       "    .dataframe tbody tr th {\n",
       "        vertical-align: top;\n",
       "    }\n",
       "\n",
       "    .dataframe thead th {\n",
       "        text-align: right;\n",
       "    }\n",
       "</style>\n",
       "<table border=\"1\" class=\"dataframe\">\n",
       "  <thead>\n",
       "    <tr style=\"text-align: right;\">\n",
       "      <th></th>\n",
       "      <th>_id</th>\n",
       "      <th>id</th>\n",
       "      <th>data</th>\n",
       "      <th>usuario</th>\n",
       "      <th>texto</th>\n",
       "      <th>location</th>\n",
       "      <th>lang</th>\n",
       "      <th>geo</th>\n",
       "      <th>coordinates</th>\n",
       "      <th>place</th>\n",
       "      <th>hashtags</th>\n",
       "      <th>urls</th>\n",
       "      <th>user_mentions</th>\n",
       "      <th>retweeted</th>\n",
       "      <th>quoted</th>\n",
       "    </tr>\n",
       "  </thead>\n",
       "  <tbody>\n",
       "    <tr>\n",
       "      <th>0</th>\n",
       "      <td>5c74434d8796370b2cfc8118</td>\n",
       "      <td>1100116855048626181</td>\n",
       "      <td>Mon Feb 25 19:34:32 +0000 2019</td>\n",
       "      <td>Depdiego</td>\n",
       "      <td>@CETSP_ rua Canguaretama, altura do 45 solicit...</td>\n",
       "      <td>Penha, São Paulo</td>\n",
       "      <td>pt</td>\n",
       "      <td>None</td>\n",
       "      <td>None</td>\n",
       "      <td>{'id': '68e019afec7d0ba5', 'url': 'https://api...</td>\n",
       "      <td>[]</td>\n",
       "      <td>[{'url': 'https://t.co/3JzWP68MKd', 'expanded_...</td>\n",
       "      <td>[{'screen_name': 'CETSP_', 'name': 'CET São Pa...</td>\n",
       "      <td>False</td>\n",
       "      <td>False</td>\n",
       "    </tr>\n",
       "    <tr>\n",
       "      <th>1</th>\n",
       "      <td>5c79798b8796370b2cfc858a</td>\n",
       "      <td>1101549329851011073</td>\n",
       "      <td>Fri Mar 01 18:26:40 +0000 2019</td>\n",
       "      <td>AndSidou</td>\n",
       "      <td>@CETSP_  1 semana sem semáforo funcionado ou a...</td>\n",
       "      <td>São Paulo, Brasil</td>\n",
       "      <td>pt</td>\n",
       "      <td>None</td>\n",
       "      <td>None</td>\n",
       "      <td>None</td>\n",
       "      <td>[]</td>\n",
       "      <td>[]</td>\n",
       "      <td>[{'screen_name': 'CETSP_', 'name': 'CET São Pa...</td>\n",
       "      <td>False</td>\n",
       "      <td>False</td>\n",
       "    </tr>\n",
       "    <tr>\n",
       "      <th>2</th>\n",
       "      <td>5c7979cf8796370b2cfc858c</td>\n",
       "      <td>1101549770676547584</td>\n",
       "      <td>Fri Mar 01 18:28:25 +0000 2019</td>\n",
       "      <td>juhiromi</td>\n",
       "      <td>@DetranSP , me tira uma dúvida? Existe no Códi...</td>\n",
       "      <td>Sampa</td>\n",
       "      <td>pt</td>\n",
       "      <td>None</td>\n",
       "      <td>None</td>\n",
       "      <td>None</td>\n",
       "      <td>[]</td>\n",
       "      <td>[{'url': 'https://t.co/wCa5474W6U', 'expanded_...</td>\n",
       "      <td>[{'screen_name': 'DetranSP', 'name': 'Detran S...</td>\n",
       "      <td>False</td>\n",
       "      <td>False</td>\n",
       "    </tr>\n",
       "    <tr>\n",
       "      <th>3</th>\n",
       "      <td>5c797c698796370b2cfc85ad</td>\n",
       "      <td>1101552565332987916</td>\n",
       "      <td>Fri Mar 01 18:39:32 +0000 2019</td>\n",
       "      <td>fogaovermelho</td>\n",
       "      <td>@_ecovias Alguma explicação do pq a alça de ac...</td>\n",
       "      <td>São Paulo, Brasil</td>\n",
       "      <td>pt</td>\n",
       "      <td>None</td>\n",
       "      <td>None</td>\n",
       "      <td>None</td>\n",
       "      <td>[]</td>\n",
       "      <td>[{'url': 'https://t.co/yxhLM7zJpg', 'expanded_...</td>\n",
       "      <td>[{'screen_name': '_ecovias', 'name': 'Ecovias'...</td>\n",
       "      <td>False</td>\n",
       "      <td>False</td>\n",
       "    </tr>\n",
       "    <tr>\n",
       "      <th>4</th>\n",
       "      <td>5c797d038796370b2cfc85b1</td>\n",
       "      <td>1101553212304302082</td>\n",
       "      <td>Fri Mar 01 18:42:06 +0000 2019</td>\n",
       "      <td>CETSP_</td>\n",
       "      <td>Esquema especial de trânsito será montado na r...</td>\n",
       "      <td>São Paulo - SP</td>\n",
       "      <td>pt</td>\n",
       "      <td>None</td>\n",
       "      <td>None</td>\n",
       "      <td>None</td>\n",
       "      <td>[{'text': 'VilaEsperança', 'indices': [55, 69]...</td>\n",
       "      <td>[{'url': 'https://t.co/NHG8SPxUHF', 'expanded_...</td>\n",
       "      <td>[]</td>\n",
       "      <td>False</td>\n",
       "      <td>False</td>\n",
       "    </tr>\n",
       "  </tbody>\n",
       "</table>\n",
       "</div>"
      ],
      "text/plain": [
       "                        _id                   id  \\\n",
       "0  5c74434d8796370b2cfc8118  1100116855048626181   \n",
       "1  5c79798b8796370b2cfc858a  1101549329851011073   \n",
       "2  5c7979cf8796370b2cfc858c  1101549770676547584   \n",
       "3  5c797c698796370b2cfc85ad  1101552565332987916   \n",
       "4  5c797d038796370b2cfc85b1  1101553212304302082   \n",
       "\n",
       "                             data        usuario  \\\n",
       "0  Mon Feb 25 19:34:32 +0000 2019       Depdiego   \n",
       "1  Fri Mar 01 18:26:40 +0000 2019       AndSidou   \n",
       "2  Fri Mar 01 18:28:25 +0000 2019       juhiromi   \n",
       "3  Fri Mar 01 18:39:32 +0000 2019  fogaovermelho   \n",
       "4  Fri Mar 01 18:42:06 +0000 2019         CETSP_   \n",
       "\n",
       "                                               texto           location lang  \\\n",
       "0  @CETSP_ rua Canguaretama, altura do 45 solicit...   Penha, São Paulo   pt   \n",
       "1  @CETSP_  1 semana sem semáforo funcionado ou a...  São Paulo, Brasil   pt   \n",
       "2  @DetranSP , me tira uma dúvida? Existe no Códi...              Sampa   pt   \n",
       "3  @_ecovias Alguma explicação do pq a alça de ac...  São Paulo, Brasil   pt   \n",
       "4  Esquema especial de trânsito será montado na r...     São Paulo - SP   pt   \n",
       "\n",
       "    geo coordinates                                              place  \\\n",
       "0  None        None  {'id': '68e019afec7d0ba5', 'url': 'https://api...   \n",
       "1  None        None                                               None   \n",
       "2  None        None                                               None   \n",
       "3  None        None                                               None   \n",
       "4  None        None                                               None   \n",
       "\n",
       "                                            hashtags  \\\n",
       "0                                                 []   \n",
       "1                                                 []   \n",
       "2                                                 []   \n",
       "3                                                 []   \n",
       "4  [{'text': 'VilaEsperança', 'indices': [55, 69]...   \n",
       "\n",
       "                                                urls  \\\n",
       "0  [{'url': 'https://t.co/3JzWP68MKd', 'expanded_...   \n",
       "1                                                 []   \n",
       "2  [{'url': 'https://t.co/wCa5474W6U', 'expanded_...   \n",
       "3  [{'url': 'https://t.co/yxhLM7zJpg', 'expanded_...   \n",
       "4  [{'url': 'https://t.co/NHG8SPxUHF', 'expanded_...   \n",
       "\n",
       "                                       user_mentions  retweeted  quoted  \n",
       "0  [{'screen_name': 'CETSP_', 'name': 'CET São Pa...      False   False  \n",
       "1  [{'screen_name': 'CETSP_', 'name': 'CET São Pa...      False   False  \n",
       "2  [{'screen_name': 'DetranSP', 'name': 'Detran S...      False   False  \n",
       "3  [{'screen_name': '_ecovias', 'name': 'Ecovias'...      False   False  \n",
       "4                                                 []      False   False  "
      ]
     },
     "execution_count": 7,
     "metadata": {},
     "output_type": "execute_result"
    }
   ],
   "source": [
    "query = {'$and': [ {'retweeted':False}, {'quoted':False},{'lang':\"pt\"},\n",
    "                                         {'$or': [ \n",
    "                                             {'texto':{'$regex':u'acidente'}},                                             \n",
    "                                             {'texto':{'$regex':u'colisao'}},\n",
    "                                             {'texto':{'$regex':u'colisão'}},\n",
    "                                             {'texto':{'$regex':u'capotamento'}},\n",
    "                                             {'texto':{'$regex':u'batida'}},                        \n",
    "                                             {'texto':{'$regex':u'trânsito'}},\n",
    "                                             {'texto':{'$regex':u'choque'}},\n",
    "                                             {'texto':{'$regex':u'engavetamento'}},\n",
    "                                             {'texto':{'$regex':u'motoqueiro'}},\n",
    "                                             {'texto':{'$regex':u'motocicleta'}},\n",
    "                                             {'texto':{'$regex':u'sinistro'}},\n",
    "                                             {'texto':{'$regex':u'desastre'}},\n",
    "                                             {'texto':{'$regex':u'incidente'}},\n",
    "                                             {'texto':{'$regex':u'veículo'}}\n",
    "                                        ]}]}\n",
    "\n",
    "people = read_mongo('landing_zone','people_data',query=query)\n",
    "posts = read_mongo('landing_zone','posts_data',query=query)\n",
    "full_data = people.append(posts)\n",
    "\n",
    "full_data.head(5)"
   ]
  },
  {
   "cell_type": "code",
   "execution_count": 8,
   "metadata": {},
   "outputs": [
    {
     "name": "stdout",
     "output_type": "stream",
     "text": [
      "A quantidade total de registros é: 19291\n"
     ]
    }
   ],
   "source": [
    "print(\"A quantidade total de registros é: {}\".format(len(full_data)))"
   ]
  },
  {
   "cell_type": "code",
   "execution_count": 32,
   "metadata": {},
   "outputs": [],
   "source": [
    "import dateutil.parser"
   ]
  },
  {
   "cell_type": "code",
   "execution_count": 33,
   "metadata": {},
   "outputs": [],
   "source": [
    "datetime_str = \"Fri Feb 15 19:00:03 +0000 2019\"  # Datestring in ISO 8601 format\n",
    "some_datetime_obj = dateutil.parser.parse(datetime_str)"
   ]
  },
  {
   "cell_type": "code",
   "execution_count": 34,
   "metadata": {},
   "outputs": [
    {
     "name": "stdout",
     "output_type": "stream",
     "text": [
      "2019-02-15 19:00:03+00:00\n"
     ]
    }
   ],
   "source": [
    "print(some_datetime_obj)"
   ]
  },
  {
   "cell_type": "code",
   "execution_count": 35,
   "metadata": {},
   "outputs": [],
   "source": [
    "def remove_urls(text):\n",
    "    return re.sub(r'https?:\\/\\/.*[\\r\\n]*', '', text)\n",
    "\n",
    "def to_lower(text):\n",
    "    return text.lower()\n",
    "\n",
    "format_date_time = lambda s: dateutil.parser.parse(datetime_str)\n",
    "get_month = lambda d: d.month\n",
    "get_day = lambda d: d.day"
   ]
  },
  {
   "cell_type": "code",
   "execution_count": 36,
   "metadata": {},
   "outputs": [],
   "source": [
    "full_data['formatted_date'] = full_data['data'].apply(func=lambda string: dateutil.parser.parse(string))\n",
    "full_data['mes'] = full_data['formatted_date'].apply(func=lambda date: date.month)\n",
    "full_data['dia'] = full_data['formatted_date'].apply(func=lambda date: date.day)\n",
    "full_data['ano'] = full_data['formatted_date'].apply(func=lambda date: date.year)\n",
    "full_data['hora'] = full_data['formatted_date'].apply(func=lambda date: date.hour)\n",
    "full_data['minuto'] = full_data['formatted_date'].apply(func=lambda date: date.minute)\n",
    "\n",
    "full_data['texto_formatado'] = full_data['texto'].apply(lambda t: remove_urls(str(t)))\n",
    "full_data['texto_formatado'] = full_data['texto_formatado'].apply(lambda t: to_lower(t))"
   ]
  },
  {
   "cell_type": "code",
   "execution_count": 37,
   "metadata": {},
   "outputs": [
    {
     "data": {
      "text/html": [
       "<div>\n",
       "<style scoped>\n",
       "    .dataframe tbody tr th:only-of-type {\n",
       "        vertical-align: middle;\n",
       "    }\n",
       "\n",
       "    .dataframe tbody tr th {\n",
       "        vertical-align: top;\n",
       "    }\n",
       "\n",
       "    .dataframe thead th {\n",
       "        text-align: right;\n",
       "    }\n",
       "</style>\n",
       "<table border=\"1\" class=\"dataframe\">\n",
       "  <thead>\n",
       "    <tr style=\"text-align: right;\">\n",
       "      <th></th>\n",
       "      <th>texto_formatado</th>\n",
       "      <th>tokens</th>\n",
       "    </tr>\n",
       "  </thead>\n",
       "  <tbody>\n",
       "    <tr>\n",
       "      <th>0</th>\n",
       "      <td>@cetsp_ rua canguaretama, altura do 45 solicit...</td>\n",
       "      <td>[@, cetsp_, rua, canguaretama, ,, altura, do, ...</td>\n",
       "    </tr>\n",
       "    <tr>\n",
       "      <th>1</th>\n",
       "      <td>@cetsp_  1 semana sem semáforo funcionado ou a...</td>\n",
       "      <td>[@, cetsp_, 1, semana, sem, semáforo, funciona...</td>\n",
       "    </tr>\n",
       "    <tr>\n",
       "      <th>2</th>\n",
       "      <td>@detransp , me tira uma dúvida? existe no códi...</td>\n",
       "      <td>[@, detransp, ,, me, tira, uma, dúvida, ?, exi...</td>\n",
       "    </tr>\n",
       "    <tr>\n",
       "      <th>3</th>\n",
       "      <td>@_ecovias alguma explicação do pq a alça de ac...</td>\n",
       "      <td>[@, _ecovias, alguma, explicação, do, pq, a, a...</td>\n",
       "    </tr>\n",
       "    <tr>\n",
       "      <th>4</th>\n",
       "      <td>esquema especial de trânsito será montado na r...</td>\n",
       "      <td>[esquema, especial, de, trânsito, será, montad...</td>\n",
       "    </tr>\n",
       "  </tbody>\n",
       "</table>\n",
       "</div>"
      ],
      "text/plain": [
       "                                     texto_formatado  \\\n",
       "0  @cetsp_ rua canguaretama, altura do 45 solicit...   \n",
       "1  @cetsp_  1 semana sem semáforo funcionado ou a...   \n",
       "2  @detransp , me tira uma dúvida? existe no códi...   \n",
       "3  @_ecovias alguma explicação do pq a alça de ac...   \n",
       "4  esquema especial de trânsito será montado na r...   \n",
       "\n",
       "                                              tokens  \n",
       "0  [@, cetsp_, rua, canguaretama, ,, altura, do, ...  \n",
       "1  [@, cetsp_, 1, semana, sem, semáforo, funciona...  \n",
       "2  [@, detransp, ,, me, tira, uma, dúvida, ?, exi...  \n",
       "3  [@, _ecovias, alguma, explicação, do, pq, a, a...  \n",
       "4  [esquema, especial, de, trânsito, será, montad...  "
      ]
     },
     "execution_count": 37,
     "metadata": {},
     "output_type": "execute_result"
    }
   ],
   "source": [
    "tokenizer = TreebankWordTokenizer()\n",
    "full_data['tokens'] = full_data['texto_formatado'].apply(lambda t: tokenizer.tokenize(t))\n",
    "full_data[['texto_formatado','tokens']].head()"
   ]
  },
  {
   "cell_type": "code",
   "execution_count": 38,
   "metadata": {},
   "outputs": [
    {
     "data": {
      "text/plain": [
       "19291"
      ]
     },
     "execution_count": 38,
     "metadata": {},
     "output_type": "execute_result"
    }
   ],
   "source": [
    "len(full_data)"
   ]
  },
  {
   "cell_type": "code",
   "execution_count": 39,
   "metadata": {},
   "outputs": [
    {
     "data": {
      "text/html": [
       "<div>\n",
       "<style scoped>\n",
       "    .dataframe tbody tr th:only-of-type {\n",
       "        vertical-align: middle;\n",
       "    }\n",
       "\n",
       "    .dataframe tbody tr th {\n",
       "        vertical-align: top;\n",
       "    }\n",
       "\n",
       "    .dataframe thead th {\n",
       "        text-align: right;\n",
       "    }\n",
       "</style>\n",
       "<table border=\"1\" class=\"dataframe\">\n",
       "  <thead>\n",
       "    <tr style=\"text-align: right;\">\n",
       "      <th></th>\n",
       "      <th>tokens</th>\n",
       "      <th>words</th>\n",
       "    </tr>\n",
       "  </thead>\n",
       "  <tbody>\n",
       "    <tr>\n",
       "      <th>0</th>\n",
       "      <td>[@, cetsp_, rua, canguaretama, ,, altura, do, ...</td>\n",
       "      <td>[cetsp_, rua, canguaretama, altura, 45, solici...</td>\n",
       "    </tr>\n",
       "    <tr>\n",
       "      <th>1</th>\n",
       "      <td>[@, cetsp_, 1, semana, sem, semáforo, funciona...</td>\n",
       "      <td>[cetsp_, 1, semana, semáforo, funcionado, agen...</td>\n",
       "    </tr>\n",
       "    <tr>\n",
       "      <th>2</th>\n",
       "      <td>[@, detransp, ,, me, tira, uma, dúvida, ?, exi...</td>\n",
       "      <td>[detransp, tira, dúvida, existe, código, trâns...</td>\n",
       "    </tr>\n",
       "    <tr>\n",
       "      <th>3</th>\n",
       "      <td>[@, _ecovias, alguma, explicação, do, pq, a, a...</td>\n",
       "      <td>[_ecovias, alguma, explicação, pq, alça, acess...</td>\n",
       "    </tr>\n",
       "    <tr>\n",
       "      <th>4</th>\n",
       "      <td>[esquema, especial, de, trânsito, será, montad...</td>\n",
       "      <td>[esquema, especial, trânsito, montado, região,...</td>\n",
       "    </tr>\n",
       "    <tr>\n",
       "      <th>5</th>\n",
       "      <td>[que, situação, !, -, na, rua, barão, do, pira...</td>\n",
       "      <td>[situação, rua, barão, piraí, 278, vila, prude...</td>\n",
       "    </tr>\n",
       "    <tr>\n",
       "      <th>6</th>\n",
       "      <td>[acidente, entre, quatro, veículos, na]</td>\n",
       "      <td>[acidente, quatro, veículos]</td>\n",
       "    </tr>\n",
       "    <tr>\n",
       "      <th>7</th>\n",
       "      <td>[estradas, -, a, pista, lateral, da, rodovia, ...</td>\n",
       "      <td>[estradas, pista, lateral, rodovia, ayrton, se...</td>\n",
       "    </tr>\n",
       "    <tr>\n",
       "      <th>8</th>\n",
       "      <td>[o, trânsito, será, monitorado, na, #, zc, ,, ...</td>\n",
       "      <td>[trânsito, monitorado, zc, sábado, 02, terça, ...</td>\n",
       "    </tr>\n",
       "    <tr>\n",
       "      <th>9</th>\n",
       "      <td>[⚽, embate, entre, @, corinthians, x, @, racin...</td>\n",
       "      <td>[⚽, embate, corinthians, x, racingclub, sudame...</td>\n",
       "    </tr>\n",
       "  </tbody>\n",
       "</table>\n",
       "</div>"
      ],
      "text/plain": [
       "                                              tokens  \\\n",
       "0  [@, cetsp_, rua, canguaretama, ,, altura, do, ...   \n",
       "1  [@, cetsp_, 1, semana, sem, semáforo, funciona...   \n",
       "2  [@, detransp, ,, me, tira, uma, dúvida, ?, exi...   \n",
       "3  [@, _ecovias, alguma, explicação, do, pq, a, a...   \n",
       "4  [esquema, especial, de, trânsito, será, montad...   \n",
       "5  [que, situação, !, -, na, rua, barão, do, pira...   \n",
       "6            [acidente, entre, quatro, veículos, na]   \n",
       "7  [estradas, -, a, pista, lateral, da, rodovia, ...   \n",
       "8  [o, trânsito, será, monitorado, na, #, zc, ,, ...   \n",
       "9  [⚽, embate, entre, @, corinthians, x, @, racin...   \n",
       "\n",
       "                                               words  \n",
       "0  [cetsp_, rua, canguaretama, altura, 45, solici...  \n",
       "1  [cetsp_, 1, semana, semáforo, funcionado, agen...  \n",
       "2  [detransp, tira, dúvida, existe, código, trâns...  \n",
       "3  [_ecovias, alguma, explicação, pq, alça, acess...  \n",
       "4  [esquema, especial, trânsito, montado, região,...  \n",
       "5  [situação, rua, barão, piraí, 278, vila, prude...  \n",
       "6                       [acidente, quatro, veículos]  \n",
       "7  [estradas, pista, lateral, rodovia, ayrton, se...  \n",
       "8  [trânsito, monitorado, zc, sábado, 02, terça, ...  \n",
       "9  [⚽, embate, corinthians, x, racingclub, sudame...  "
      ]
     },
     "execution_count": 39,
     "metadata": {},
     "output_type": "execute_result"
    }
   ],
   "source": [
    "def create_stopword_list():\n",
    "    portuguese_stops = set(stopwords.words('portuguese'))\n",
    "    portuguese_stops.add('rt')\n",
    "\n",
    "    with open('punctuation.txt','r+') as punct_file:\n",
    "        puncts = punct_file.readlines()\n",
    "\n",
    "    for item in puncts:    \n",
    "        portuguese_stops.add(item.strip())\n",
    "        \n",
    "    return portuguese_stops\n",
    "\n",
    "stop_w = create_stopword_list()\n",
    "\n",
    "#aplica a remocao de stop-words\n",
    "full_data['words'] = full_data['tokens'].apply(lambda w: [word for word in w if word not in stop_w]) \n",
    "#exibe resultado intermediario\n",
    "full_data[['tokens','words']].head(10)"
   ]
  },
  {
   "cell_type": "code",
   "execution_count": 40,
   "metadata": {},
   "outputs": [],
   "source": [
    "full_data['clean_text'] = full_data['words'].apply(lambda t: str(' '.join(t)))"
   ]
  },
  {
   "cell_type": "code",
   "execution_count": 41,
   "metadata": {},
   "outputs": [
    {
     "data": {
      "image/png": "[encoded data removed]",
      "text/plain": [
       "<Figure size 432x288 with 1 Axes>"
      ]
     },
     "metadata": {
      "needs_background": "light"
     },
     "output_type": "display_data"
    }
   ],
   "source": [
    "# Start with one review:\n",
    "text = 'processamento dos dados requer potentes plataformas de hardware, com alta escalabilidade e desempenho'\n",
    "text = \" \".join(texto for texto in full_data.clean_text)\n",
    "#print(text)\n",
    "\n",
    "# Create and generate a word cloud image:\n",
    "wordcloud = WordCloud(background_color=\"white\").generate(text)\n",
    "plt.figure()\n",
    "plt.imshow(wordcloud, interpolation=\"bilinear\")\n",
    "plt.axis(\"off\")\n",
    "plt.figsize=[500,500]\n",
    "#plt.figure(figsize=[10,10])\n",
    "#plt.figure(figsize=[20,10])\n",
    "#plt.show()"
   ]
  },
  {
   "cell_type": "code",
   "execution_count": 42,
   "metadata": {},
   "outputs": [],
   "source": [
    "dias = full_data.groupby(['dia']).count()['_id']"
   ]
  },
  {
   "cell_type": "code",
   "execution_count": 43,
   "metadata": {},
   "outputs": [
    {
     "data": {
      "text/plain": [
       "dia\n",
       "1     1270\n",
       "2        3\n",
       "4     1558\n",
       "5      495\n",
       "11     640\n",
       "12    2040\n",
       "13    1689\n",
       "14    1741\n",
       "15    1514\n",
       "18    1057\n",
       "19     974\n",
       "20     968\n",
       "21      13\n",
       "22    1121\n",
       "25    1038\n",
       "26    1068\n",
       "27    1899\n",
       "28     203\n",
       "Name: _id, dtype: int64"
      ]
     },
     "execution_count": 43,
     "metadata": {},
     "output_type": "execute_result"
    }
   ],
   "source": [
    "dias"
   ]
  },
  {
   "cell_type": "code",
   "execution_count": 44,
   "metadata": {},
   "outputs": [
    {
     "data": {
      "text/plain": [
       "1760426"
      ]
     },
     "execution_count": 44,
     "metadata": {},
     "output_type": "execute_result"
    }
   ],
   "source": [
    "file = open('words','w+')\n",
    "file.write(text)"
   ]
  },
  {
   "cell_type": "code",
   "execution_count": null,
   "metadata": {},
   "outputs": [],
   "source": []
  }
 ],
 "metadata": {
  "kernelspec": {
   "display_name": "Python 3",
   "language": "python",
   "name": "python3"
  },
  "language_info": {
   "codemirror_mode": {
    "name": "ipython",
    "version": 3
   },
   "file_extension": ".py",
   "mimetype": "text/x-python",
   "name": "python",
   "nbconvert_exporter": "python",
   "pygments_lexer": "ipython3",
   "version": "3.7.2"
  }
 },
 "nbformat": 4,
 "nbformat_minor": 2
}
