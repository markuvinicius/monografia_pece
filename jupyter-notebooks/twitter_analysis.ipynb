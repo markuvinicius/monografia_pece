{
 "cells": [
  {
   "cell_type": "markdown",
   "metadata": {},
   "source": [
    "<h1> Instalação das bibliotecas necessárias </h1>"
   ]
  },
  {
   "cell_type": "code",
   "execution_count": 2,
   "metadata": {},
   "outputs": [
    {
     "name": "stdout",
     "output_type": "stream",
     "text": [
      "Requirement already up-to-date: pip in /opt/conda/lib/python3.7/site-packages (19.2.3)\n",
      "Requirement already satisfied: pymongo in /opt/conda/lib/python3.7/site-packages (3.9.0)\n",
      "Requirement already up-to-date: nltk in /opt/conda/lib/python3.7/site-packages (3.4.5)\n",
      "Requirement already satisfied, skipping upgrade: six in /opt/conda/lib/python3.7/site-packages (from nltk) (1.12.0)\n",
      "Requirement already satisfied: joblib in /opt/conda/lib/python3.7/site-packages (0.13.2)\n",
      "Requirement already satisfied: pandas in /opt/conda/lib/python3.7/site-packages (0.25.1)\n",
      "Requirement already satisfied: numpy>=1.13.3 in /opt/conda/lib/python3.7/site-packages (from pandas) (1.17.2)\n",
      "Requirement already satisfied: pytz>=2017.2 in /opt/conda/lib/python3.7/site-packages (from pandas) (2019.2)\n",
      "Requirement already satisfied: python-dateutil>=2.6.1 in /opt/conda/lib/python3.7/site-packages (from pandas) (2.8.0)\n",
      "Requirement already satisfied: six>=1.5 in /opt/conda/lib/python3.7/site-packages (from python-dateutil>=2.6.1->pandas) (1.12.0)\n",
      "Requirement already satisfied: sklearn in /opt/conda/lib/python3.7/site-packages (0.0)\n",
      "Requirement already satisfied: scikit-learn in /opt/conda/lib/python3.7/site-packages (from sklearn) (0.21.3)\n",
      "Requirement already satisfied: numpy>=1.11.0 in /opt/conda/lib/python3.7/site-packages (from scikit-learn->sklearn) (1.17.2)\n",
      "Requirement already satisfied: scipy>=0.17.0 in /opt/conda/lib/python3.7/site-packages (from scikit-learn->sklearn) (1.3.1)\n",
      "Requirement already satisfied: joblib>=0.11 in /opt/conda/lib/python3.7/site-packages (from scikit-learn->sklearn) (0.13.2)\n",
      "Requirement already satisfied: matplotlib in /opt/conda/lib/python3.7/site-packages (3.1.1)\n",
      "Requirement already satisfied: kiwisolver>=1.0.1 in /opt/conda/lib/python3.7/site-packages (from matplotlib) (1.1.0)\n",
      "Requirement already satisfied: python-dateutil>=2.1 in /opt/conda/lib/python3.7/site-packages (from matplotlib) (2.8.0)\n",
      "Requirement already satisfied: cycler>=0.10 in /opt/conda/lib/python3.7/site-packages (from matplotlib) (0.10.0)\n",
      "Requirement already satisfied: numpy>=1.11 in /opt/conda/lib/python3.7/site-packages (from matplotlib) (1.17.2)\n",
      "Requirement already satisfied: pyparsing!=2.0.4,!=2.1.2,!=2.1.6,>=2.0.1 in /opt/conda/lib/python3.7/site-packages (from matplotlib) (2.4.2)\n",
      "Requirement already satisfied: setuptools in /opt/conda/lib/python3.7/site-packages (from kiwisolver>=1.0.1->matplotlib) (40.8.0)\n",
      "Requirement already satisfied: six>=1.5 in /opt/conda/lib/python3.7/site-packages (from python-dateutil>=2.1->matplotlib) (1.12.0)\n"
     ]
    }
   ],
   "source": [
    "!pip install --upgrade pip\n",
    "!pip install pymongo\n",
    "!pip install -U nltk\n",
    "!pip install joblib\n",
    "!pip install pandas\n",
    "!pip install sklearn\n",
    "!pip install matplotlib"
   ]
  },
  {
   "cell_type": "code",
   "execution_count": 74,
   "metadata": {},
   "outputs": [
    {
     "name": "stderr",
     "output_type": "stream",
     "text": [
      "[nltk_data] Downloading package stopwords to /home/jovyan/nltk_data...\n",
      "[nltk_data]   Package stopwords is already up-to-date!\n"
     ]
    }
   ],
   "source": [
    "from pymongo import MongoClient\n",
    "import pandas as pd\n",
    "import re\n",
    "import nltk\n",
    "\n",
    "from nltk.tokenize import TreebankWordTokenizer\n",
    "from nltk.corpus import stopwords\n",
    "from nltk.stem import SnowballStemmer\n",
    "from sklearn.feature_extraction.text import CountVectorizer\n",
    "from sklearn.feature_extraction.text import TfidfTransformer\n",
    "from sklearn.naive_bayes import MultinomialNB\n",
    "from sklearn.model_selection import train_test_split\n",
    "from sklearn.metrics import accuracy_score\n",
    "from sklearn.metrics import confusion_matrix\n",
    "from sklearn import svm\n",
    "from sklearn import tree\n",
    "from sklearn.linear_model import LogisticRegression\n",
    "from joblib import dump, load\n",
    "from sklearn.model_selection import cross_val_score\n",
    "import matplotlib\n",
    "\n",
    "#Download do corpus da nltk\n",
    "nltk.download('stopwords')\n",
    "\n",
    "#pd.set_option('display.height', 1000)\n",
    "pd.set_option('display.max_rows', 500)\n",
    "pd.set_option('display.max_columns', 500)\n",
    "pd.set_option('display.width', 1000)\n",
    "pd.options.display.max_rows\n",
    "pd.set_option('display.max_colwidth', -1)"
   ]
  },
  {
   "cell_type": "markdown",
   "metadata": {},
   "source": [
    "<h3>Definição das funções de leitura dos dados no MongoDb</h3>"
   ]
  },
  {
   "cell_type": "code",
   "execution_count": 4,
   "metadata": {},
   "outputs": [],
   "source": [
    "def _connect_mongo(host, port, username, password, db):\n",
    "    \"\"\" A util for making a connection to mongo \"\"\"\n",
    "\n",
    "    if username and password:\n",
    "        mongo_uri = 'mongodb://%s:%s@%s:%s/%s' % (username, password, host, port, db)\n",
    "        conn = MongoClient(mongo_uri)\n",
    "    else:\n",
    "        conn = MongoClient(host, port)\n",
    "\n",
    "\n",
    "    return conn[db]"
   ]
  },
  {
   "cell_type": "code",
   "execution_count": 5,
   "metadata": {},
   "outputs": [],
   "source": [
    "def read_mongo(db, collection, query={}, host='ds249824.mlab.com', port='49824', username='app', password='nodeapp01', no_id=True):\n",
    "    \"\"\" Read from Mongo and Store into DataFrame \"\"\"\n",
    "\n",
    "    # Connect to MongoDB\n",
    "    db = _connect_mongo(host=host, port=port, username=username, password=password, db=db)\n",
    "\n",
    "    # Make a query to the specific DB and Collection\n",
    "    cursor = db[collection].find(query)\n",
    "\n",
    "    # Expand the cursor and construct the DataFrame\n",
    "    df =  pd.DataFrame(list(cursor))\n",
    "\n",
    "    # Delete the _id\n",
    "    if no_id:\n",
    "        del df['_id']\n",
    "\n",
    "    return df"
   ]
  },
  {
   "cell_type": "markdown",
   "metadata": {},
   "source": [
    "<h3>Carrega os DataSets (tweets marcados como acidente e não acidente)</h3>\n",
    "<p> Cria Dataset chamado \"acidente\", com os documentos rotulados como Sim.\n",
    "<p> Cria Dataset chamado \"nao acidente\", com os documentos rotulados como Não.\n",
    "<p> Cria Dataset chamado \"full_data\", com os documentos rotulados como todos."
   ]
  },
  {
   "cell_type": "code",
   "execution_count": 6,
   "metadata": {},
   "outputs": [],
   "source": [
    "acidente = read_mongo('labeling_zone','tweets',query={'label':'Sim'})\n",
    "nao_acidente = read_mongo('labeling_zone','tweets',query={'label':'Não'})\n",
    "full_data = acidente.append(nao_acidente)\n",
    "#full_data = acidente.append(nao_acidente)"
   ]
  },
  {
   "cell_type": "code",
   "execution_count": 7,
   "metadata": {},
   "outputs": [
    {
     "name": "stdout",
     "output_type": "stream",
     "text": [
      "Total de documentos rotulados como \"acidente\": 277\n",
      "Total de documentos rotulados como \"Não acidente\": 1506\n",
      "Full Data: 1783\n"
     ]
    },
    {
     "data": {
      "text/html": [
       "<div>\n",
       "<style scoped>\n",
       "    .dataframe tbody tr th:only-of-type {\n",
       "        vertical-align: middle;\n",
       "    }\n",
       "\n",
       "    .dataframe tbody tr th {\n",
       "        vertical-align: top;\n",
       "    }\n",
       "\n",
       "    .dataframe thead th {\n",
       "        text-align: right;\n",
       "    }\n",
       "</style>\n",
       "<table border=\"1\" class=\"dataframe\">\n",
       "  <thead>\n",
       "    <tr style=\"text-align: right;\">\n",
       "      <th></th>\n",
       "      <th>lang</th>\n",
       "      <th>location</th>\n",
       "      <th>texto</th>\n",
       "      <th>usuario</th>\n",
       "      <th>label</th>\n",
       "    </tr>\n",
       "  </thead>\n",
       "  <tbody>\n",
       "    <tr>\n",
       "      <td>0</td>\n",
       "      <td>pt</td>\n",
       "      <td>São Paulo</td>\n",
       "      <td>As faixas foram liberadas na Rod Dom Pedro I (SP-065) no km 33, em Igaratá, região do Vale do Paraíba, após um grave acidente das 19h30 de ontem, na pista no sentido de Jacareí, envolvendo uma carreta, dois caminhões, um Fiat Fiorino e um Renault Sandero. #seumelhorcaminho</td>\n",
       "      <td>radiotransitofm</td>\n",
       "      <td>Sim</td>\n",
       "    </tr>\n",
       "    <tr>\n",
       "      <td>1</td>\n",
       "      <td>pt</td>\n",
       "      <td>São Paulo/SP, Brasil</td>\n",
       "      <td>Um dos caminhões e a carreta tombaram no acidente, deixando cair na pista as cargas de peças de aç https://t.co/bgvms9jsTK (radiotransitofm)</td>\n",
       "      <td>TransitoSampaSP</td>\n",
       "      <td>Sim</td>\n",
       "    </tr>\n",
       "    <tr>\n",
       "      <td>2</td>\n",
       "      <td>pt</td>\n",
       "      <td>São Paulo</td>\n",
       "      <td>Ouvintes relatam #acidente no km 39 da rodovia dos Bandeirantes, sentido SP. Lentidão de 1 km.</td>\n",
       "      <td>radiotransitofm</td>\n",
       "      <td>Sim</td>\n",
       "    </tr>\n",
       "    <tr>\n",
       "      <td>3</td>\n",
       "      <td>pt</td>\n",
       "      <td>São Paulo/SP - Brasil</td>\n",
       "      <td>13h24 - Acidente de trânsito, carro x moto, na Rua Pedro de Toledo, 1651 – Vila Mariana. Uma vítima, masc., 39 anos, lesão em membro inferior direito. #193R</td>\n",
       "      <td>BombeirosPMESP</td>\n",
       "      <td>Sim</td>\n",
       "    </tr>\n",
       "    <tr>\n",
       "      <td>4</td>\n",
       "      <td>pt</td>\n",
       "      <td>São Paulo/SP, Brasil</td>\n",
       "      <td>Acidente de trânsito, carro x moto, na R.Pedro de Toledo, 1651 – Vila Mariana. Uma vítima, masc.,  https://t.co/LNXwM9R7WR (@BombeirosPMESP)</td>\n",
       "      <td>TransitoSampaSP</td>\n",
       "      <td>Sim</td>\n",
       "    </tr>\n",
       "  </tbody>\n",
       "</table>\n",
       "</div>"
      ],
      "text/plain": [
       "  lang               location                                                                                                                                                                                                                                                                              texto          usuario label\n",
       "0  pt   São Paulo              As faixas foram liberadas na Rod Dom Pedro I (SP-065) no km 33, em Igaratá, região do Vale do Paraíba, após um grave acidente das 19h30 de ontem, na pista no sentido de Jacareí, envolvendo uma carreta, dois caminhões, um Fiat Fiorino e um Renault Sandero. #seumelhorcaminho  radiotransitofm  Sim \n",
       "1  pt   São Paulo/SP, Brasil   Um dos caminhões e a carreta tombaram no acidente, deixando cair na pista as cargas de peças de aç https://t.co/bgvms9jsTK (radiotransitofm)                                                                                                                                       TransitoSampaSP  Sim \n",
       "2  pt   São Paulo              Ouvintes relatam #acidente no km 39 da rodovia dos Bandeirantes, sentido SP. Lentidão de 1 km.                                                                                                                                                                                     radiotransitofm  Sim \n",
       "3  pt   São Paulo/SP - Brasil  13h24 - Acidente de trânsito, carro x moto, na Rua Pedro de Toledo, 1651 – Vila Mariana. Uma vítima, masc., 39 anos, lesão em membro inferior direito. #193R                                                                                                                       BombeirosPMESP   Sim \n",
       "4  pt   São Paulo/SP, Brasil   Acidente de trânsito, carro x moto, na R.Pedro de Toledo, 1651 – Vila Mariana. Uma vítima, masc.,  https://t.co/LNXwM9R7WR (@BombeirosPMESP)                                                                                                                                       TransitoSampaSP  Sim "
      ]
     },
     "execution_count": 7,
     "metadata": {},
     "output_type": "execute_result"
    }
   ],
   "source": [
    "print('Total de documentos rotulados como \"acidente\": ' + str(len(acidente)))\n",
    "print('Total de documentos rotulados como \"Não acidente\": ' + str(len(nao_acidente)))\n",
    "print('Full Data: ' + str(len(full_data)))\n",
    "\n",
    "full_data[['lang','location','texto','usuario','label']].head()"
   ]
  },
  {
   "cell_type": "markdown",
   "metadata": {},
   "source": [
    "<h2>Aplica as funções de Pré-Processamento</h2>\n",
    "<ul> \n",
    "    <li>Remoção de Urls (regex)</li>\n",
    "    <li>Conversão para minúsculo</li>\n",
    "    <li>Tokenização</li>\n",
    "    <li>Remoção de Stop Words</li>\n",
    "    <li>Steming</li>    \n",
    "</ul>"
   ]
  },
  {
   "cell_type": "code",
   "execution_count": 8,
   "metadata": {},
   "outputs": [],
   "source": [
    "def remove_urls(text):\n",
    "    return re.sub(r'https?:\\/\\/.*[\\r\\n]*', '', text)\n",
    "\n",
    "def to_lower(text):\n",
    "    return text.lower()"
   ]
  },
  {
   "cell_type": "markdown",
   "metadata": {},
   "source": [
    "<p>Remoção de URLs</p>\n",
    "<p>Conversão para Minúsculo</p>"
   ]
  },
  {
   "cell_type": "code",
   "execution_count": 9,
   "metadata": {},
   "outputs": [],
   "source": [
    "full_data['texto_formatado'] = full_data['texto'].apply(lambda t: remove_urls(str(t)))\n",
    "full_data['texto_formatado'] = full_data['texto_formatado'].apply(lambda t: to_lower(t))"
   ]
  },
  {
   "cell_type": "markdown",
   "metadata": {},
   "source": [
    "<p> Tokenização (Conversão de frases em array de tokens)"
   ]
  },
  {
   "cell_type": "code",
   "execution_count": 10,
   "metadata": {},
   "outputs": [
    {
     "data": {
      "text/html": [
       "<div>\n",
       "<style scoped>\n",
       "    .dataframe tbody tr th:only-of-type {\n",
       "        vertical-align: middle;\n",
       "    }\n",
       "\n",
       "    .dataframe tbody tr th {\n",
       "        vertical-align: top;\n",
       "    }\n",
       "\n",
       "    .dataframe thead th {\n",
       "        text-align: right;\n",
       "    }\n",
       "</style>\n",
       "<table border=\"1\" class=\"dataframe\">\n",
       "  <thead>\n",
       "    <tr style=\"text-align: right;\">\n",
       "      <th></th>\n",
       "      <th>texto_formatado</th>\n",
       "      <th>tokens</th>\n",
       "    </tr>\n",
       "  </thead>\n",
       "  <tbody>\n",
       "    <tr>\n",
       "      <td>0</td>\n",
       "      <td>as faixas foram liberadas na rod dom pedro i (sp-065) no km 33, em igaratá, região do vale do paraíba, após um grave acidente das 19h30 de ontem, na pista no sentido de jacareí, envolvendo uma carreta, dois caminhões, um fiat fiorino e um renault sandero. #seumelhorcaminho</td>\n",
       "      <td>[as, faixas, foram, liberadas, na, rod, dom, pedro, i, (, sp-065, ), no, km, 33, ,, em, igaratá, ,, região, do, vale, do, paraíba, ,, após, um, grave, acidente, das, 19h30, de, ontem, ,, na, pista, no, sentido, de, jacareí, ,, envolvendo, uma, carreta, ,, dois, caminhões, ,, um, fiat, fiorino, e, um, renault, sandero., #, seumelhorcaminho]</td>\n",
       "    </tr>\n",
       "    <tr>\n",
       "      <td>1</td>\n",
       "      <td>um dos caminhões e a carreta tombaram no acidente, deixando cair na pista as cargas de peças de aç</td>\n",
       "      <td>[um, dos, caminhões, e, a, carreta, tombaram, no, acidente, ,, deixando, cair, na, pista, as, cargas, de, peças, de, aç]</td>\n",
       "    </tr>\n",
       "    <tr>\n",
       "      <td>2</td>\n",
       "      <td>ouvintes relatam #acidente no km 39 da rodovia dos bandeirantes, sentido sp. lentidão de 1 km.</td>\n",
       "      <td>[ouvintes, relatam, #, acidente, no, km, 39, da, rodovia, dos, bandeirantes, ,, sentido, sp., lentidão, de, 1, km, .]</td>\n",
       "    </tr>\n",
       "    <tr>\n",
       "      <td>3</td>\n",
       "      <td>13h24 - acidente de trânsito, carro x moto, na rua pedro de toledo, 1651 – vila mariana. uma vítima, masc., 39 anos, lesão em membro inferior direito. #193r</td>\n",
       "      <td>[13h24, -, acidente, de, trânsito, ,, carro, x, moto, ,, na, rua, pedro, de, toledo, ,, 1651, –, vila, mariana., uma, vítima, ,, masc., ,, 39, anos, ,, lesão, em, membro, inferior, direito., #, 193r]</td>\n",
       "    </tr>\n",
       "    <tr>\n",
       "      <td>4</td>\n",
       "      <td>acidente de trânsito, carro x moto, na r.pedro de toledo, 1651 – vila mariana. uma vítima, masc.,</td>\n",
       "      <td>[acidente, de, trânsito, ,, carro, x, moto, ,, na, r.pedro, de, toledo, ,, 1651, –, vila, mariana., uma, vítima, ,, masc., ,]</td>\n",
       "    </tr>\n",
       "    <tr>\n",
       "      <td>5</td>\n",
       "      <td>bloqueio total do acesso do #rodoanel no sentido perus, pista interna, para a #imigrantes na direção do litoral. um caminhão-tanque tombou no local. houve vazamento de ácido clorídrico. ninguém ficou ferido neste acidente. a interdição acontece na altura do km 71.</td>\n",
       "      <td>[bloqueio, total, do, acesso, do, #, rodoanel, no, sentido, perus, ,, pista, interna, ,, para, a, #, imigrantes, na, direção, do, litoral., um, caminhão-tanque, tombou, no, local., houve, vazamento, de, ácido, clorídrico., ninguém, ficou, ferido, neste, acidente., a, interdição, acontece, na, altura, do, km, 71, .]</td>\n",
       "    </tr>\n",
       "    <tr>\n",
       "      <td>6</td>\n",
       "      <td>ouvintes relatam #acidente no km 39 da rodovia dos bandeirantes, sent sp. lentidão de 1 km (radiotransitofm)</td>\n",
       "      <td>[ouvintes, relatam, #, acidente, no, km, 39, da, rodovia, dos, bandeirantes, ,, sent, sp., lentidão, de, 1, km, (, radiotransitofm, )]</td>\n",
       "    </tr>\n",
       "    <tr>\n",
       "      <td>7</td>\n",
       "      <td>capotamento no #corredornortesul sentido santana, na altura de congonhas. ouvintes relatam o capotamento de uma van no local. uma faixa está bloqueada.</td>\n",
       "      <td>[capotamento, no, #, corredornortesul, sentido, santana, ,, na, altura, de, congonhas., ouvintes, relatam, o, capotamento, de, uma, van, no, local., uma, faixa, está, bloqueada, .]</td>\n",
       "    </tr>\n",
       "    <tr>\n",
       "      <td>8</td>\n",
       "      <td>capotamento no #corredornortesul sentido santana, na altura de congonhas. ouvintes relatam o capotamento de uma van no local. uma faixa está bloqueada.</td>\n",
       "      <td>[capotamento, no, #, corredornortesul, sentido, santana, ,, na, altura, de, congonhas., ouvintes, relatam, o, capotamento, de, uma, van, no, local., uma, faixa, está, bloqueada, .]</td>\n",
       "    </tr>\n",
       "    <tr>\n",
       "      <td>9</td>\n",
       "      <td>capotamento no #corredornortesul sentido santana, na altura de congonhas. ouvintes relatam o capotamento de uma van no local. uma faixa está bloqueada.</td>\n",
       "      <td>[capotamento, no, #, corredornortesul, sentido, santana, ,, na, altura, de, congonhas., ouvintes, relatam, o, capotamento, de, uma, van, no, local., uma, faixa, está, bloqueada, .]</td>\n",
       "    </tr>\n",
       "  </tbody>\n",
       "</table>\n",
       "</div>"
      ],
      "text/plain": [
       "                                                                                                                                                                                                                                                                     texto_formatado                                                                                                                                                                                                                                                                                                                                                 tokens\n",
       "0  as faixas foram liberadas na rod dom pedro i (sp-065) no km 33, em igaratá, região do vale do paraíba, após um grave acidente das 19h30 de ontem, na pista no sentido de jacareí, envolvendo uma carreta, dois caminhões, um fiat fiorino e um renault sandero. #seumelhorcaminho  [as, faixas, foram, liberadas, na, rod, dom, pedro, i, (, sp-065, ), no, km, 33, ,, em, igaratá, ,, região, do, vale, do, paraíba, ,, após, um, grave, acidente, das, 19h30, de, ontem, ,, na, pista, no, sentido, de, jacareí, ,, envolvendo, uma, carreta, ,, dois, caminhões, ,, um, fiat, fiorino, e, um, renault, sandero., #, seumelhorcaminho]\n",
       "1  um dos caminhões e a carreta tombaram no acidente, deixando cair na pista as cargas de peças de aç                                                                                                                                                                                 [um, dos, caminhões, e, a, carreta, tombaram, no, acidente, ,, deixando, cair, na, pista, as, cargas, de, peças, de, aç]                                                                                                                                                                                                                             \n",
       "2  ouvintes relatam #acidente no km 39 da rodovia dos bandeirantes, sentido sp. lentidão de 1 km.                                                                                                                                                                                     [ouvintes, relatam, #, acidente, no, km, 39, da, rodovia, dos, bandeirantes, ,, sentido, sp., lentidão, de, 1, km, .]                                                                                                                                                                                                                                \n",
       "3  13h24 - acidente de trânsito, carro x moto, na rua pedro de toledo, 1651 – vila mariana. uma vítima, masc., 39 anos, lesão em membro inferior direito. #193r                                                                                                                       [13h24, -, acidente, de, trânsito, ,, carro, x, moto, ,, na, rua, pedro, de, toledo, ,, 1651, –, vila, mariana., uma, vítima, ,, masc., ,, 39, anos, ,, lesão, em, membro, inferior, direito., #, 193r]                                                                                                                                              \n",
       "4  acidente de trânsito, carro x moto, na r.pedro de toledo, 1651 – vila mariana. uma vítima, masc.,                                                                                                                                                                                  [acidente, de, trânsito, ,, carro, x, moto, ,, na, r.pedro, de, toledo, ,, 1651, –, vila, mariana., uma, vítima, ,, masc., ,]                                                                                                                                                                                                                        \n",
       "5  bloqueio total do acesso do #rodoanel no sentido perus, pista interna, para a #imigrantes na direção do litoral. um caminhão-tanque tombou no local. houve vazamento de ácido clorídrico. ninguém ficou ferido neste acidente. a interdição acontece na altura do km 71.           [bloqueio, total, do, acesso, do, #, rodoanel, no, sentido, perus, ,, pista, interna, ,, para, a, #, imigrantes, na, direção, do, litoral., um, caminhão-tanque, tombou, no, local., houve, vazamento, de, ácido, clorídrico., ninguém, ficou, ferido, neste, acidente., a, interdição, acontece, na, altura, do, km, 71, .]                         \n",
       "6  ouvintes relatam #acidente no km 39 da rodovia dos bandeirantes, sent sp. lentidão de 1 km (radiotransitofm)                                                                                                                                                                       [ouvintes, relatam, #, acidente, no, km, 39, da, rodovia, dos, bandeirantes, ,, sent, sp., lentidão, de, 1, km, (, radiotransitofm, )]                                                                                                                                                                                                               \n",
       "7  capotamento no #corredornortesul sentido santana, na altura de congonhas. ouvintes relatam o capotamento de uma van no local. uma faixa está bloqueada.                                                                                                                            [capotamento, no, #, corredornortesul, sentido, santana, ,, na, altura, de, congonhas., ouvintes, relatam, o, capotamento, de, uma, van, no, local., uma, faixa, está, bloqueada, .]                                                                                                                                                                 \n",
       "8  capotamento no #corredornortesul sentido santana, na altura de congonhas. ouvintes relatam o capotamento de uma van no local. uma faixa está bloqueada.                                                                                                                            [capotamento, no, #, corredornortesul, sentido, santana, ,, na, altura, de, congonhas., ouvintes, relatam, o, capotamento, de, uma, van, no, local., uma, faixa, está, bloqueada, .]                                                                                                                                                                 \n",
       "9  capotamento no #corredornortesul sentido santana, na altura de congonhas. ouvintes relatam o capotamento de uma van no local. uma faixa está bloqueada.                                                                                                                            [capotamento, no, #, corredornortesul, sentido, santana, ,, na, altura, de, congonhas., ouvintes, relatam, o, capotamento, de, uma, van, no, local., uma, faixa, está, bloqueada, .]                                                                                                                                                                 "
      ]
     },
     "execution_count": 10,
     "metadata": {},
     "output_type": "execute_result"
    }
   ],
   "source": [
    "#pd.options.display.max_colwidth = 100\n",
    "tokenizer = TreebankWordTokenizer()\n",
    "full_data['tokens'] = full_data['texto_formatado'].apply(lambda t: tokenizer.tokenize(t))\n",
    "full_data[['texto_formatado','tokens']].head(10)"
   ]
  },
  {
   "cell_type": "code",
   "execution_count": 11,
   "metadata": {},
   "outputs": [
    {
     "data": {
      "text/html": [
       "<div>\n",
       "<style scoped>\n",
       "    .dataframe tbody tr th:only-of-type {\n",
       "        vertical-align: middle;\n",
       "    }\n",
       "\n",
       "    .dataframe tbody tr th {\n",
       "        vertical-align: top;\n",
       "    }\n",
       "\n",
       "    .dataframe thead th {\n",
       "        text-align: right;\n",
       "    }\n",
       "</style>\n",
       "<table border=\"1\" class=\"dataframe\">\n",
       "  <thead>\n",
       "    <tr style=\"text-align: right;\">\n",
       "      <th></th>\n",
       "      <th>tokens</th>\n",
       "      <th>words</th>\n",
       "    </tr>\n",
       "  </thead>\n",
       "  <tbody>\n",
       "    <tr>\n",
       "      <td>0</td>\n",
       "      <td>[as, faixas, foram, liberadas, na, rod, dom, pedro, i, (, sp-065, ), no, km, 33, ,, em, igaratá, ,, região, do, vale, do, paraíba, ,, após, um, grave, acidente, das, 19h30, de, ontem, ,, na, pista, no, sentido, de, jacareí, ,, envolvendo, uma, carreta, ,, dois, caminhões, ,, um, fiat, fiorino, e, um, renault, sandero., #, seumelhorcaminho]</td>\n",
       "      <td>[faixas, liberadas, rod, dom, pedro, i, sp-065, km, 33, igaratá, região, vale, paraíba, após, grave, acidente, 19h30, ontem, pista, sentido, jacareí, envolvendo, carreta, dois, caminhões, fiat, fiorino, renault, sandero., seumelhorcaminho]</td>\n",
       "    </tr>\n",
       "    <tr>\n",
       "      <td>1</td>\n",
       "      <td>[um, dos, caminhões, e, a, carreta, tombaram, no, acidente, ,, deixando, cair, na, pista, as, cargas, de, peças, de, aç]</td>\n",
       "      <td>[caminhões, carreta, tombaram, acidente, deixando, cair, pista, cargas, peças, aç]</td>\n",
       "    </tr>\n",
       "    <tr>\n",
       "      <td>2</td>\n",
       "      <td>[ouvintes, relatam, #, acidente, no, km, 39, da, rodovia, dos, bandeirantes, ,, sentido, sp., lentidão, de, 1, km, .]</td>\n",
       "      <td>[ouvintes, relatam, acidente, km, 39, rodovia, bandeirantes, sentido, sp., lentidão, 1, km]</td>\n",
       "    </tr>\n",
       "    <tr>\n",
       "      <td>3</td>\n",
       "      <td>[13h24, -, acidente, de, trânsito, ,, carro, x, moto, ,, na, rua, pedro, de, toledo, ,, 1651, –, vila, mariana., uma, vítima, ,, masc., ,, 39, anos, ,, lesão, em, membro, inferior, direito., #, 193r]</td>\n",
       "      <td>[13h24, acidente, trânsito, carro, x, moto, rua, pedro, toledo, 1651, –, vila, mariana., vítima, masc., 39, anos, lesão, membro, inferior, direito., 193r]</td>\n",
       "    </tr>\n",
       "    <tr>\n",
       "      <td>4</td>\n",
       "      <td>[acidente, de, trânsito, ,, carro, x, moto, ,, na, r.pedro, de, toledo, ,, 1651, –, vila, mariana., uma, vítima, ,, masc., ,]</td>\n",
       "      <td>[acidente, trânsito, carro, x, moto, r.pedro, toledo, 1651, –, vila, mariana., vítima, masc.]</td>\n",
       "    </tr>\n",
       "    <tr>\n",
       "      <td>5</td>\n",
       "      <td>[bloqueio, total, do, acesso, do, #, rodoanel, no, sentido, perus, ,, pista, interna, ,, para, a, #, imigrantes, na, direção, do, litoral., um, caminhão-tanque, tombou, no, local., houve, vazamento, de, ácido, clorídrico., ninguém, ficou, ferido, neste, acidente., a, interdição, acontece, na, altura, do, km, 71, .]</td>\n",
       "      <td>[bloqueio, total, acesso, rodoanel, sentido, perus, pista, interna, imigrantes, direção, litoral., caminhão-tanque, tombou, local., vazamento, ácido, clorídrico., ninguém, ficou, ferido, neste, acidente., interdição, acontece, altura, km, 71]</td>\n",
       "    </tr>\n",
       "    <tr>\n",
       "      <td>6</td>\n",
       "      <td>[ouvintes, relatam, #, acidente, no, km, 39, da, rodovia, dos, bandeirantes, ,, sent, sp., lentidão, de, 1, km, (, radiotransitofm, )]</td>\n",
       "      <td>[ouvintes, relatam, acidente, km, 39, rodovia, bandeirantes, sent, sp., lentidão, 1, km, radiotransitofm]</td>\n",
       "    </tr>\n",
       "    <tr>\n",
       "      <td>7</td>\n",
       "      <td>[capotamento, no, #, corredornortesul, sentido, santana, ,, na, altura, de, congonhas., ouvintes, relatam, o, capotamento, de, uma, van, no, local., uma, faixa, está, bloqueada, .]</td>\n",
       "      <td>[capotamento, corredornortesul, sentido, santana, altura, congonhas., ouvintes, relatam, capotamento, van, local., faixa, bloqueada]</td>\n",
       "    </tr>\n",
       "    <tr>\n",
       "      <td>8</td>\n",
       "      <td>[capotamento, no, #, corredornortesul, sentido, santana, ,, na, altura, de, congonhas., ouvintes, relatam, o, capotamento, de, uma, van, no, local., uma, faixa, está, bloqueada, .]</td>\n",
       "      <td>[capotamento, corredornortesul, sentido, santana, altura, congonhas., ouvintes, relatam, capotamento, van, local., faixa, bloqueada]</td>\n",
       "    </tr>\n",
       "    <tr>\n",
       "      <td>9</td>\n",
       "      <td>[capotamento, no, #, corredornortesul, sentido, santana, ,, na, altura, de, congonhas., ouvintes, relatam, o, capotamento, de, uma, van, no, local., uma, faixa, está, bloqueada, .]</td>\n",
       "      <td>[capotamento, corredornortesul, sentido, santana, altura, congonhas., ouvintes, relatam, capotamento, van, local., faixa, bloqueada]</td>\n",
       "    </tr>\n",
       "    <tr>\n",
       "      <td>10</td>\n",
       "      <td>[um, acidente, entre, uma, viatura, e, uma, van, bloqueia, parcialmente, a, avenida, mateo, bei, ,, sentido, centro, ,, após, r., margarida, cardoso, dos, santos., o, trânsito, está, lento, desde, av., maria, cursi, ,, em, #, sãomateus., fotos, do, ouvinte, emerson., #, seumelhorcaminho, #, podeconfiar]</td>\n",
       "      <td>[acidente, viatura, van, bloqueia, parcialmente, avenida, mateo, bei, sentido, centro, após, r., margarida, cardoso, santos., trânsito, lento, desde, av., maria, cursi, sãomateus., fotos, ouvinte, emerson., seumelhorcaminho, podeconfiar]</td>\n",
       "    </tr>\n",
       "    <tr>\n",
       "      <td>11</td>\n",
       "      <td>[um, acidente, entre, uma, viatura, e, uma, van, bloqueia, parcialmente, a, av.mateo, bei, ,, sent, centro, ,, após, r, .]</td>\n",
       "      <td>[acidente, viatura, van, bloqueia, parcialmente, av.mateo, bei, sent, centro, após, r]</td>\n",
       "    </tr>\n",
       "    <tr>\n",
       "      <td>12</td>\n",
       "      <td>[05h46, acidente, de, trânsito, ,, queda, de, moto, ,, av., josé, pinheiro, borges, ,, 1000, ,, ref, :, após, o, centro, de, itaquera, ,, antes, do, túnel, ,, sentido, centro., resgate, à, caminho, ,, aguardando, maiores, informações, do, local., #, 193r]</td>\n",
       "      <td>[05h46, acidente, trânsito, queda, moto, av., josé, pinheiro, borges, 1000, ref, após, centro, itaquera, antes, túnel, sentido, centro., resgate, caminho, aguardando, maiores, informações, local., 193r]</td>\n",
       "    </tr>\n",
       "    <tr>\n",
       "      <td>13</td>\n",
       "      <td>[acidente, de, trânsito, ,, queda, de, moto, ,, av.josé, pinheiro, borges, ,, 1000, ,, ref, :, após, o, centro, de, itaquera]</td>\n",
       "      <td>[acidente, trânsito, queda, moto, av.josé, pinheiro, borges, 1000, ref, após, centro, itaquera]</td>\n",
       "    </tr>\n",
       "    <tr>\n",
       "      <td>14</td>\n",
       "      <td>[ouvintes, relatam, um, #, acidente, av., santa, catarina, com, rua, coriolano, durantd, ,, sentido, bairro., uma, faixa, interditada, .]</td>\n",
       "      <td>[ouvintes, relatam, acidente, av., santa, catarina, rua, coriolano, durantd, sentido, bairro., faixa, interditada]</td>\n",
       "    </tr>\n",
       "    <tr>\n",
       "      <td>15</td>\n",
       "      <td>[ouvintes, relatam, um, #, acidente, av.santa, catarina, c/, r.coriolano, durantd, ,, sent, bairro., uma, faixa, interditada, (, radiotransitofm, )]</td>\n",
       "      <td>[ouvintes, relatam, acidente, av.santa, catarina, c/, r.coriolano, durantd, sent, bairro., faixa, interditada, radiotransitofm]</td>\n",
       "    </tr>\n",
       "    <tr>\n",
       "      <td>16</td>\n",
       "      <td>[atualizando, ocorrência, de, colisão, na, rodovia, sp, 270, ,, sem, vítimas, no, local., polícia, rodoviária, estadual, no, local, e, d.e.r., #, 193r]</td>\n",
       "      <td>[atualizando, ocorrência, colisão, rodovia, sp, 270, vítimas, local., polícia, rodoviária, estadual, local, d.e.r., 193r]</td>\n",
       "    </tr>\n",
       "    <tr>\n",
       "      <td>17</td>\n",
       "      <td>[acidente, entre, 3, veículos, na, av.teresópolis, sent, c/b, próx., a, r.cel., joão, pinto., não, hou…]</td>\n",
       "      <td>[acidente, 3, veículos, av.teresópolis, sent, c/b, próx., r.cel., joão, pinto., hou…]</td>\n",
       "    </tr>\n",
       "    <tr>\n",
       "      <td>18</td>\n",
       "      <td>[bloqueio, total, da, cônego, domênico, rangoni, ,, sentido, guarujá, ,, devido, acidente, no, km, 254., tráfego, congestionado, desde, o, km, 256., não, há, mais, informações, no, momento, .]</td>\n",
       "      <td>[bloqueio, total, cônego, domênico, rangoni, sentido, guarujá, devido, acidente, km, 254., tráfego, congestionado, desde, km, 256., informações, momento]</td>\n",
       "    </tr>\n",
       "    <tr>\n",
       "      <td>19</td>\n",
       "      <td>[bloqueio, total, da, cônego, domênico, rangoni, ,, sent, guarujá, ,, devido, acidente, no, km, 254., tráfego, congest., desd]</td>\n",
       "      <td>[bloqueio, total, cônego, domênico, rangoni, sent, guarujá, devido, acidente, km, 254., tráfego, congest., desd]</td>\n",
       "    </tr>\n",
       "    <tr>\n",
       "      <td>20</td>\n",
       "      <td>[bloqueio, total, -, um, tombamento, de, carreta, interdita, totalmente, a, rodovia, cônego, domênico, rangoni, na, altura, do, quilômetro, 253, ,, sentido, guarujá., há, congestionamento, desde, o, quilômetro, 257., não, há, informações, sobre, vítimas, até, o, momento., fotos, do, ouvinte, julio., #, trânsito]</td>\n",
       "      <td>[bloqueio, total, tombamento, carreta, interdita, totalmente, rodovia, cônego, domênico, rangoni, altura, quilômetro, 253, sentido, guarujá., congestionamento, desde, quilômetro, 257., informações, sobre, vítimas, momento., fotos, ouvinte, julio., trânsito]</td>\n",
       "    </tr>\n",
       "    <tr>\n",
       "      <td>21</td>\n",
       "      <td>[o, pedágio, da, cônego, domênico, está, bloqueado, no, sentido, cubatão, para, que, o, socorro, possa, trafegar, pela, contramão, e, chegar, ao, acidente, no, km, 253, .]</td>\n",
       "      <td>[pedágio, cônego, domênico, bloqueado, sentido, cubatão, socorro, possa, trafegar, contramão, chegar, acidente, km, 253]</td>\n",
       "    </tr>\n",
       "    <tr>\n",
       "      <td>22</td>\n",
       "      <td>[ouvintes, relatam, #, acidente, no, km, 19, da, #, ayrtonsenna, sentido, sp., o, #, acidente, aconteceu, na, pista, lateral, ,, que, dá, acesso, ao, aeroporto, .]</td>\n",
       "      <td>[ouvintes, relatam, acidente, km, 19, ayrtonsenna, sentido, sp., acidente, aconteceu, pista, lateral, dá, acesso, aeroporto]</td>\n",
       "    </tr>\n",
       "    <tr>\n",
       "      <td>23</td>\n",
       "      <td>[ouvintes, relatam, #, acidente, no, km, 19, da, #, ayrtonsenna, sent, sp., o, #, acidente, aconteceu, na, pista, lateral, ,, que, dá, acesso, ao, aero, (, radiotransitofm, )]</td>\n",
       "      <td>[ouvintes, relatam, acidente, km, 19, ayrtonsenna, sent, sp., acidente, aconteceu, pista, lateral, dá, acesso, aero, radiotransitofm]</td>\n",
       "    </tr>\n",
       "    <tr>\n",
       "      <td>24</td>\n",
       "      <td>[carro, caiu, em, um, córrego, na, av., mutinga, ,, perto, da, av., dos, remédios, ,, na, região, da, vila, jaguara., ainda, sem, informação, de, vítimas, nesse, #, acidente, .]</td>\n",
       "      <td>[carro, caiu, córrego, av., mutinga, perto, av., remédios, região, vila, jaguara., ainda, informação, vítimas, nesse, acidente]</td>\n",
       "    </tr>\n",
       "    <tr>\n",
       "      <td>25</td>\n",
       "      <td>[atenção, para, acidentes, em, poa, e, região, metropolitana., houve, uma, colisão, entre, 2, carros, na, rs040, ,, pró]</td>\n",
       "      <td>[atenção, acidentes, poa, região, metropolitana., colisão, 2, carros, rs040, pró]</td>\n",
       "    </tr>\n",
       "    <tr>\n",
       "      <td>26</td>\n",
       "      <td>[⚠, atenção, na, castello, branco, :, ,, escolta, militar, ,, acidente, carro, x, carro, e, queda, de, moto, dificultam, o, trâns]</td>\n",
       "      <td>[⚠, atenção, castello, branco, escolta, militar, acidente, carro, x, carro, queda, moto, dificultam, trâns]</td>\n",
       "    </tr>\n",
       "    <tr>\n",
       "      <td>27</td>\n",
       "      <td>[16h, av., antônio, carlos, |, acidente, após, a, rua, alcobaça, (, liberdade, ), ,, na, faixa, da, esquerda, ,, deixa, o, trânsito, lento, no, sentido, centro/bairro, .]</td>\n",
       "      <td>[16h, av., antônio, carlos, acidente, após, rua, alcobaça, liberdade, faixa, esquerda, deixa, trânsito, lento, sentido, centro/bairro]</td>\n",
       "    </tr>\n",
       "    <tr>\n",
       "      <td>28</td>\n",
       "      <td>[marginal, do, pinheiros, -, dois, carros, bateram, na, pista, sentido, #, interlagos, ,, pouco, antes, da, ponte, eusébio, matoso., ninguém, se, feriu, no, #, acidente., o, congestionamento, é, grande, :, desde, o, #, cebolão, até, a, ponte, eusébio, matoso, ,, onde, aconteceu, a, colisão., imagens, :, alessandra, ferreira, .]</td>\n",
       "      <td>[marginal, pinheiros, dois, carros, bateram, pista, sentido, interlagos, pouco, antes, ponte, eusébio, matoso., ninguém, feriu, acidente., congestionamento, grande, desde, cebolão, ponte, eusébio, matoso, onde, aconteceu, colisão., imagens, alessandra, ferreira]</td>\n",
       "    </tr>\n",
       "    <tr>\n",
       "      <td>29</td>\n",
       "      <td>[em, vacaria/rs, ,, no, km, 52, da, br116, ,, trânsito, interrompido, parcialmente, ,, devido, ao, tombamento, de, caminhão., p]</td>\n",
       "      <td>[vacaria/rs, km, 52, br116, trânsito, interrompido, parcialmente, devido, tombamento, caminhão., p]</td>\n",
       "    </tr>\n",
       "    <tr>\n",
       "      <td>30</td>\n",
       "      <td>[13h53, colisão, de, carro, x, moto, ,, av, das, nações, unidas, ,, 21600, –, sto, amaro., 1, vítm, ,, inconsciente, ,, motoqueiro, ,, que, está, desacordado, ,, 1, unidade, de, resgate, e, 2, motocicletas, do, corpo, de, bombeiros, a, caminho., aguardando, informações, do, local, .]</td>\n",
       "      <td>[13h53, colisão, carro, x, moto, av, nações, unidas, 21600, –, sto, amaro., 1, vítm, inconsciente, motoqueiro, desacordado, 1, unidade, resgate, 2, motocicletas, corpo, bombeiros, caminho., aguardando, informações, local]</td>\n",
       "    </tr>\n",
       "    <tr>\n",
       "      <td>31</td>\n",
       "      <td>[colisão, de, carro, x, moto, ,, av.das, nações, unidas, ,, 21600, –, sto, amaro., 1, vítm, ,, inconsciente, ,, motoqueiro]</td>\n",
       "      <td>[colisão, carro, x, moto, av.das, nações, unidas, 21600, –, sto, amaro., 1, vítm, inconsciente, motoqueiro]</td>\n",
       "    </tr>\n",
       "    <tr>\n",
       "      <td>32</td>\n",
       "      <td>[em, nova, santa, rita/rs, ,, no, km, 434, da, br386, ,, trânsito, interrompido, para, retirada, de, um, caminhão, acidentado]</td>\n",
       "      <td>[nova, santa, rita/rs, km, 434, br386, trânsito, interrompido, retirada, caminhão, acidentado]</td>\n",
       "    </tr>\n",
       "    <tr>\n",
       "      <td>33</td>\n",
       "      <td>[em, eldorado, do, sul, ,, no, km, 116, da, br290, ,, trânsito, interrompido, para, retirada, de, caminhão, acidentado]</td>\n",
       "      <td>[eldorado, sul, km, 116, br290, trânsito, interrompido, retirada, caminhão, acidentado]</td>\n",
       "    </tr>\n",
       "    <tr>\n",
       "      <td>34</td>\n",
       "      <td>[@, radiotransitofm, caminhão, tombado, no, acesso, da, dutra, para, a, fernão, dias., (, sentido, aeroporto, ), acesso, fechado, por, conta, do, acidente, .]</td>\n",
       "      <td>[radiotransitofm, caminhão, tombado, acesso, dutra, fernão, dias., sentido, aeroporto, acesso, fechado, conta, acidente]</td>\n",
       "    </tr>\n",
       "    <tr>\n",
       "      <td>35</td>\n",
       "      <td>[esses, buracos, que, aparecem, na, av.mathias, beck, ,, aparecem, há, mais, de, 02, anos, !, !, !, fruto, do, trânsito, intenso, da, região, após, a…, (, @, cionijuliana, )]</td>\n",
       "      <td>[buracos, aparecem, av.mathias, beck, aparecem, 02, anos, fruto, trânsito, intenso, região, após, a…, cionijuliana]</td>\n",
       "    </tr>\n",
       "    <tr>\n",
       "      <td>36</td>\n",
       "      <td>[ouvintes, relatam, #, acidente, no, cruzamento, da, av., tiradentes, com, a, rua, joão, teodoro., vítima, recebendo, resgate, .]</td>\n",
       "      <td>[ouvintes, relatam, acidente, cruzamento, av., tiradentes, rua, joão, teodoro., vítima, recebendo, resgate]</td>\n",
       "    </tr>\n",
       "    <tr>\n",
       "      <td>37</td>\n",
       "      <td>[bom, dia, ,, motorista, !, voltamos, com, o, nosso, atendimento, pelo, twitter., a, chegada, a, são, paulo, está, com, tráfego, lento, pela, anchieta, ,, do, km, 13, ao, km, 10, e, pela, imigrantes, ,, do, km, 16, ao, km, 14, ,, devido, ao, excesso, de, veículos., o, tempo, está, encoberto, ,, mas, com, boa, visibilidade, .]</td>\n",
       "      <td>[bom, dia, motorista, voltamos, atendimento, twitter., chegada, paulo, tráfego, lento, anchieta, km, 13, km, 10, imigrantes, km, 16, km, 14, devido, excesso, veículos., tempo, encoberto, boa, visibilidade]</td>\n",
       "    </tr>\n",
       "    <tr>\n",
       "      <td>38</td>\n",
       "      <td>[@, nelson_1jr, olá, ,, considerando, a, previsão, da, redução, de, circulação, de, veículos, nos, dias, de, carnaval, e, na, quarta-feira, de, cinzas, ,, o, rodízio, será, suspenso, nos, dias, 04, ,, 05, e, 06, de, março, de, 2019, .]</td>\n",
       "      <td>[nelson_1jr, olá, considerando, previsão, redução, circulação, veículos, dias, carnaval, quarta-feira, cinzas, rodízio, suspenso, dias, 04, 05, 06, março, 2019]</td>\n",
       "    </tr>\n",
       "    <tr>\n",
       "      <td>39</td>\n",
       "      <td>[anchieta, com, lentidão, ,, no, sentido, litoral, ,, do, km, 37, ao, km, 40, e, do, km, 63, ao, km, 65, ,, devido, excesso, de, veículos, .]</td>\n",
       "      <td>[anchieta, lentidão, sentido, litoral, km, 37, km, 40, km, 63, km, 65, devido, excesso, veículos]</td>\n",
       "    </tr>\n",
       "    <tr>\n",
       "      <td>40</td>\n",
       "      <td>[o, uso, do, cinto, de, segurança, é, obrigatório, e, é, muito, importante, para, você, ter, mais, segurança, no, trânsito, .]</td>\n",
       "      <td>[uso, cinto, segurança, obrigatório, importante, ter, segurança, trânsito]</td>\n",
       "    </tr>\n",
       "    <tr>\n",
       "      <td>41</td>\n",
       "      <td>[complicou, !, -, sete, carros, bateram, no, quilômetro, 27, da, rodovia, dos, bandeirantes, ,, em, perus, ,, sentido, são, paulo., três, faixas, bloqueadas, e, congestionamento, desde, o, km, 30., #, trânsito, #, podeconfiar]</td>\n",
       "      <td>[complicou, sete, carros, bateram, quilômetro, 27, rodovia, bandeirantes, perus, sentido, paulo., três, faixas, bloqueadas, congestionamento, desde, km, 30., trânsito, podeconfiar]</td>\n",
       "    </tr>\n",
       "    <tr>\n",
       "      <td>42</td>\n",
       "      <td>[@, radiotransitofm, falando, em, acidente, a, ponte, j.dias, sentido, sto.amaro, ,, tem, um, espaço, de, uns, 30cm, ou, mais, logo, na, primeira, junta, de, dilatação, da, ponte, ,, o, carro, bate, até, o, certificado, ..., .., boa, tarde, ...]</td>\n",
       "      <td>[radiotransitofm, falando, acidente, ponte, j.dias, sentido, sto.amaro, espaço, uns, 30cm, logo, primeira, junta, dilatação, ponte, carro, bate, certificado, ..., .., boa, tarde, ...]</td>\n",
       "    </tr>\n",
       "    <tr>\n",
       "      <td>43</td>\n",
       "      <td>[16h15, -, colisão, de, carro, x, caminhão, ,, 02, vítimas, presas, nas, ferragens, ,, na, estrada, de, sapopemba, ,, s/nº, -, ribeirão, pires, ,, 03, vtrs, e, águia, 07, no, local, ,, aguardando, maiores, informes, do, local., #, 193s]</td>\n",
       "      <td>[16h15, colisão, carro, x, caminhão, 02, vítimas, presas, ferragens, estrada, sapopemba, s/nº, ribeirão, pires, 03, vtrs, águia, 07, local, aguardando, maiores, informes, local., 193s]</td>\n",
       "    </tr>\n",
       "    <tr>\n",
       "      <td>44</td>\n",
       "      <td>[ouvintes, relatam, #, acidente, entre, carro, e, moto, na, expressa, da, #, marginaldotiete, sentido, cebolão, ,, altura, da, ponte, aricanduva., uma, faixa, bloqueada, .]</td>\n",
       "      <td>[ouvintes, relatam, acidente, carro, moto, expressa, marginaldotiete, sentido, cebolão, altura, ponte, aricanduva., faixa, bloqueada]</td>\n",
       "    </tr>\n",
       "    <tr>\n",
       "      <td>45</td>\n",
       "      <td>[ouvintes, relatam, #, acidente, entre, carro, e, moto, na, expressa, da, #, marginaldotiete, sent, cebolão, ,, altura]</td>\n",
       "      <td>[ouvintes, relatam, acidente, carro, moto, expressa, marginaldotiete, sent, cebolão, altura]</td>\n",
       "    </tr>\n",
       "    <tr>\n",
       "      <td>46</td>\n",
       "      <td>[um, ciclista, morreu, após, atropelamento, por, veículo, utilitário, no, km, 21, da, rodovia, anhanguera, ,, sent]</td>\n",
       "      <td>[ciclista, morreu, após, atropelamento, veículo, utilitário, km, 21, rodovia, anhanguera, sent]</td>\n",
       "    </tr>\n",
       "    <tr>\n",
       "      <td>47</td>\n",
       "      <td>[liberado, o, trânsito, na, protásio, alves, próx., da, antonio, de, carvalho, ,, em, poa., mais, cedo, houve, uma, coli]</td>\n",
       "      <td>[liberado, trânsito, protásio, alves, próx., antonio, carvalho, poa., cedo, coli]</td>\n",
       "    </tr>\n",
       "    <tr>\n",
       "      <td>48</td>\n",
       "      <td>[@, arteris_afd, informações, sobre, o, acidente, no, km, 43, ?]</td>\n",
       "      <td>[arteris_afd, informações, sobre, acidente, km, 43]</td>\n",
       "    </tr>\n",
       "    <tr>\n",
       "      <td>49</td>\n",
       "      <td>[@, radiotransitofm, bom, dia., um, acidente, no, km, 46, (, atibaia, ), ,, no, sentido, belo, horizonte, ,, bloqueia, a, faixa, esquerda, ,, a, central, e, o, acostamento., o, fluxo, de, veículos, segue, pela, faixa, da, direita, ,, mas, sem, registros, de, congestionamento, .]</td>\n",
       "      <td>[radiotransitofm, bom, dia., acidente, km, 46, atibaia, sentido, belo, horizonte, bloqueia, faixa, esquerda, central, acostamento., fluxo, veículos, segue, faixa, direita, registros, congestionamento]</td>\n",
       "    </tr>\n",
       "  </tbody>\n",
       "</table>\n",
       "</div>"
      ],
      "text/plain": [
       "                                                                                                                                                                                                                                                                                                                                                   tokens                                                                                                                                                                                                                                                                   words\n",
       "0   [as, faixas, foram, liberadas, na, rod, dom, pedro, i, (, sp-065, ), no, km, 33, ,, em, igaratá, ,, região, do, vale, do, paraíba, ,, após, um, grave, acidente, das, 19h30, de, ontem, ,, na, pista, no, sentido, de, jacareí, ,, envolvendo, uma, carreta, ,, dois, caminhões, ,, um, fiat, fiorino, e, um, renault, sandero., #, seumelhorcaminho]  [faixas, liberadas, rod, dom, pedro, i, sp-065, km, 33, igaratá, região, vale, paraíba, após, grave, acidente, 19h30, ontem, pista, sentido, jacareí, envolvendo, carreta, dois, caminhões, fiat, fiorino, renault, sandero., seumelhorcaminho]                       \n",
       "1   [um, dos, caminhões, e, a, carreta, tombaram, no, acidente, ,, deixando, cair, na, pista, as, cargas, de, peças, de, aç]                                                                                                                                                                                                                               [caminhões, carreta, tombaram, acidente, deixando, cair, pista, cargas, peças, aç]                                                                                                                                                                                    \n",
       "2   [ouvintes, relatam, #, acidente, no, km, 39, da, rodovia, dos, bandeirantes, ,, sentido, sp., lentidão, de, 1, km, .]                                                                                                                                                                                                                                  [ouvintes, relatam, acidente, km, 39, rodovia, bandeirantes, sentido, sp., lentidão, 1, km]                                                                                                                                                                           \n",
       "3   [13h24, -, acidente, de, trânsito, ,, carro, x, moto, ,, na, rua, pedro, de, toledo, ,, 1651, –, vila, mariana., uma, vítima, ,, masc., ,, 39, anos, ,, lesão, em, membro, inferior, direito., #, 193r]                                                                                                                                                [13h24, acidente, trânsito, carro, x, moto, rua, pedro, toledo, 1651, –, vila, mariana., vítima, masc., 39, anos, lesão, membro, inferior, direito., 193r]                                                                                                            \n",
       "4   [acidente, de, trânsito, ,, carro, x, moto, ,, na, r.pedro, de, toledo, ,, 1651, –, vila, mariana., uma, vítima, ,, masc., ,]                                                                                                                                                                                                                          [acidente, trânsito, carro, x, moto, r.pedro, toledo, 1651, –, vila, mariana., vítima, masc.]                                                                                                                                                                         \n",
       "5   [bloqueio, total, do, acesso, do, #, rodoanel, no, sentido, perus, ,, pista, interna, ,, para, a, #, imigrantes, na, direção, do, litoral., um, caminhão-tanque, tombou, no, local., houve, vazamento, de, ácido, clorídrico., ninguém, ficou, ferido, neste, acidente., a, interdição, acontece, na, altura, do, km, 71, .]                           [bloqueio, total, acesso, rodoanel, sentido, perus, pista, interna, imigrantes, direção, litoral., caminhão-tanque, tombou, local., vazamento, ácido, clorídrico., ninguém, ficou, ferido, neste, acidente., interdição, acontece, altura, km, 71]                    \n",
       "6   [ouvintes, relatam, #, acidente, no, km, 39, da, rodovia, dos, bandeirantes, ,, sent, sp., lentidão, de, 1, km, (, radiotransitofm, )]                                                                                                                                                                                                                 [ouvintes, relatam, acidente, km, 39, rodovia, bandeirantes, sent, sp., lentidão, 1, km, radiotransitofm]                                                                                                                                                             \n",
       "7   [capotamento, no, #, corredornortesul, sentido, santana, ,, na, altura, de, congonhas., ouvintes, relatam, o, capotamento, de, uma, van, no, local., uma, faixa, está, bloqueada, .]                                                                                                                                                                   [capotamento, corredornortesul, sentido, santana, altura, congonhas., ouvintes, relatam, capotamento, van, local., faixa, bloqueada]                                                                                                                                  \n",
       "8   [capotamento, no, #, corredornortesul, sentido, santana, ,, na, altura, de, congonhas., ouvintes, relatam, o, capotamento, de, uma, van, no, local., uma, faixa, está, bloqueada, .]                                                                                                                                                                   [capotamento, corredornortesul, sentido, santana, altura, congonhas., ouvintes, relatam, capotamento, van, local., faixa, bloqueada]                                                                                                                                  \n",
       "9   [capotamento, no, #, corredornortesul, sentido, santana, ,, na, altura, de, congonhas., ouvintes, relatam, o, capotamento, de, uma, van, no, local., uma, faixa, está, bloqueada, .]                                                                                                                                                                   [capotamento, corredornortesul, sentido, santana, altura, congonhas., ouvintes, relatam, capotamento, van, local., faixa, bloqueada]                                                                                                                                  \n",
       "10  [um, acidente, entre, uma, viatura, e, uma, van, bloqueia, parcialmente, a, avenida, mateo, bei, ,, sentido, centro, ,, após, r., margarida, cardoso, dos, santos., o, trânsito, está, lento, desde, av., maria, cursi, ,, em, #, sãomateus., fotos, do, ouvinte, emerson., #, seumelhorcaminho, #, podeconfiar]                                       [acidente, viatura, van, bloqueia, parcialmente, avenida, mateo, bei, sentido, centro, após, r., margarida, cardoso, santos., trânsito, lento, desde, av., maria, cursi, sãomateus., fotos, ouvinte, emerson., seumelhorcaminho, podeconfiar]                         \n",
       "11  [um, acidente, entre, uma, viatura, e, uma, van, bloqueia, parcialmente, a, av.mateo, bei, ,, sent, centro, ,, após, r, .]                                                                                                                                                                                                                             [acidente, viatura, van, bloqueia, parcialmente, av.mateo, bei, sent, centro, após, r]                                                                                                                                                                                \n",
       "12  [05h46, acidente, de, trânsito, ,, queda, de, moto, ,, av., josé, pinheiro, borges, ,, 1000, ,, ref, :, após, o, centro, de, itaquera, ,, antes, do, túnel, ,, sentido, centro., resgate, à, caminho, ,, aguardando, maiores, informações, do, local., #, 193r]                                                                                        [05h46, acidente, trânsito, queda, moto, av., josé, pinheiro, borges, 1000, ref, após, centro, itaquera, antes, túnel, sentido, centro., resgate, caminho, aguardando, maiores, informações, local., 193r]                                                            \n",
       "13  [acidente, de, trânsito, ,, queda, de, moto, ,, av.josé, pinheiro, borges, ,, 1000, ,, ref, :, após, o, centro, de, itaquera]                                                                                                                                                                                                                          [acidente, trânsito, queda, moto, av.josé, pinheiro, borges, 1000, ref, após, centro, itaquera]                                                                                                                                                                       \n",
       "14  [ouvintes, relatam, um, #, acidente, av., santa, catarina, com, rua, coriolano, durantd, ,, sentido, bairro., uma, faixa, interditada, .]                                                                                                                                                                                                              [ouvintes, relatam, acidente, av., santa, catarina, rua, coriolano, durantd, sentido, bairro., faixa, interditada]                                                                                                                                                    \n",
       "15  [ouvintes, relatam, um, #, acidente, av.santa, catarina, c/, r.coriolano, durantd, ,, sent, bairro., uma, faixa, interditada, (, radiotransitofm, )]                                                                                                                                                                                                   [ouvintes, relatam, acidente, av.santa, catarina, c/, r.coriolano, durantd, sent, bairro., faixa, interditada, radiotransitofm]                                                                                                                                       \n",
       "16  [atualizando, ocorrência, de, colisão, na, rodovia, sp, 270, ,, sem, vítimas, no, local., polícia, rodoviária, estadual, no, local, e, d.e.r., #, 193r]                                                                                                                                                                                                [atualizando, ocorrência, colisão, rodovia, sp, 270, vítimas, local., polícia, rodoviária, estadual, local, d.e.r., 193r]                                                                                                                                             \n",
       "17  [acidente, entre, 3, veículos, na, av.teresópolis, sent, c/b, próx., a, r.cel., joão, pinto., não, hou…]                                                                                                                                                                                                                                               [acidente, 3, veículos, av.teresópolis, sent, c/b, próx., r.cel., joão, pinto., hou…]                                                                                                                                                                                 \n",
       "18  [bloqueio, total, da, cônego, domênico, rangoni, ,, sentido, guarujá, ,, devido, acidente, no, km, 254., tráfego, congestionado, desde, o, km, 256., não, há, mais, informações, no, momento, .]                                                                                                                                                       [bloqueio, total, cônego, domênico, rangoni, sentido, guarujá, devido, acidente, km, 254., tráfego, congestionado, desde, km, 256., informações, momento]                                                                                                             \n",
       "19  [bloqueio, total, da, cônego, domênico, rangoni, ,, sent, guarujá, ,, devido, acidente, no, km, 254., tráfego, congest., desd]                                                                                                                                                                                                                         [bloqueio, total, cônego, domênico, rangoni, sent, guarujá, devido, acidente, km, 254., tráfego, congest., desd]                                                                                                                                                      \n",
       "20  [bloqueio, total, -, um, tombamento, de, carreta, interdita, totalmente, a, rodovia, cônego, domênico, rangoni, na, altura, do, quilômetro, 253, ,, sentido, guarujá., há, congestionamento, desde, o, quilômetro, 257., não, há, informações, sobre, vítimas, até, o, momento., fotos, do, ouvinte, julio., #, trânsito]                              [bloqueio, total, tombamento, carreta, interdita, totalmente, rodovia, cônego, domênico, rangoni, altura, quilômetro, 253, sentido, guarujá., congestionamento, desde, quilômetro, 257., informações, sobre, vítimas, momento., fotos, ouvinte, julio., trânsito]     \n",
       "21  [o, pedágio, da, cônego, domênico, está, bloqueado, no, sentido, cubatão, para, que, o, socorro, possa, trafegar, pela, contramão, e, chegar, ao, acidente, no, km, 253, .]                                                                                                                                                                            [pedágio, cônego, domênico, bloqueado, sentido, cubatão, socorro, possa, trafegar, contramão, chegar, acidente, km, 253]                                                                                                                                              \n",
       "22  [ouvintes, relatam, #, acidente, no, km, 19, da, #, ayrtonsenna, sentido, sp., o, #, acidente, aconteceu, na, pista, lateral, ,, que, dá, acesso, ao, aeroporto, .]                                                                                                                                                                                    [ouvintes, relatam, acidente, km, 19, ayrtonsenna, sentido, sp., acidente, aconteceu, pista, lateral, dá, acesso, aeroporto]                                                                                                                                          \n",
       "23  [ouvintes, relatam, #, acidente, no, km, 19, da, #, ayrtonsenna, sent, sp., o, #, acidente, aconteceu, na, pista, lateral, ,, que, dá, acesso, ao, aero, (, radiotransitofm, )]                                                                                                                                                                        [ouvintes, relatam, acidente, km, 19, ayrtonsenna, sent, sp., acidente, aconteceu, pista, lateral, dá, acesso, aero, radiotransitofm]                                                                                                                                 \n",
       "24  [carro, caiu, em, um, córrego, na, av., mutinga, ,, perto, da, av., dos, remédios, ,, na, região, da, vila, jaguara., ainda, sem, informação, de, vítimas, nesse, #, acidente, .]                                                                                                                                                                      [carro, caiu, córrego, av., mutinga, perto, av., remédios, região, vila, jaguara., ainda, informação, vítimas, nesse, acidente]                                                                                                                                       \n",
       "25  [atenção, para, acidentes, em, poa, e, região, metropolitana., houve, uma, colisão, entre, 2, carros, na, rs040, ,, pró]                                                                                                                                                                                                                               [atenção, acidentes, poa, região, metropolitana., colisão, 2, carros, rs040, pró]                                                                                                                                                                                     \n",
       "26  [⚠, atenção, na, castello, branco, :, ,, escolta, militar, ,, acidente, carro, x, carro, e, queda, de, moto, dificultam, o, trâns]                                                                                                                                                                                                                     [⚠, atenção, castello, branco, escolta, militar, acidente, carro, x, carro, queda, moto, dificultam, trâns]                                                                                                                                                           \n",
       "27  [16h, av., antônio, carlos, |, acidente, após, a, rua, alcobaça, (, liberdade, ), ,, na, faixa, da, esquerda, ,, deixa, o, trânsito, lento, no, sentido, centro/bairro, .]                                                                                                                                                                             [16h, av., antônio, carlos, acidente, após, rua, alcobaça, liberdade, faixa, esquerda, deixa, trânsito, lento, sentido, centro/bairro]                                                                                                                                \n",
       "28  [marginal, do, pinheiros, -, dois, carros, bateram, na, pista, sentido, #, interlagos, ,, pouco, antes, da, ponte, eusébio, matoso., ninguém, se, feriu, no, #, acidente., o, congestionamento, é, grande, :, desde, o, #, cebolão, até, a, ponte, eusébio, matoso, ,, onde, aconteceu, a, colisão., imagens, :, alessandra, ferreira, .]              [marginal, pinheiros, dois, carros, bateram, pista, sentido, interlagos, pouco, antes, ponte, eusébio, matoso., ninguém, feriu, acidente., congestionamento, grande, desde, cebolão, ponte, eusébio, matoso, onde, aconteceu, colisão., imagens, alessandra, ferreira]\n",
       "29  [em, vacaria/rs, ,, no, km, 52, da, br116, ,, trânsito, interrompido, parcialmente, ,, devido, ao, tombamento, de, caminhão., p]                                                                                                                                                                                                                       [vacaria/rs, km, 52, br116, trânsito, interrompido, parcialmente, devido, tombamento, caminhão., p]                                                                                                                                                                   \n",
       "30  [13h53, colisão, de, carro, x, moto, ,, av, das, nações, unidas, ,, 21600, –, sto, amaro., 1, vítm, ,, inconsciente, ,, motoqueiro, ,, que, está, desacordado, ,, 1, unidade, de, resgate, e, 2, motocicletas, do, corpo, de, bombeiros, a, caminho., aguardando, informações, do, local, .]                                                           [13h53, colisão, carro, x, moto, av, nações, unidas, 21600, –, sto, amaro., 1, vítm, inconsciente, motoqueiro, desacordado, 1, unidade, resgate, 2, motocicletas, corpo, bombeiros, caminho., aguardando, informações, local]                                         \n",
       "31  [colisão, de, carro, x, moto, ,, av.das, nações, unidas, ,, 21600, –, sto, amaro., 1, vítm, ,, inconsciente, ,, motoqueiro]                                                                                                                                                                                                                            [colisão, carro, x, moto, av.das, nações, unidas, 21600, –, sto, amaro., 1, vítm, inconsciente, motoqueiro]                                                                                                                                                           \n",
       "32  [em, nova, santa, rita/rs, ,, no, km, 434, da, br386, ,, trânsito, interrompido, para, retirada, de, um, caminhão, acidentado]                                                                                                                                                                                                                         [nova, santa, rita/rs, km, 434, br386, trânsito, interrompido, retirada, caminhão, acidentado]                                                                                                                                                                        \n",
       "33  [em, eldorado, do, sul, ,, no, km, 116, da, br290, ,, trânsito, interrompido, para, retirada, de, caminhão, acidentado]                                                                                                                                                                                                                                [eldorado, sul, km, 116, br290, trânsito, interrompido, retirada, caminhão, acidentado]                                                                                                                                                                               \n",
       "34  [@, radiotransitofm, caminhão, tombado, no, acesso, da, dutra, para, a, fernão, dias., (, sentido, aeroporto, ), acesso, fechado, por, conta, do, acidente, .]                                                                                                                                                                                         [radiotransitofm, caminhão, tombado, acesso, dutra, fernão, dias., sentido, aeroporto, acesso, fechado, conta, acidente]                                                                                                                                              \n",
       "35  [esses, buracos, que, aparecem, na, av.mathias, beck, ,, aparecem, há, mais, de, 02, anos, !, !, !, fruto, do, trânsito, intenso, da, região, após, a…, (, @, cionijuliana, )]                                                                                                                                                                         [buracos, aparecem, av.mathias, beck, aparecem, 02, anos, fruto, trânsito, intenso, região, após, a…, cionijuliana]                                                                                                                                                   \n",
       "36  [ouvintes, relatam, #, acidente, no, cruzamento, da, av., tiradentes, com, a, rua, joão, teodoro., vítima, recebendo, resgate, .]                                                                                                                                                                                                                      [ouvintes, relatam, acidente, cruzamento, av., tiradentes, rua, joão, teodoro., vítima, recebendo, resgate]                                                                                                                                                           \n",
       "37  [bom, dia, ,, motorista, !, voltamos, com, o, nosso, atendimento, pelo, twitter., a, chegada, a, são, paulo, está, com, tráfego, lento, pela, anchieta, ,, do, km, 13, ao, km, 10, e, pela, imigrantes, ,, do, km, 16, ao, km, 14, ,, devido, ao, excesso, de, veículos., o, tempo, está, encoberto, ,, mas, com, boa, visibilidade, .]                [bom, dia, motorista, voltamos, atendimento, twitter., chegada, paulo, tráfego, lento, anchieta, km, 13, km, 10, imigrantes, km, 16, km, 14, devido, excesso, veículos., tempo, encoberto, boa, visibilidade]                                                         \n",
       "38  [@, nelson_1jr, olá, ,, considerando, a, previsão, da, redução, de, circulação, de, veículos, nos, dias, de, carnaval, e, na, quarta-feira, de, cinzas, ,, o, rodízio, será, suspenso, nos, dias, 04, ,, 05, e, 06, de, março, de, 2019, .]                                                                                                            [nelson_1jr, olá, considerando, previsão, redução, circulação, veículos, dias, carnaval, quarta-feira, cinzas, rodízio, suspenso, dias, 04, 05, 06, março, 2019]                                                                                                      \n",
       "39  [anchieta, com, lentidão, ,, no, sentido, litoral, ,, do, km, 37, ao, km, 40, e, do, km, 63, ao, km, 65, ,, devido, excesso, de, veículos, .]                                                                                                                                                                                                          [anchieta, lentidão, sentido, litoral, km, 37, km, 40, km, 63, km, 65, devido, excesso, veículos]                                                                                                                                                                     \n",
       "40  [o, uso, do, cinto, de, segurança, é, obrigatório, e, é, muito, importante, para, você, ter, mais, segurança, no, trânsito, .]                                                                                                                                                                                                                         [uso, cinto, segurança, obrigatório, importante, ter, segurança, trânsito]                                                                                                                                                                                            \n",
       "41  [complicou, !, -, sete, carros, bateram, no, quilômetro, 27, da, rodovia, dos, bandeirantes, ,, em, perus, ,, sentido, são, paulo., três, faixas, bloqueadas, e, congestionamento, desde, o, km, 30., #, trânsito, #, podeconfiar]                                                                                                                     [complicou, sete, carros, bateram, quilômetro, 27, rodovia, bandeirantes, perus, sentido, paulo., três, faixas, bloqueadas, congestionamento, desde, km, 30., trânsito, podeconfiar]                                                                                  \n",
       "42  [@, radiotransitofm, falando, em, acidente, a, ponte, j.dias, sentido, sto.amaro, ,, tem, um, espaço, de, uns, 30cm, ou, mais, logo, na, primeira, junta, de, dilatação, da, ponte, ,, o, carro, bate, até, o, certificado, ..., .., boa, tarde, ...]                                                                                                  [radiotransitofm, falando, acidente, ponte, j.dias, sentido, sto.amaro, espaço, uns, 30cm, logo, primeira, junta, dilatação, ponte, carro, bate, certificado, ..., .., boa, tarde, ...]                                                                               \n",
       "43  [16h15, -, colisão, de, carro, x, caminhão, ,, 02, vítimas, presas, nas, ferragens, ,, na, estrada, de, sapopemba, ,, s/nº, -, ribeirão, pires, ,, 03, vtrs, e, águia, 07, no, local, ,, aguardando, maiores, informes, do, local., #, 193s]                                                                                                           [16h15, colisão, carro, x, caminhão, 02, vítimas, presas, ferragens, estrada, sapopemba, s/nº, ribeirão, pires, 03, vtrs, águia, 07, local, aguardando, maiores, informes, local., 193s]                                                                              \n",
       "44  [ouvintes, relatam, #, acidente, entre, carro, e, moto, na, expressa, da, #, marginaldotiete, sentido, cebolão, ,, altura, da, ponte, aricanduva., uma, faixa, bloqueada, .]                                                                                                                                                                           [ouvintes, relatam, acidente, carro, moto, expressa, marginaldotiete, sentido, cebolão, altura, ponte, aricanduva., faixa, bloqueada]                                                                                                                                 \n",
       "45  [ouvintes, relatam, #, acidente, entre, carro, e, moto, na, expressa, da, #, marginaldotiete, sent, cebolão, ,, altura]                                                                                                                                                                                                                                [ouvintes, relatam, acidente, carro, moto, expressa, marginaldotiete, sent, cebolão, altura]                                                                                                                                                                          \n",
       "46  [um, ciclista, morreu, após, atropelamento, por, veículo, utilitário, no, km, 21, da, rodovia, anhanguera, ,, sent]                                                                                                                                                                                                                                    [ciclista, morreu, após, atropelamento, veículo, utilitário, km, 21, rodovia, anhanguera, sent]                                                                                                                                                                       \n",
       "47  [liberado, o, trânsito, na, protásio, alves, próx., da, antonio, de, carvalho, ,, em, poa., mais, cedo, houve, uma, coli]                                                                                                                                                                                                                              [liberado, trânsito, protásio, alves, próx., antonio, carvalho, poa., cedo, coli]                                                                                                                                                                                     \n",
       "48  [@, arteris_afd, informações, sobre, o, acidente, no, km, 43, ?]                                                                                                                                                                                                                                                                                       [arteris_afd, informações, sobre, acidente, km, 43]                                                                                                                                                                                                                   \n",
       "49  [@, radiotransitofm, bom, dia., um, acidente, no, km, 46, (, atibaia, ), ,, no, sentido, belo, horizonte, ,, bloqueia, a, faixa, esquerda, ,, a, central, e, o, acostamento., o, fluxo, de, veículos, segue, pela, faixa, da, direita, ,, mas, sem, registros, de, congestionamento, .]                                                                [radiotransitofm, bom, dia., acidente, km, 46, atibaia, sentido, belo, horizonte, bloqueia, faixa, esquerda, central, acostamento., fluxo, veículos, segue, faixa, direita, registros, congestionamento]                                                              "
      ]
     },
     "execution_count": 11,
     "metadata": {},
     "output_type": "execute_result"
    }
   ],
   "source": [
    "def create_stopword_list():\n",
    "    portuguese_stops = set(stopwords.words('portuguese'))\n",
    "    portuguese_stops.add('rt')\n",
    "\n",
    "    with open('punctuation.txt','r+') as punct_file:\n",
    "        puncts = punct_file.readlines()\n",
    "\n",
    "    for item in puncts:    \n",
    "        portuguese_stops.add(item.strip())\n",
    "        \n",
    "    return portuguese_stops\n",
    "\n",
    "stop_w = create_stopword_list()\n",
    "\n",
    "#aplica a remocao de stop-words\n",
    "full_data['words'] = full_data['tokens'].apply(lambda w: [word for word in w if word not in stop_w]) \n",
    "#exibe resultado intermediario\n",
    "full_data[['tokens','words']].head(50)"
   ]
  },
  {
   "cell_type": "code",
   "execution_count": 12,
   "metadata": {},
   "outputs": [
    {
     "name": "stdout",
     "output_type": "stream",
     "text": [
      "240\n"
     ]
    }
   ],
   "source": [
    "print(len(stop_w))"
   ]
  },
  {
   "cell_type": "code",
   "execution_count": 13,
   "metadata": {},
   "outputs": [
    {
     "name": "stdout",
     "output_type": "stream",
     "text": [
      "204\n"
     ]
    }
   ],
   "source": [
    "portuguese_stops = set(stopwords.words('portuguese'))\n",
    "print(len(portuguese_stops))"
   ]
  },
  {
   "cell_type": "code",
   "execution_count": 14,
   "metadata": {},
   "outputs": [
    {
     "data": {
      "text/html": [
       "<div>\n",
       "<style scoped>\n",
       "    .dataframe tbody tr th:only-of-type {\n",
       "        vertical-align: middle;\n",
       "    }\n",
       "\n",
       "    .dataframe tbody tr th {\n",
       "        vertical-align: top;\n",
       "    }\n",
       "\n",
       "    .dataframe thead th {\n",
       "        text-align: right;\n",
       "    }\n",
       "</style>\n",
       "<table border=\"1\" class=\"dataframe\">\n",
       "  <thead>\n",
       "    <tr style=\"text-align: right;\">\n",
       "      <th></th>\n",
       "      <th>words</th>\n",
       "      <th>stem_words</th>\n",
       "    </tr>\n",
       "  </thead>\n",
       "  <tbody>\n",
       "    <tr>\n",
       "      <td>0</td>\n",
       "      <td>[faixas, liberadas, rod, dom, pedro, i, sp-065, km, 33, igaratá, região, vale, paraíba, após, grave, acidente, 19h30, ontem, pista, sentido, jacareí, envolvendo, carreta, dois, caminhões, fiat, fiorino, renault, sandero., seumelhorcaminho]</td>\n",
       "      <td>[faix, liber, rod, dom, pedr, i, sp-065, km, 33, igarat, regiã, val, paraíb, após, grav, acident, 19h30, ontem, pist, sent, jacar, envolv, carret, dois, caminhõ, fiat, fiorin, renault, sandero., seumelhorcaminh]</td>\n",
       "    </tr>\n",
       "    <tr>\n",
       "      <td>1</td>\n",
       "      <td>[caminhões, carreta, tombaram, acidente, deixando, cair, pista, cargas, peças, aç]</td>\n",
       "      <td>[caminhõ, carret, tomb, acident, deix, cair, pist, carg, pec, ac]</td>\n",
       "    </tr>\n",
       "    <tr>\n",
       "      <td>2</td>\n",
       "      <td>[ouvintes, relatam, acidente, km, 39, rodovia, bandeirantes, sentido, sp., lentidão, 1, km]</td>\n",
       "      <td>[ouvint, relat, acident, km, 39, rodov, bandeir, sent, sp., lentidã, 1, km]</td>\n",
       "    </tr>\n",
       "    <tr>\n",
       "      <td>3</td>\n",
       "      <td>[13h24, acidente, trânsito, carro, x, moto, rua, pedro, toledo, 1651, –, vila, mariana., vítima, masc., 39, anos, lesão, membro, inferior, direito., 193r]</td>\n",
       "      <td>[13h24, acident, trânsit, carr, x, mot, rua, pedr, toled, 1651, –, vil, mariana., vítim, masc., 39, anos, lesã, membr, inferior, direito., 193r]</td>\n",
       "    </tr>\n",
       "    <tr>\n",
       "      <td>4</td>\n",
       "      <td>[acidente, trânsito, carro, x, moto, r.pedro, toledo, 1651, –, vila, mariana., vítima, masc.]</td>\n",
       "      <td>[acident, trânsit, carr, x, mot, r.pedr, toled, 1651, –, vil, mariana., vítim, masc.]</td>\n",
       "    </tr>\n",
       "    <tr>\n",
       "      <td>5</td>\n",
       "      <td>[bloqueio, total, acesso, rodoanel, sentido, perus, pista, interna, imigrantes, direção, litoral., caminhão-tanque, tombou, local., vazamento, ácido, clorídrico., ninguém, ficou, ferido, neste, acidente., interdição, acontece, altura, km, 71]</td>\n",
       "      <td>[bloquei, total, acess, rodoanel, sent, perus, pist, intern, imigr, direçã, litoral., caminhão-tanqu, tomb, local., vazament, ácid, clorídrico., ninguém, fic, fer, nest, acidente., interdiçã, acontec, altur, km, 71]</td>\n",
       "    </tr>\n",
       "    <tr>\n",
       "      <td>6</td>\n",
       "      <td>[ouvintes, relatam, acidente, km, 39, rodovia, bandeirantes, sent, sp., lentidão, 1, km, radiotransitofm]</td>\n",
       "      <td>[ouvint, relat, acident, km, 39, rodov, bandeir, sent, sp., lentidã, 1, km, radiotransitofm]</td>\n",
       "    </tr>\n",
       "    <tr>\n",
       "      <td>7</td>\n",
       "      <td>[capotamento, corredornortesul, sentido, santana, altura, congonhas., ouvintes, relatam, capotamento, van, local., faixa, bloqueada]</td>\n",
       "      <td>[capot, corredornortesul, sent, santan, altur, congonhas., ouvint, relat, capot, van, local., faix, bloqu]</td>\n",
       "    </tr>\n",
       "    <tr>\n",
       "      <td>8</td>\n",
       "      <td>[capotamento, corredornortesul, sentido, santana, altura, congonhas., ouvintes, relatam, capotamento, van, local., faixa, bloqueada]</td>\n",
       "      <td>[capot, corredornortesul, sent, santan, altur, congonhas., ouvint, relat, capot, van, local., faix, bloqu]</td>\n",
       "    </tr>\n",
       "    <tr>\n",
       "      <td>9</td>\n",
       "      <td>[capotamento, corredornortesul, sentido, santana, altura, congonhas., ouvintes, relatam, capotamento, van, local., faixa, bloqueada]</td>\n",
       "      <td>[capot, corredornortesul, sent, santan, altur, congonhas., ouvint, relat, capot, van, local., faix, bloqu]</td>\n",
       "    </tr>\n",
       "  </tbody>\n",
       "</table>\n",
       "</div>"
      ],
      "text/plain": [
       "                                                                                                                                                                                                                                                words                                                                                                                                                                                                               stem_words\n",
       "0  [faixas, liberadas, rod, dom, pedro, i, sp-065, km, 33, igaratá, região, vale, paraíba, após, grave, acidente, 19h30, ontem, pista, sentido, jacareí, envolvendo, carreta, dois, caminhões, fiat, fiorino, renault, sandero., seumelhorcaminho]     [faix, liber, rod, dom, pedr, i, sp-065, km, 33, igarat, regiã, val, paraíb, após, grav, acident, 19h30, ontem, pist, sent, jacar, envolv, carret, dois, caminhõ, fiat, fiorin, renault, sandero., seumelhorcaminh]    \n",
       "1  [caminhões, carreta, tombaram, acidente, deixando, cair, pista, cargas, peças, aç]                                                                                                                                                                  [caminhõ, carret, tomb, acident, deix, cair, pist, carg, pec, ac]                                                                                                                                                      \n",
       "2  [ouvintes, relatam, acidente, km, 39, rodovia, bandeirantes, sentido, sp., lentidão, 1, km]                                                                                                                                                         [ouvint, relat, acident, km, 39, rodov, bandeir, sent, sp., lentidã, 1, km]                                                                                                                                            \n",
       "3  [13h24, acidente, trânsito, carro, x, moto, rua, pedro, toledo, 1651, –, vila, mariana., vítima, masc., 39, anos, lesão, membro, inferior, direito., 193r]                                                                                          [13h24, acident, trânsit, carr, x, mot, rua, pedr, toled, 1651, –, vil, mariana., vítim, masc., 39, anos, lesã, membr, inferior, direito., 193r]                                                                       \n",
       "4  [acidente, trânsito, carro, x, moto, r.pedro, toledo, 1651, –, vila, mariana., vítima, masc.]                                                                                                                                                       [acident, trânsit, carr, x, mot, r.pedr, toled, 1651, –, vil, mariana., vítim, masc.]                                                                                                                                  \n",
       "5  [bloqueio, total, acesso, rodoanel, sentido, perus, pista, interna, imigrantes, direção, litoral., caminhão-tanque, tombou, local., vazamento, ácido, clorídrico., ninguém, ficou, ferido, neste, acidente., interdição, acontece, altura, km, 71]  [bloquei, total, acess, rodoanel, sent, perus, pist, intern, imigr, direçã, litoral., caminhão-tanqu, tomb, local., vazament, ácid, clorídrico., ninguém, fic, fer, nest, acidente., interdiçã, acontec, altur, km, 71]\n",
       "6  [ouvintes, relatam, acidente, km, 39, rodovia, bandeirantes, sent, sp., lentidão, 1, km, radiotransitofm]                                                                                                                                           [ouvint, relat, acident, km, 39, rodov, bandeir, sent, sp., lentidã, 1, km, radiotransitofm]                                                                                                                           \n",
       "7  [capotamento, corredornortesul, sentido, santana, altura, congonhas., ouvintes, relatam, capotamento, van, local., faixa, bloqueada]                                                                                                                [capot, corredornortesul, sent, santan, altur, congonhas., ouvint, relat, capot, van, local., faix, bloqu]                                                                                                             \n",
       "8  [capotamento, corredornortesul, sentido, santana, altura, congonhas., ouvintes, relatam, capotamento, van, local., faixa, bloqueada]                                                                                                                [capot, corredornortesul, sent, santan, altur, congonhas., ouvint, relat, capot, van, local., faix, bloqu]                                                                                                             \n",
       "9  [capotamento, corredornortesul, sentido, santana, altura, congonhas., ouvintes, relatam, capotamento, van, local., faixa, bloqueada]                                                                                                                [capot, corredornortesul, sent, santan, altur, congonhas., ouvint, relat, capot, van, local., faix, bloqu]                                                                                                             "
      ]
     },
     "execution_count": 14,
     "metadata": {},
     "output_type": "execute_result"
    }
   ],
   "source": [
    "stemer= SnowballStemmer(language='portuguese')\n",
    "full_data['stem_words'] = full_data['words'].apply(lambda t: [stemer.stem(word) for word in t])\n",
    "full_data[['words','stem_words']].head(10)"
   ]
  },
  {
   "cell_type": "code",
   "execution_count": 32,
   "metadata": {},
   "outputs": [
    {
     "data": {
      "text/plain": [
       "count    1783.000000\n",
       "mean     0.155356   \n",
       "std      0.362345   \n",
       "min      0.000000   \n",
       "25%      0.000000   \n",
       "50%      0.000000   \n",
       "75%      0.000000   \n",
       "max      1.000000   \n",
       "Name: target, dtype: float64"
      ]
     },
     "execution_count": 32,
     "metadata": {},
     "output_type": "execute_result"
    }
   ],
   "source": [
    "def encode_label(text):\n",
    "    if text=='Sim':\n",
    "        return 1\n",
    "    elif text=='Não':\n",
    "        return 0\n",
    "    else:\n",
    "        return -1\n",
    "\n",
    "full_data['target'] = full_data['label'].apply(lambda label: encode_label(label))\n",
    "full_data['target'].describe()"
   ]
  },
  {
   "cell_type": "code",
   "execution_count": 46,
   "metadata": {},
   "outputs": [
    {
     "name": "stdout",
     "output_type": "stream",
     "text": [
      "(1783, 21)\n"
     ]
    }
   ],
   "source": [
    "full_data['clean_text'] = full_data['stem_words'].apply(lambda t: str(' '.join(t)))\n",
    "\n",
    "count_vect = CountVectorizer(strip_accents='ascii', vocabulary=features.keys())\n",
    "X_TF = count_vect.fit_transform(full_data['clean_text'])\n",
    "print(X_TF.shape)"
   ]
  },
  {
   "cell_type": "code",
   "execution_count": 47,
   "metadata": {},
   "outputs": [],
   "source": [
    "from sklearn.feature_selection import mutual_info_classif\n",
    "\n",
    "Y = full_data['target']\n",
    "res = dict(zip(count_vect.get_feature_names(),\n",
    "               mutual_info_classif(X_TF, Y, discrete_features=True)\n",
    "               ))"
   ]
  },
  {
   "cell_type": "code",
   "execution_count": 48,
   "metadata": {},
   "outputs": [
    {
     "data": {
      "text/plain": [
       "dict"
      ]
     },
     "execution_count": 48,
     "metadata": {},
     "output_type": "execute_result"
    }
   ],
   "source": [
    "type(res)"
   ]
  },
  {
   "cell_type": "code",
   "execution_count": 49,
   "metadata": {},
   "outputs": [],
   "source": [
    "#print(res.keys())"
   ]
  },
  {
   "cell_type": "code",
   "execution_count": 50,
   "metadata": {},
   "outputs": [
    {
     "name": "stdout",
     "output_type": "stream",
     "text": [
      "21\n",
      "21\n"
     ]
    }
   ],
   "source": [
    "features = {}\n",
    "\n",
    "for key in res.keys():\n",
    "    if res[key] >= 0.01:\n",
    "        features[key] = res[key]\n",
    "        \n",
    "        \n",
    "print(len(res))\n",
    "print(len(features))"
   ]
  },
  {
   "cell_type": "code",
   "execution_count": 51,
   "metadata": {},
   "outputs": [
    {
     "data": {
      "text/html": [
       "<div>\n",
       "<style scoped>\n",
       "    .dataframe tbody tr th:only-of-type {\n",
       "        vertical-align: middle;\n",
       "    }\n",
       "\n",
       "    .dataframe tbody tr th {\n",
       "        vertical-align: top;\n",
       "    }\n",
       "\n",
       "    .dataframe thead th {\n",
       "        text-align: right;\n",
       "    }\n",
       "</style>\n",
       "<table border=\"1\" class=\"dataframe\">\n",
       "  <thead>\n",
       "    <tr style=\"text-align: right;\">\n",
       "      <th></th>\n",
       "      <th>ig</th>\n",
       "    </tr>\n",
       "  </thead>\n",
       "  <tbody>\n",
       "    <tr>\n",
       "      <td>acident</td>\n",
       "      <td>0.061379</td>\n",
       "    </tr>\n",
       "    <tr>\n",
       "      <td>acidente_de_transit</td>\n",
       "      <td>0.010771</td>\n",
       "    </tr>\n",
       "    <tr>\n",
       "      <td>anhangu</td>\n",
       "      <td>0.011794</td>\n",
       "    </tr>\n",
       "    <tr>\n",
       "      <td>br</td>\n",
       "      <td>0.018408</td>\n",
       "    </tr>\n",
       "    <tr>\n",
       "      <td>caminha</td>\n",
       "      <td>0.017843</td>\n",
       "    </tr>\n",
       "    <tr>\n",
       "      <td>carr</td>\n",
       "      <td>0.023955</td>\n",
       "    </tr>\n",
       "    <tr>\n",
       "      <td>carret</td>\n",
       "      <td>0.012657</td>\n",
       "    </tr>\n",
       "    <tr>\n",
       "      <td>colisa</td>\n",
       "      <td>0.028633</td>\n",
       "    </tr>\n",
       "    <tr>\n",
       "      <td>envolv</td>\n",
       "      <td>0.012270</td>\n",
       "    </tr>\n",
       "    <tr>\n",
       "      <td>express</td>\n",
       "      <td>0.010530</td>\n",
       "    </tr>\n",
       "    <tr>\n",
       "      <td>faix</td>\n",
       "      <td>0.011319</td>\n",
       "    </tr>\n",
       "    <tr>\n",
       "      <td>fer</td>\n",
       "      <td>0.024372</td>\n",
       "    </tr>\n",
       "    <tr>\n",
       "      <td>km</td>\n",
       "      <td>0.016659</td>\n",
       "    </tr>\n",
       "    <tr>\n",
       "      <td>local</td>\n",
       "      <td>0.016971</td>\n",
       "    </tr>\n",
       "    <tr>\n",
       "      <td>mot</td>\n",
       "      <td>0.013771</td>\n",
       "    </tr>\n",
       "    <tr>\n",
       "      <td>ouvint</td>\n",
       "      <td>0.012078</td>\n",
       "    </tr>\n",
       "    <tr>\n",
       "      <td>relat</td>\n",
       "      <td>0.015528</td>\n",
       "    </tr>\n",
       "    <tr>\n",
       "      <td>sent</td>\n",
       "      <td>0.013516</td>\n",
       "    </tr>\n",
       "    <tr>\n",
       "      <td>sinistr</td>\n",
       "      <td>0.012108</td>\n",
       "    </tr>\n",
       "    <tr>\n",
       "      <td>transit</td>\n",
       "      <td>0.026927</td>\n",
       "    </tr>\n",
       "  </tbody>\n",
       "</table>\n",
       "</div>"
      ],
      "text/plain": [
       "                           ig\n",
       "acident              0.061379\n",
       "acidente_de_transit  0.010771\n",
       "anhangu              0.011794\n",
       "br                   0.018408\n",
       "caminha              0.017843\n",
       "carr                 0.023955\n",
       "carret               0.012657\n",
       "colisa               0.028633\n",
       "envolv               0.012270\n",
       "express              0.010530\n",
       "faix                 0.011319\n",
       "fer                  0.024372\n",
       "km                   0.016659\n",
       "local                0.016971\n",
       "mot                  0.013771\n",
       "ouvint               0.012078\n",
       "relat                0.015528\n",
       "sent                 0.013516\n",
       "sinistr              0.012108\n",
       "transit              0.026927"
      ]
     },
     "execution_count": 51,
     "metadata": {},
     "output_type": "execute_result"
    }
   ],
   "source": [
    "ig = pd.DataFrame.from_dict(features, orient='index', columns=['ig'] )\n",
    "ig.head(-1)"
   ]
  },
  {
   "cell_type": "code",
   "execution_count": 52,
   "metadata": {},
   "outputs": [
    {
     "data": {
      "text/plain": [
       "ig    0.061379\n",
       "dtype: float64"
      ]
     },
     "execution_count": 52,
     "metadata": {},
     "output_type": "execute_result"
    }
   ],
   "source": [
    "ig.max()"
   ]
  },
  {
   "cell_type": "code",
   "execution_count": 53,
   "metadata": {},
   "outputs": [
    {
     "data": {
      "text/plain": [
       "<matplotlib.axes._subplots.AxesSubplot at 0x7f7c1964ce48>"
      ]
     },
     "execution_count": 53,
     "metadata": {},
     "output_type": "execute_result"
    },
    {
     "data": {
      "image/png": "[encoded data removed]",
      "text/plain": [
       "<Figure size 432x288 with 1 Axes>"
      ]
     },
     "metadata": {
      "needs_background": "light"
     },
     "output_type": "display_data"
    }
   ],
   "source": [
    "%matplotlib inline\n",
    "ig.plot.hist(bins=50)"
   ]
  },
  {
   "cell_type": "code",
   "execution_count": 54,
   "metadata": {},
   "outputs": [],
   "source": [
    "import numpy as np\n",
    "import sys\n",
    "np.set_printoptions(threshold=sys.maxsize)"
   ]
  },
  {
   "cell_type": "code",
   "execution_count": 55,
   "metadata": {},
   "outputs": [
    {
     "data": {
      "text/plain": [
       "(1783, 21)"
      ]
     },
     "execution_count": 55,
     "metadata": {},
     "output_type": "execute_result"
    }
   ],
   "source": [
    "tfidf_transformer = TfidfTransformer()\n",
    "X = tfidf_transformer.fit_transform(X_TF)\n",
    "X.shape"
   ]
  },
  {
   "cell_type": "code",
   "execution_count": 56,
   "metadata": {},
   "outputs": [
    {
     "name": "stdout",
     "output_type": "stream",
     "text": [
      "[[0.19880219 0.         0.         0.         0.         0.\n",
      "  0.56695143 0.         0.48070841 0.         0.46425513 0.\n",
      "  0.32965742 0.         0.         0.         0.         0.28940688\n",
      "  0.         0.         0.        ]]\n"
     ]
    }
   ],
   "source": [
    "print(X.toarray()[0:1])"
   ]
  },
  {
   "cell_type": "code",
   "execution_count": 57,
   "metadata": {},
   "outputs": [],
   "source": [
    "X_train, X_test, y_train, y_test = train_test_split(X, full_data['target'], test_size=0.30, random_state=42)"
   ]
  },
  {
   "cell_type": "code",
   "execution_count": 58,
   "metadata": {},
   "outputs": [
    {
     "data": {
      "text/plain": [
       "(1248, 21)"
      ]
     },
     "execution_count": 58,
     "metadata": {},
     "output_type": "execute_result"
    }
   ],
   "source": [
    "X_train.shape"
   ]
  },
  {
   "cell_type": "code",
   "execution_count": 59,
   "metadata": {},
   "outputs": [
    {
     "data": {
      "text/plain": [
       "(535, 21)"
      ]
     },
     "execution_count": 59,
     "metadata": {},
     "output_type": "execute_result"
    }
   ],
   "source": [
    "X_test.shape"
   ]
  },
  {
   "cell_type": "code",
   "execution_count": 72,
   "metadata": {},
   "outputs": [
    {
     "name": "stderr",
     "output_type": "stream",
     "text": [
      "/opt/conda/lib/python3.7/site-packages/sklearn/svm/base.py:193: FutureWarning: The default value of gamma will change from 'auto' to 'scale' in version 0.22 to account better for unscaled features. Set gamma explicitly to 'auto' or 'scale' to avoid this warning.\n",
      "  \"avoid this warning.\", FutureWarning)\n",
      "/opt/conda/lib/python3.7/site-packages/sklearn/linear_model/logistic.py:432: FutureWarning: Default solver will be changed to 'lbfgs' in 0.22. Specify a solver to silence this warning.\n",
      "  FutureWarning)\n"
     ]
    }
   ],
   "source": [
    "nb = MultinomialNB().fit(X_train, y_train)\n",
    "svm = svm.SVC().fit(X_train,y_train)\n",
    "tree = tree.DecisionTreeClassifier().fit(X_train,y_train)\n",
    "logr = LogisticRegression().fit(X_train,y_train)"
   ]
  },
  {
   "cell_type": "code",
   "execution_count": 75,
   "metadata": {},
   "outputs": [],
   "source": [
    "nbc = MultinomialNB()\n",
    "svmc = svm.SVC()\n",
    "treec = tree.DecisionTreeClassifier()\n",
    "logr = LogisticRegression()"
   ]
  },
  {
   "cell_type": "markdown",
   "metadata": {},
   "source": [
    "<h1> Realiza o cross validation </h1>"
   ]
  },
  {
   "cell_type": "code",
   "execution_count": 76,
   "metadata": {},
   "outputs": [
    {
     "name": "stderr",
     "output_type": "stream",
     "text": [
      "/opt/conda/lib/python3.7/site-packages/sklearn/svm/base.py:193: FutureWarning: The default value of gamma will change from 'auto' to 'scale' in version 0.22 to account better for unscaled features. Set gamma explicitly to 'auto' or 'scale' to avoid this warning.\n",
      "  \"avoid this warning.\", FutureWarning)\n",
      "/opt/conda/lib/python3.7/site-packages/sklearn/svm/base.py:193: FutureWarning: The default value of gamma will change from 'auto' to 'scale' in version 0.22 to account better for unscaled features. Set gamma explicitly to 'auto' or 'scale' to avoid this warning.\n",
      "  \"avoid this warning.\", FutureWarning)\n",
      "/opt/conda/lib/python3.7/site-packages/sklearn/svm/base.py:193: FutureWarning: The default value of gamma will change from 'auto' to 'scale' in version 0.22 to account better for unscaled features. Set gamma explicitly to 'auto' or 'scale' to avoid this warning.\n",
      "  \"avoid this warning.\", FutureWarning)\n",
      "/opt/conda/lib/python3.7/site-packages/sklearn/svm/base.py:193: FutureWarning: The default value of gamma will change from 'auto' to 'scale' in version 0.22 to account better for unscaled features. Set gamma explicitly to 'auto' or 'scale' to avoid this warning.\n",
      "  \"avoid this warning.\", FutureWarning)\n",
      "/opt/conda/lib/python3.7/site-packages/sklearn/svm/base.py:193: FutureWarning: The default value of gamma will change from 'auto' to 'scale' in version 0.22 to account better for unscaled features. Set gamma explicitly to 'auto' or 'scale' to avoid this warning.\n",
      "  \"avoid this warning.\", FutureWarning)\n",
      "/opt/conda/lib/python3.7/site-packages/sklearn/linear_model/logistic.py:432: FutureWarning: Default solver will be changed to 'lbfgs' in 0.22. Specify a solver to silence this warning.\n",
      "  FutureWarning)\n"
     ]
    }
   ],
   "source": [
    "nb_scores = cross_val_score(nbc, X, full_data['target'], cv=5)\n",
    "svm_scores = cross_val_score(svmc, X, full_data['target'], cv=5)\n",
    "tree_scores = cross_val_score(treec, X, full_data['target'], cv=5)\n",
    "logr_scores = cross_val_score(logr, X, full_data['target'], cv=5)"
   ]
  },
  {
   "cell_type": "code",
   "execution_count": 78,
   "metadata": {},
   "outputs": [
    {
     "name": "stdout",
     "output_type": "stream",
     "text": [
      "DecisionTreeClassifier(class_weight=None, criterion='gini', max_depth=None,\n",
      "                       max_features=None, max_leaf_nodes=None,\n",
      "                       min_impurity_decrease=0.0, min_impurity_split=None,\n",
      "                       min_samples_leaf=1, min_samples_split=2,\n",
      "                       min_weight_fraction_leaf=0.0, presort=False,\n",
      "                       random_state=None, splitter='best')\n"
     ]
    }
   ],
   "source": [
    "print(treec)"
   ]
  },
  {
   "cell_type": "code",
   "execution_count": 77,
   "metadata": {},
   "outputs": [
    {
     "name": "stdout",
     "output_type": "stream",
     "text": [
      "[0.90782123 0.89355742 0.88202247 0.88202247 0.89606742]\n",
      "[0.84636872 0.8487395  0.86235955 0.87359551 0.85955056]\n",
      "[0.94413408 0.91316527 0.88202247 0.88764045 0.91011236]\n",
      "[0.91340782 0.87114846 0.86797753 0.87640449 0.8988764 ]\n"
     ]
    }
   ],
   "source": [
    "print(nb_scores)\n",
    "print(svm_scores)\n",
    "print(tree_scores)\n",
    "print(logr_scores)"
   ]
  },
  {
   "cell_type": "code",
   "execution_count": 68,
   "metadata": {},
   "outputs": [],
   "source": [
    "from sklearn.metrics import recall_score\n",
    "from sklearn.metrics import precision_score\n",
    "from sklearn.metrics import f1_score\n",
    "\n",
    "def print_metrics(y_true,y_predicted):\n",
    "    acc = accuracy_score(y_test.values,y_predicted)\n",
    "    print('Acurácia: ' + str(acc))\n",
    "    #accuracy_score(y_true, y_predicted)\n",
    "    print('Matriz de Confusão:' )\n",
    "    print(confusion_matrix(y_true, y_predicted, labels=[0, 1]))\n",
    "    print('Recall')\n",
    "    print(recall_score(y_true, y_predicted, average='macro')  )\n",
    "    print('Precision')\n",
    "    print(precision_score(y_true, y_predicted, average='macro')  )\n",
    "    print('F1-Score')\n",
    "    print(f1_score(y_true, y_predicted, average='macro')  )"
   ]
  },
  {
   "cell_type": "code",
   "execution_count": 69,
   "metadata": {},
   "outputs": [
    {
     "name": "stdout",
     "output_type": "stream",
     "text": [
      "Naive Bayes\n",
      "Acurácia: 0.9102803738317757\n",
      "Matriz de Confusão:\n",
      "[[450  10]\n",
      " [ 38  37]]\n",
      "Recall\n",
      "0.7357971014492753\n",
      "Precision\n",
      "0.8546825950470875\n",
      "F1-Score\n",
      "0.7779622328283876\n",
      "\n",
      "\n",
      "Decision Tree\n",
      "Acurácia: 0.8990654205607477\n",
      "Matriz de Confusão:\n",
      "[[437  23]\n",
      " [ 31  44]]\n",
      "Recall\n",
      "0.7683333333333333\n",
      "Precision\n",
      "0.7952385508355657\n",
      "F1-Score\n",
      "0.7807643273433706\n",
      "\n",
      "\n",
      "Suport Vector Machines\n",
      "Acurácia: 0.8728971962616823\n",
      "Matriz de Confusão:\n",
      "[[459   1]\n",
      " [ 67   8]]\n",
      "Recall\n",
      "0.5522463768115942\n",
      "Precision\n",
      "0.8807562315166877\n",
      "F1-Score\n",
      "0.5607553366174056\n",
      "\n",
      "\n",
      "Logistic Regressor\n",
      "Acurácia: 0.9121495327102803\n",
      "Matriz de Confusão:\n",
      "[[450  10]\n",
      " [ 37  38]]\n",
      "Recall\n",
      "0.7424637681159421\n",
      "Precision\n",
      "0.8578456536618755\n",
      "F1-Score\n",
      "0.7841278835174835\n"
     ]
    }
   ],
   "source": [
    "print('Naive Bayes')\n",
    "print_metrics(y_test,nb.predict(X_test))\n",
    "print('\\n')\n",
    "print('Decision Tree')\n",
    "print_metrics(y_test,tree.predict(X_test))\n",
    "print('\\n')\n",
    "print('Suport Vector Machines')\n",
    "print_metrics(y_test,svm.predict(X_test))\n",
    "print('\\n')\n",
    "print('Logistic Regressor')\n",
    "print_metrics(y_test,logr.predict(X_test))"
   ]
  },
  {
   "cell_type": "code",
   "execution_count": 79,
   "metadata": {},
   "outputs": [
    {
     "name": "stdout",
     "output_type": "stream",
     "text": [
      "Naive Bayes\n"
     ]
    },
    {
     "ename": "NotFittedError",
     "evalue": "This MultinomialNB instance is not fitted yet. Call 'fit' with appropriate arguments before using this method.",
     "output_type": "error",
     "traceback": [
      "\u001b[0;31m---------------------------------------------------------------------------\u001b[0m",
      "\u001b[0;31mNotFittedError\u001b[0m                            Traceback (most recent call last)",
      "\u001b[0;32m<ipython-input-79-1c83990a8646>\u001b[0m in \u001b[0;36m<module>\u001b[0;34m\u001b[0m\n\u001b[1;32m      1\u001b[0m \u001b[0mprint\u001b[0m\u001b[0;34m(\u001b[0m\u001b[0;34m'Naive Bayes'\u001b[0m\u001b[0;34m)\u001b[0m\u001b[0;34m\u001b[0m\u001b[0;34m\u001b[0m\u001b[0m\n\u001b[0;32m----> 2\u001b[0;31m \u001b[0mprint_metrics\u001b[0m\u001b[0;34m(\u001b[0m\u001b[0my_test\u001b[0m\u001b[0;34m,\u001b[0m\u001b[0mnbc\u001b[0m\u001b[0;34m.\u001b[0m\u001b[0mpredict\u001b[0m\u001b[0;34m(\u001b[0m\u001b[0mX_test\u001b[0m\u001b[0;34m)\u001b[0m\u001b[0;34m)\u001b[0m\u001b[0;34m\u001b[0m\u001b[0;34m\u001b[0m\u001b[0m\n\u001b[0m\u001b[1;32m      3\u001b[0m \u001b[0mprint\u001b[0m\u001b[0;34m(\u001b[0m\u001b[0;34m'\\n'\u001b[0m\u001b[0;34m)\u001b[0m\u001b[0;34m\u001b[0m\u001b[0;34m\u001b[0m\u001b[0m\n\u001b[1;32m      4\u001b[0m \u001b[0mprint\u001b[0m\u001b[0;34m(\u001b[0m\u001b[0;34m'Decision Tree'\u001b[0m\u001b[0;34m)\u001b[0m\u001b[0;34m\u001b[0m\u001b[0;34m\u001b[0m\u001b[0m\n\u001b[1;32m      5\u001b[0m \u001b[0mprint_metrics\u001b[0m\u001b[0;34m(\u001b[0m\u001b[0my_test\u001b[0m\u001b[0;34m,\u001b[0m\u001b[0mtreec\u001b[0m\u001b[0;34m.\u001b[0m\u001b[0mpredict\u001b[0m\u001b[0;34m(\u001b[0m\u001b[0mX_test\u001b[0m\u001b[0;34m)\u001b[0m\u001b[0;34m)\u001b[0m\u001b[0;34m\u001b[0m\u001b[0;34m\u001b[0m\u001b[0m\n",
      "\u001b[0;32m/opt/conda/lib/python3.7/site-packages/sklearn/naive_bayes.py\u001b[0m in \u001b[0;36mpredict\u001b[0;34m(self, X)\u001b[0m\n\u001b[1;32m     63\u001b[0m             \u001b[0mPredicted\u001b[0m \u001b[0mtarget\u001b[0m \u001b[0mvalues\u001b[0m \u001b[0;32mfor\u001b[0m \u001b[0mX\u001b[0m\u001b[0;34m\u001b[0m\u001b[0;34m\u001b[0m\u001b[0m\n\u001b[1;32m     64\u001b[0m         \"\"\"\n\u001b[0;32m---> 65\u001b[0;31m         \u001b[0mjll\u001b[0m \u001b[0;34m=\u001b[0m \u001b[0mself\u001b[0m\u001b[0;34m.\u001b[0m\u001b[0m_joint_log_likelihood\u001b[0m\u001b[0;34m(\u001b[0m\u001b[0mX\u001b[0m\u001b[0;34m)\u001b[0m\u001b[0;34m\u001b[0m\u001b[0;34m\u001b[0m\u001b[0m\n\u001b[0m\u001b[1;32m     66\u001b[0m         \u001b[0;32mreturn\u001b[0m \u001b[0mself\u001b[0m\u001b[0;34m.\u001b[0m\u001b[0mclasses_\u001b[0m\u001b[0;34m[\u001b[0m\u001b[0mnp\u001b[0m\u001b[0;34m.\u001b[0m\u001b[0margmax\u001b[0m\u001b[0;34m(\u001b[0m\u001b[0mjll\u001b[0m\u001b[0;34m,\u001b[0m \u001b[0maxis\u001b[0m\u001b[0;34m=\u001b[0m\u001b[0;36m1\u001b[0m\u001b[0;34m)\u001b[0m\u001b[0;34m]\u001b[0m\u001b[0;34m\u001b[0m\u001b[0;34m\u001b[0m\u001b[0m\n\u001b[1;32m     67\u001b[0m \u001b[0;34m\u001b[0m\u001b[0m\n",
      "\u001b[0;32m/opt/conda/lib/python3.7/site-packages/sklearn/naive_bayes.py\u001b[0m in \u001b[0;36m_joint_log_likelihood\u001b[0;34m(self, X)\u001b[0m\n\u001b[1;32m    732\u001b[0m     \u001b[0;32mdef\u001b[0m \u001b[0m_joint_log_likelihood\u001b[0m\u001b[0;34m(\u001b[0m\u001b[0mself\u001b[0m\u001b[0;34m,\u001b[0m \u001b[0mX\u001b[0m\u001b[0;34m)\u001b[0m\u001b[0;34m:\u001b[0m\u001b[0;34m\u001b[0m\u001b[0;34m\u001b[0m\u001b[0m\n\u001b[1;32m    733\u001b[0m         \u001b[0;34m\"\"\"Calculate the posterior log probability of the samples X\"\"\"\u001b[0m\u001b[0;34m\u001b[0m\u001b[0;34m\u001b[0m\u001b[0m\n\u001b[0;32m--> 734\u001b[0;31m         \u001b[0mcheck_is_fitted\u001b[0m\u001b[0;34m(\u001b[0m\u001b[0mself\u001b[0m\u001b[0;34m,\u001b[0m \u001b[0;34m\"classes_\"\u001b[0m\u001b[0;34m)\u001b[0m\u001b[0;34m\u001b[0m\u001b[0;34m\u001b[0m\u001b[0m\n\u001b[0m\u001b[1;32m    735\u001b[0m \u001b[0;34m\u001b[0m\u001b[0m\n\u001b[1;32m    736\u001b[0m         \u001b[0mX\u001b[0m \u001b[0;34m=\u001b[0m \u001b[0mcheck_array\u001b[0m\u001b[0;34m(\u001b[0m\u001b[0mX\u001b[0m\u001b[0;34m,\u001b[0m \u001b[0maccept_sparse\u001b[0m\u001b[0;34m=\u001b[0m\u001b[0;34m'csr'\u001b[0m\u001b[0;34m)\u001b[0m\u001b[0;34m\u001b[0m\u001b[0;34m\u001b[0m\u001b[0m\n",
      "\u001b[0;32m/opt/conda/lib/python3.7/site-packages/sklearn/utils/validation.py\u001b[0m in \u001b[0;36mcheck_is_fitted\u001b[0;34m(estimator, attributes, msg, all_or_any)\u001b[0m\n\u001b[1;32m    912\u001b[0m \u001b[0;34m\u001b[0m\u001b[0m\n\u001b[1;32m    913\u001b[0m     \u001b[0;32mif\u001b[0m \u001b[0;32mnot\u001b[0m \u001b[0mall_or_any\u001b[0m\u001b[0;34m(\u001b[0m\u001b[0;34m[\u001b[0m\u001b[0mhasattr\u001b[0m\u001b[0;34m(\u001b[0m\u001b[0mestimator\u001b[0m\u001b[0;34m,\u001b[0m \u001b[0mattr\u001b[0m\u001b[0;34m)\u001b[0m \u001b[0;32mfor\u001b[0m \u001b[0mattr\u001b[0m \u001b[0;32min\u001b[0m \u001b[0mattributes\u001b[0m\u001b[0;34m]\u001b[0m\u001b[0;34m)\u001b[0m\u001b[0;34m:\u001b[0m\u001b[0;34m\u001b[0m\u001b[0;34m\u001b[0m\u001b[0m\n\u001b[0;32m--> 914\u001b[0;31m         \u001b[0;32mraise\u001b[0m \u001b[0mNotFittedError\u001b[0m\u001b[0;34m(\u001b[0m\u001b[0mmsg\u001b[0m \u001b[0;34m%\u001b[0m \u001b[0;34m{\u001b[0m\u001b[0;34m'name'\u001b[0m\u001b[0;34m:\u001b[0m \u001b[0mtype\u001b[0m\u001b[0;34m(\u001b[0m\u001b[0mestimator\u001b[0m\u001b[0;34m)\u001b[0m\u001b[0;34m.\u001b[0m\u001b[0m__name__\u001b[0m\u001b[0;34m}\u001b[0m\u001b[0;34m)\u001b[0m\u001b[0;34m\u001b[0m\u001b[0;34m\u001b[0m\u001b[0m\n\u001b[0m\u001b[1;32m    915\u001b[0m \u001b[0;34m\u001b[0m\u001b[0m\n\u001b[1;32m    916\u001b[0m \u001b[0;34m\u001b[0m\u001b[0m\n",
      "\u001b[0;31mNotFittedError\u001b[0m: This MultinomialNB instance is not fitted yet. Call 'fit' with appropriate arguments before using this method."
     ]
    }
   ],
   "source": [
    "print('Naive Bayes')\n",
    "print_metrics(y_test,nbc.predict(X_test))\n",
    "print('\\n')\n",
    "print('Decision Tree')\n",
    "print_metrics(y_test,treec.predict(X_test))\n",
    "print('\\n')\n",
    "print('Suport Vector Machines')\n",
    "print_metrics(y_test,svmc.predict(X_test))\n",
    "print('\\n')\n",
    "print('Logistic Regressor')\n",
    "print_metrics(y_test,logr.predict(X_test))"
   ]
  },
  {
   "cell_type": "code",
   "execution_count": null,
   "metadata": {},
   "outputs": [],
   "source": []
  }
 ],
 "metadata": {
  "kernelspec": {
   "display_name": "Python 3",
   "language": "python",
   "name": "python3"
  },
  "language_info": {
   "codemirror_mode": {
    "name": "ipython",
    "version": 3
   },
   "file_extension": ".py",
   "mimetype": "text/x-python",
   "name": "python",
   "nbconvert_exporter": "python",
   "pygments_lexer": "ipython3",
   "version": "3.7.2"
  }
 },
 "nbformat": 4,
 "nbformat_minor": 2
}
