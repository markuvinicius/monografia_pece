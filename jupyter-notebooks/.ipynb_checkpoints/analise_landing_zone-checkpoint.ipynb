{
 "cells": [
  {
   "cell_type": "code",
   "execution_count": null,
   "metadata": {},
   "outputs": [],
   "source": [
    "!pip install --upgrade pip\n",
    "!pip install pymongo\n",
    "!pip install wordcloud"
   ]
  },
  {
   "cell_type": "code",
   "execution_count": null,
   "metadata": {},
   "outputs": [],
   "source": [
    "from pymongo import MongoClient\n",
    "import pandas as pd\n",
    "from os import path\n",
    "from PIL import Image\n",
    "from wordcloud import WordCloud, STOPWORDS, ImageColorGenerator\n",
    "\n",
    "import matplotlib.pyplot as plt\n",
    "% matplotlib inline"
   ]
  },
  {
   "cell_type": "code",
   "execution_count": null,
   "metadata": {},
   "outputs": [],
   "source": [
    "def _connect_mongo(host, port, username, password, db):\n",
    "    \"\"\" A util for making a connection to mongo \"\"\"\n",
    "\n",
    "    if username and password:\n",
    "        mongo_uri = 'mongodb://%s:%s@%s:%s/%s' % (username, password, host, port, db)\n",
    "        conn = MongoClient(mongo_uri)\n",
    "    else:\n",
    "        conn = MongoClient(host, port)\n",
    "\n",
    "\n",
    "    return conn[db]\n",
    "\n",
    "\n",
    "def read_mongo(db, collection, query={}, host='ds145639.mlab.com', port='45639', username='collector', password='collector123', no_id=True):\n",
    "    \"\"\" Read from Mongo and Store into DataFrame \"\"\"\n",
    "\n",
    "    # Connect to MongoDB\n",
    "    db = _connect_mongo(host=host, port=port, username=username, password=password, db=db)\n",
    "\n",
    "    # Make a query to the specific DB and Collection\n",
    "    cursor = db[collection].find()\n",
    "\n",
    "    # Expand the cursor and construct the DataFrame\n",
    "    df =  pd.DataFrame(list(cursor))\n",
    "\n",
    "    # Delete the _id\n",
    "    #if no_id:\n",
    "    #    del df['_id']\n",
    "\n",
    "    return df\n"
   ]
  },
  {
   "cell_type": "code",
   "execution_count": null,
   "metadata": {},
   "outputs": [],
   "source": [
    "people = read_mongo('landing_zone','people_data',query={})\n",
    "posts = read_mongo('landing_zone','posts_data',query={})\n",
    "full_data = people.append(posts)\n",
    "\n",
    "full_data.head(5)"
   ]
  },
  {
   "cell_type": "code",
   "execution_count": null,
   "metadata": {},
   "outputs": [],
   "source": [
    "import dateutil.parser"
   ]
  },
  {
   "cell_type": "code",
   "execution_count": null,
   "metadata": {},
   "outputs": [],
   "source": [
    "datetime_str = \"Fri Feb 15 19:00:03 +0000 2019\"  # Datestring in ISO 8601 format\n",
    "some_datetime_obj = dateutil.parser.parse(datetime_str)"
   ]
  },
  {
   "cell_type": "code",
   "execution_count": null,
   "metadata": {},
   "outputs": [],
   "source": [
    "print(some_datetime_obj)"
   ]
  },
  {
   "cell_type": "code",
   "execution_count": 32,
   "metadata": {},
   "outputs": [],
   "source": [
    "format_date_time = lambda s: dateutil.parser.parse(datetime_str)\n",
    "get_month = lambda d: d.month\n",
    "get_day = lambda d: d.day"
   ]
  },
  {
   "cell_type": "code",
   "execution_count": 54,
   "metadata": {},
   "outputs": [],
   "source": [
    "full_data['formatted_date'] = full_data['data'].apply(func=lambda string: dateutil.parser.parse(string))\n",
    "full_data['mes'] = full_data['formatted_date'].apply(func=lambda date: date.month)\n",
    "full_data['dia'] = full_data['formatted_date'].apply(func=lambda date: date.day)\n",
    "full_data['ano'] = full_data['formatted_date'].apply(func=lambda date: date.year)\n",
    "full_data['hora'] = full_data['formatted_date'].apply(func=lambda date: date.hour)\n",
    "full_data['minuto'] = full_data['formatted_date'].apply(func=lambda date: date.minute)"
   ]
  },
  {
   "cell_type": "code",
   "execution_count": 55,
   "metadata": {},
   "outputs": [
    {
     "data": {
      "text/html": [
       "<div>\n",
       "<style scoped>\n",
       "    .dataframe tbody tr th:only-of-type {\n",
       "        vertical-align: middle;\n",
       "    }\n",
       "\n",
       "    .dataframe tbody tr th {\n",
       "        vertical-align: top;\n",
       "    }\n",
       "\n",
       "    .dataframe thead th {\n",
       "        text-align: right;\n",
       "    }\n",
       "</style>\n",
       "<table border=\"1\" class=\"dataframe\">\n",
       "  <thead>\n",
       "    <tr style=\"text-align: right;\">\n",
       "      <th></th>\n",
       "      <th>_id</th>\n",
       "      <th>coordinates</th>\n",
       "      <th>data</th>\n",
       "      <th>geo</th>\n",
       "      <th>hashtags</th>\n",
       "      <th>id</th>\n",
       "      <th>lang</th>\n",
       "      <th>location</th>\n",
       "      <th>place</th>\n",
       "      <th>quoted</th>\n",
       "      <th>...</th>\n",
       "      <th>texto</th>\n",
       "      <th>urls</th>\n",
       "      <th>user_mentions</th>\n",
       "      <th>usuario</th>\n",
       "      <th>formatted_date</th>\n",
       "      <th>mes</th>\n",
       "      <th>dia</th>\n",
       "      <th>ano</th>\n",
       "      <th>hora</th>\n",
       "      <th>minuto</th>\n",
       "    </tr>\n",
       "  </thead>\n",
       "  <tbody>\n",
       "    <tr>\n",
       "      <th>0</th>\n",
       "      <td>5c6d9cf587963719cb193f84</td>\n",
       "      <td>None</td>\n",
       "      <td>Wed Feb 20 18:31:12 +0000 2019</td>\n",
       "      <td>None</td>\n",
       "      <td>[]</td>\n",
       "      <td>1098288978099425281</td>\n",
       "      <td>pt</td>\n",
       "      <td>São Paulo</td>\n",
       "      <td>None</td>\n",
       "      <td>False</td>\n",
       "      <td>...</td>\n",
       "      <td>@sergioalberto40 @governosp Boa tarde @sergioa...</td>\n",
       "      <td>[{'url': 'https://t.co/Ik1bkKwV3F', 'expanded_...</td>\n",
       "      <td>[{'screen_name': 'sergioalberto40', 'name': 'S...</td>\n",
       "      <td>DetranSP</td>\n",
       "      <td>2019-02-20 18:31:12+00:00</td>\n",
       "      <td>2</td>\n",
       "      <td>20</td>\n",
       "      <td>2019</td>\n",
       "      <td>18</td>\n",
       "      <td>31</td>\n",
       "    </tr>\n",
       "    <tr>\n",
       "      <th>1</th>\n",
       "      <td>5c64723a87963719cb193a9a</td>\n",
       "      <td>None</td>\n",
       "      <td>Wed Feb 13 19:38:29 +0000 2019</td>\n",
       "      <td>None</td>\n",
       "      <td>[]</td>\n",
       "      <td>1095769196334583808</td>\n",
       "      <td>pt</td>\n",
       "      <td>Sao Paulo</td>\n",
       "      <td>{'id': '68e019afec7d0ba5', 'url': 'https://api...</td>\n",
       "      <td>False</td>\n",
       "      <td>...</td>\n",
       "      <td>@CETSP_ Parabens a @CETSP_ pela informacao agi...</td>\n",
       "      <td>[{'url': 'https://t.co/Bj9yznHp2s', 'expanded_...</td>\n",
       "      <td>[{'screen_name': 'CETSP_', 'name': 'CET São Pa...</td>\n",
       "      <td>AnisKfouri</td>\n",
       "      <td>2019-02-13 19:38:29+00:00</td>\n",
       "      <td>2</td>\n",
       "      <td>13</td>\n",
       "      <td>2019</td>\n",
       "      <td>19</td>\n",
       "      <td>38</td>\n",
       "    </tr>\n",
       "    <tr>\n",
       "      <th>2</th>\n",
       "      <td>5c65a16b87963719cb193b6d</td>\n",
       "      <td>None</td>\n",
       "      <td>Thu Feb 14 17:12:06 +0000 2019</td>\n",
       "      <td>None</td>\n",
       "      <td>[]</td>\n",
       "      <td>1096094744248233984</td>\n",
       "      <td>pt</td>\n",
       "      <td>São Paulo - SP</td>\n",
       "      <td>None</td>\n",
       "      <td>False</td>\n",
       "      <td>...</td>\n",
       "      <td>⚽ Embate entre @Corinthians x @RacingClub, pel...</td>\n",
       "      <td>[{'url': 'https://t.co/bqyhsVMMtj', 'expanded_...</td>\n",
       "      <td>[{'screen_name': 'Corinthians', 'name': 'Corin...</td>\n",
       "      <td>CETSP_</td>\n",
       "      <td>2019-02-14 17:12:06+00:00</td>\n",
       "      <td>2</td>\n",
       "      <td>14</td>\n",
       "      <td>2019</td>\n",
       "      <td>17</td>\n",
       "      <td>12</td>\n",
       "    </tr>\n",
       "    <tr>\n",
       "      <th>3</th>\n",
       "      <td>5c65a1de87963719cb193b71</td>\n",
       "      <td>None</td>\n",
       "      <td>Thu Feb 14 17:14:01 +0000 2019</td>\n",
       "      <td>None</td>\n",
       "      <td>[]</td>\n",
       "      <td>1096095226077343744</td>\n",
       "      <td>pt</td>\n",
       "      <td>Embu das Artes - SP - Brasil</td>\n",
       "      <td>None</td>\n",
       "      <td>False</td>\n",
       "      <td>...</td>\n",
       "      <td>@CETSP_ @Corinthians @RacingClub @Sudamericana...</td>\n",
       "      <td>[]</td>\n",
       "      <td>[{'screen_name': 'CETSP_', 'name': 'CET São Pa...</td>\n",
       "      <td>givaldo0769</td>\n",
       "      <td>2019-02-14 17:14:01+00:00</td>\n",
       "      <td>2</td>\n",
       "      <td>14</td>\n",
       "      <td>2019</td>\n",
       "      <td>17</td>\n",
       "      <td>14</td>\n",
       "    </tr>\n",
       "    <tr>\n",
       "      <th>4</th>\n",
       "      <td>5c66824e87963719cb193c49</td>\n",
       "      <td>None</td>\n",
       "      <td>Fri Feb 15 09:11:36 +0000 2019</td>\n",
       "      <td>None</td>\n",
       "      <td>[]</td>\n",
       "      <td>1096336213768843267</td>\n",
       "      <td>pt</td>\n",
       "      <td>Rua Teixeira de Queiroz, 130</td>\n",
       "      <td>{'id': '07d9dcf8fe087000', 'url': 'https://api...</td>\n",
       "      <td>False</td>\n",
       "      <td>...</td>\n",
       "      <td>@CETSP_ bom dia, mais uma vez o farol esta com...</td>\n",
       "      <td>[{'url': 'https://t.co/ALDqKCu0Wi', 'expanded_...</td>\n",
       "      <td>[{'screen_name': 'CETSP_', 'name': 'CET São Pa...</td>\n",
       "      <td>TsamukaT</td>\n",
       "      <td>2019-02-15 09:11:36+00:00</td>\n",
       "      <td>2</td>\n",
       "      <td>15</td>\n",
       "      <td>2019</td>\n",
       "      <td>9</td>\n",
       "      <td>11</td>\n",
       "    </tr>\n",
       "  </tbody>\n",
       "</table>\n",
       "<p>5 rows × 21 columns</p>\n",
       "</div>"
      ],
      "text/plain": [
       "                        _id coordinates                            data   geo  \\\n",
       "0  5c6d9cf587963719cb193f84        None  Wed Feb 20 18:31:12 +0000 2019  None   \n",
       "1  5c64723a87963719cb193a9a        None  Wed Feb 13 19:38:29 +0000 2019  None   \n",
       "2  5c65a16b87963719cb193b6d        None  Thu Feb 14 17:12:06 +0000 2019  None   \n",
       "3  5c65a1de87963719cb193b71        None  Thu Feb 14 17:14:01 +0000 2019  None   \n",
       "4  5c66824e87963719cb193c49        None  Fri Feb 15 09:11:36 +0000 2019  None   \n",
       "\n",
       "  hashtags                   id lang                      location  \\\n",
       "0       []  1098288978099425281   pt                     São Paulo   \n",
       "1       []  1095769196334583808   pt                    Sao Paulo    \n",
       "2       []  1096094744248233984   pt                São Paulo - SP   \n",
       "3       []  1096095226077343744   pt  Embu das Artes - SP - Brasil   \n",
       "4       []  1096336213768843267   pt  Rua Teixeira de Queiroz, 130   \n",
       "\n",
       "                                               place  quoted   ...    \\\n",
       "0                                               None   False   ...     \n",
       "1  {'id': '68e019afec7d0ba5', 'url': 'https://api...   False   ...     \n",
       "2                                               None   False   ...     \n",
       "3                                               None   False   ...     \n",
       "4  {'id': '07d9dcf8fe087000', 'url': 'https://api...   False   ...     \n",
       "\n",
       "                                               texto  \\\n",
       "0  @sergioalberto40 @governosp Boa tarde @sergioa...   \n",
       "1  @CETSP_ Parabens a @CETSP_ pela informacao agi...   \n",
       "2  ⚽ Embate entre @Corinthians x @RacingClub, pel...   \n",
       "3  @CETSP_ @Corinthians @RacingClub @Sudamericana...   \n",
       "4  @CETSP_ bom dia, mais uma vez o farol esta com...   \n",
       "\n",
       "                                                urls  \\\n",
       "0  [{'url': 'https://t.co/Ik1bkKwV3F', 'expanded_...   \n",
       "1  [{'url': 'https://t.co/Bj9yznHp2s', 'expanded_...   \n",
       "2  [{'url': 'https://t.co/bqyhsVMMtj', 'expanded_...   \n",
       "3                                                 []   \n",
       "4  [{'url': 'https://t.co/ALDqKCu0Wi', 'expanded_...   \n",
       "\n",
       "                                       user_mentions      usuario  \\\n",
       "0  [{'screen_name': 'sergioalberto40', 'name': 'S...     DetranSP   \n",
       "1  [{'screen_name': 'CETSP_', 'name': 'CET São Pa...   AnisKfouri   \n",
       "2  [{'screen_name': 'Corinthians', 'name': 'Corin...       CETSP_   \n",
       "3  [{'screen_name': 'CETSP_', 'name': 'CET São Pa...  givaldo0769   \n",
       "4  [{'screen_name': 'CETSP_', 'name': 'CET São Pa...     TsamukaT   \n",
       "\n",
       "             formatted_date mes  dia   ano  hora  minuto  \n",
       "0 2019-02-20 18:31:12+00:00   2   20  2019    18      31  \n",
       "1 2019-02-13 19:38:29+00:00   2   13  2019    19      38  \n",
       "2 2019-02-14 17:12:06+00:00   2   14  2019    17      12  \n",
       "3 2019-02-14 17:14:01+00:00   2   14  2019    17      14  \n",
       "4 2019-02-15 09:11:36+00:00   2   15  2019     9      11  \n",
       "\n",
       "[5 rows x 21 columns]"
      ]
     },
     "execution_count": 55,
     "metadata": {},
     "output_type": "execute_result"
    }
   ],
   "source": [
    "full_data.head()"
   ]
  },
  {
   "cell_type": "code",
   "execution_count": 56,
   "metadata": {},
   "outputs": [
    {
     "data": {
      "text/plain": [
       "54556"
      ]
     },
     "execution_count": 56,
     "metadata": {},
     "output_type": "execute_result"
    }
   ],
   "source": [
    "len(full_data)"
   ]
  },
  {
   "cell_type": "code",
   "execution_count": 57,
   "metadata": {},
   "outputs": [],
   "source": [
    "dias = full_data.groupby(['dia']).count()['_id']"
   ]
  },
  {
   "cell_type": "code",
   "execution_count": 58,
   "metadata": {},
   "outputs": [
    {
     "data": {
      "text/plain": [
       "<matplotlib.axes._subplots.AxesSubplot at 0x7fd4e4b488d0>"
      ]
     },
     "execution_count": 58,
     "metadata": {},
     "output_type": "execute_result"
    },
    {
     "data": {
      "image/png": "[encoded data removed]",
      "text/plain": [
       "<Figure size 432x288 with 1 Axes>"
      ]
     },
     "metadata": {},
     "output_type": "display_data"
    }
   ],
   "source": [
    "%matplotlib inline\n",
    "dias.plot(kind='bar')"
   ]
  },
  {
   "cell_type": "code",
   "execution_count": 70,
   "metadata": {},
   "outputs": [
    {
     "name": "stderr",
     "output_type": "stream",
     "text": [
      "IOPub data rate exceeded.\n",
      "The notebook server will temporarily stop sending output\n",
      "to the client in order to avoid crashing it.\n",
      "To change this limit, set the config variable\n",
      "`--NotebookApp.iopub_data_rate_limit`.\n",
      "\n",
      "Current values:\n",
      "NotebookApp.iopub_data_rate_limit=1000000.0 (bytes/sec)\n",
      "NotebookApp.rate_limit_window=3.0 (secs)\n",
      "\n"
     ]
    }
   ],
   "source": [
    "# Start with one review:\n",
    "text = 'processamento dos dados requer potentes plataformas de hardware, com alta escalabilidade e desempenho'\n",
    "text = \" \".join(texto for texto in full_data[(full_data['dia'] >= 11) & (full_data['dia'] <= 15)].texto)\n",
    "print(text)\n",
    "\n",
    "# Create and generate a word cloud image:\n",
    "#wordcloud = WordCloud(max_font_size=50, max_words=100, background_color=\"white\").generate(text)\n",
    "#plt.figure()\n",
    "#plt.imshow(wordcloud, interpolation=\"bilinear\")\n",
    "#plt.axis(\"off\")\n",
    "#plt.show()"
   ]
  },
  {
   "cell_type": "code",
   "execution_count": null,
   "metadata": {},
   "outputs": [],
   "source": []
  }
 ],
 "metadata": {
  "kernelspec": {
   "display_name": "Python 3",
   "language": "python",
   "name": "python3"
  },
  "language_info": {
   "codemirror_mode": {
    "name": "ipython",
    "version": 3
   },
   "file_extension": ".py",
   "mimetype": "text/x-python",
   "name": "python",
   "nbconvert_exporter": "python",
   "pygments_lexer": "ipython3",
   "version": "3.7.2"
  }
 },
 "nbformat": 4,
 "nbformat_minor": 2
}
